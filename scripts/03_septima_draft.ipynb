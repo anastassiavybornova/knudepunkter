{
 "cells": [
  {
   "attachments": {},
   "cell_type": "markdown",
   "metadata": {},
   "source": [
    "# 03 Preprocess Septima\n",
    "\n",
    "Cut all Septima data to contain only region-excerpts, saved into `../data/processed/{regionname}/{datatype}/{datasetname}.gpkg`, where datapype E [point, line, poly] and datasetname E all septima datasets.\n",
    "\n",
    "This assumes that all data sets from [Septima](https://septima.dk/rida-web/) have been downloaded and saved locally to `data/septima/` (with the same file structure and names as on the website)."
   ]
  },
  {
   "cell_type": "code",
   "execution_count": 1,
   "metadata": {},
   "outputs": [],
   "source": [
    "# basic stuff\n",
    "import os\n",
    "import pandas as pd\n",
    "import numpy as np\n",
    "import matplotlib.pyplot as plt\n",
    "from collections import Counter\n",
    "import pickle\n",
    "\n",
    "# gis stuff\n",
    "os.environ['USE_PYGEOS'] = '0' # pygeos/shapely2.0/osmnx conflict solving\n",
    "import geopandas as gpd\n",
    "import contextily as cx\n",
    "from shapely.geometry import Point, LineString\n",
    "import momepy\n",
    "\n",
    "# network stuff\n",
    "import networkx as nx\n",
    "import osmnx as ox"
   ]
  },
  {
   "attachments": {},
   "cell_type": "markdown",
   "metadata": {},
   "source": [
    "**Import region boundaries and create subfolders**"
   ]
  },
  {
   "cell_type": "code",
   "execution_count": 2,
   "metadata": {},
   "outputs": [],
   "source": [
    "regions = [\"stevns\", \"skjern\", \"aabenraa\"]\n",
    "\n",
    "polydict = {}\n",
    "for region in regions:\n",
    "    polydict[region] = gpd.read_file(f\"../data/processed/{region}/region.gpkg\").loc[0,\"geometry\"]"
   ]
  },
  {
   "cell_type": "code",
   "execution_count": 11,
   "metadata": {},
   "outputs": [],
   "source": [
    "# Subfolders for regions\n",
    "for region in regions:\n",
    "    os.makedirs(f\"../data/processed/{region}/poly/\", exist_ok=True)\n",
    "    os.makedirs(f\"../data/processed/{region}/line/\", exist_ok=True)\n",
    "    os.makedirs(f\"../data/processed/{region}/point/\", exist_ok=True)"
   ]
  },
  {
   "attachments": {},
   "cell_type": "markdown",
   "metadata": {},
   "source": [
    "***\n",
    "# Cut all polygon data"
   ]
  },
  {
   "attachments": {},
   "cell_type": "markdown",
   "metadata": {},
   "source": [
    "**Arealanvendelse**"
   ]
  },
  {
   "cell_type": "code",
   "execution_count": 80,
   "metadata": {},
   "outputs": [],
   "source": [
    "gdf = gpd.read_file(\"../data/septima/Arealanvendelse/land_anvendelse/land_anvendelse.shp\")\n",
    "\n",
    "gdf.drop([\"tmp_id\", \"kilde\"], axis = 1, inplace = True)\n",
    "\n",
    "gdf = gdf.explode(index_parts = False)\n",
    "\n",
    "for region in regions:\n",
    "    gdf_cut = gdf[gdf.covered_by(polydict[region])].copy().reset_index(drop=True)\n",
    "    gdf_cut.to_file(f\"../data/processed/{region}/poly/areal.gpkg\", index = False)\n",
    "\n",
    "del(gdf, gdf_cut)"
   ]
  },
  {
   "attachments": {},
   "cell_type": "markdown",
   "metadata": {},
   "source": [
    "**Ejerskab**"
   ]
  },
  {
   "cell_type": "code",
   "execution_count": 74,
   "metadata": {},
   "outputs": [],
   "source": [
    "gdf = gpd.read_file(\"../data/septima/Ejerskab/land_ejerskab/land_ejerskab.shp\")\n",
    "\n",
    "gdf.drop([\"tmp_id\", \"gruppe\", \"kilde\", \"importeret\"], axis = 1, inplace = True)\n",
    "\n",
    "gdf = gdf.explode(index_parts = False)\n",
    "\n",
    "for region in regions:\n",
    "    gdf_cut = gdf[gdf.covered_by(polydict[region])].copy().reset_index(drop=True)\n",
    "\n",
    "    gdf_cut.to_file(f\"../data/processed/{region}/poly/ejerskab.gpkg\", index = False)\n",
    "\n",
    "del(gdf, gdf_cut)"
   ]
  },
  {
   "attachments": {},
   "cell_type": "markdown",
   "metadata": {},
   "source": [
    "**Landskaber**"
   ]
  },
  {
   "cell_type": "code",
   "execution_count": 83,
   "metadata": {},
   "outputs": [],
   "source": [
    "# BESKYTTET NATUR\n",
    "gdf = gpd.read_file(\"../data/septima/Landskaber og beskyttet natur/land_beskyttnatur_flade/land_beskyttnatur_flade.shp\")\n",
    "gdf.drop([\"tmp_id\", \"refid\", \"type\", \"kilde\", \"importeret\"], axis = 1, inplace = True)\n",
    "gdf = gdf.explode(index_parts = False)\n",
    "\n",
    "for region in regions:\n",
    "    gdf_cut = gdf[gdf.covered_by(polydict[region])].copy().reset_index(drop=True)\n",
    "\n",
    "    gdf_cut.to_file(f\"../data/processed/{region}/poly/beskyttet-natur.gpkg\", index = False)\n",
    "del(gdf, gdf_cut)"
   ]
  },
  {
   "cell_type": "code",
   "execution_count": 92,
   "metadata": {},
   "outputs": [],
   "source": [
    "# NATURPARK\n",
    "gdf = gpd.read_file(\"../data/septima/Landskaber og beskyttet natur/land_frednatpark/land_frednatpark.shp\")\n",
    "gdf.drop([\"tmp_id\", \"refid\", \"kilde\", \"importeret\"], axis = 1, inplace = True)\n",
    "gdf = gdf.explode(index_parts = False)\n",
    "\n",
    "for region in regions:\n",
    "    gdf_cut = gdf[gdf.covered_by(polydict[region])].copy().reset_index(drop=True)\n",
    "\n",
    "    gdf_cut.to_file(f\"../data/processed/{region}/poly/natpark.gpkg\", index = False)\n",
    "del(gdf, gdf_cut)"
   ]
  },
  {
   "cell_type": "code",
   "execution_count": 103,
   "metadata": {},
   "outputs": [],
   "source": [
    "# VAERDIFULD\n",
    "gdf = gpd.read_file(\"../data/septima/Landskaber og beskyttet natur/land_vaerdifuld/land_vaerdifuld.shp\")\n",
    "\n",
    "gdf.drop([\"tmp_id\", \"refid\", \"cvrname\", \"komnr\"], axis = 1, inplace = True)\n",
    "\n",
    "gdf = gdf.explode(index_parts = False)\n",
    "\n",
    "for region in regions:\n",
    "    gdf_cut = gdf[gdf.covered_by(polydict[region])].copy().reset_index(drop=True)\n",
    "    gdf_cut.to_file(f\"../data/processed/{region}/poly/vaerdifuld.gpkg\", index = False)\n",
    "\n",
    "del(gdf, gdf_cut)\n"
   ]
  },
  {
   "attachments": {},
   "cell_type": "markdown",
   "metadata": {},
   "source": [
    "**Merge *beskyttet natur* and *naturparken***"
   ]
  },
  {
   "cell_type": "code",
   "execution_count": 97,
   "metadata": {},
   "outputs": [],
   "source": [
    "for region in regions:\n",
    "    gdf1 = gpd.read_file(f\"../data/processed/{region}/poly/natpark.gpkg\")[[\"geometry\"]]\n",
    "    gdf2 = gpd.read_file(f\"../data/processed/{region}/poly/beskyttet-natur.gpkg\")\n",
    "    if gdf1.crs == gdf2.crs:\n",
    "        poly1 = gdf1.unary_union\n",
    "        poly2 = gdf2.unary_union\n",
    "        gdf = gpd.GeoDataFrame({\n",
    "            \"geometry\": [gpd.GeoDataFrame({\n",
    "                \"geometry\": [poly1, poly2]}, crs = gdf1.crs).unary_union]}, crs = gdf1.crs).explode(index_parts=False)\n",
    "        gdf.to_file(f\"../data/processed/{region}/poly/nature.gpkg\", index = False)\n",
    "        del(gdf, gdf1, gdf2, poly1, poly2)"
   ]
  },
  {
   "attachments": {},
   "cell_type": "markdown",
   "metadata": {},
   "source": [
    "***\n",
    "# Cut all point data"
   ]
  },
  {
   "attachments": {},
   "cell_type": "markdown",
   "metadata": {},
   "source": [
    "**Attraktioner**"
   ]
  },
  {
   "cell_type": "code",
   "execution_count": 165,
   "metadata": {},
   "outputs": [],
   "source": [
    "beso = gpd.read_file(\"../data/septima/Attraktioner/land_besoegs/land_besoegs.shp\")\n",
    "beso = beso[[\"type\", \"geometry\"]]\n",
    "beso[\"land_type\"] = \"besoegs\""
   ]
  },
  {
   "cell_type": "code",
   "execution_count": 166,
   "metadata": {},
   "outputs": [],
   "source": [
    "fort = gpd.read_file(\"../data/septima/Attraktioner/land_fortid/land_fortid.shp\")\n",
    "fort = fort[[\"type\", \"geometry\"]]\n",
    "fort[\"land_type\"] = \"fortid\""
   ]
  },
  {
   "cell_type": "code",
   "execution_count": 167,
   "metadata": {},
   "outputs": [],
   "source": [
    "merk = gpd.read_file(\"../data/septima/Attraktioner/land_landemaerke/land_landemaerke.shp\")\n",
    "merk = merk[[\"type\", \"geometry\"]]\n",
    "merk[\"land_type\"] = \"landemaerke\""
   ]
  },
  {
   "cell_type": "code",
   "execution_count": 169,
   "metadata": {},
   "outputs": [],
   "source": [
    "udfl = gpd.read_file(\"../data/septima/Attraktioner/land_udflugt/land_udflugt.shp\")\n",
    "udfl = udfl[[\"type\", \"geometry\"]]\n",
    "udfl[\"land_type\"] = \"udflugt\""
   ]
  },
  {
   "cell_type": "code",
   "execution_count": 170,
   "metadata": {},
   "outputs": [],
   "source": [
    "gdf = pd.concat([beso,fort,merk,udfl]).explode(index_parts=False).reset_index(drop=True)"
   ]
  },
  {
   "cell_type": "code",
   "execution_count": 173,
   "metadata": {},
   "outputs": [],
   "source": [
    "for region in regions:\n",
    "    gdf_cut = gdf[gdf.covered_by(polydict[region])].copy().reset_index(drop=True)\n",
    "    gdf_cut.to_file(f\"../data/processed/{region}/point/attraktioner.gpkg\", index = False)\n",
    "del(gdf, gdf_cut)"
   ]
  },
  {
   "attachments": {},
   "cell_type": "markdown",
   "metadata": {},
   "source": [
    "**Faciliteter**"
   ]
  },
  {
   "cell_type": "code",
   "execution_count": 156,
   "metadata": {},
   "outputs": [],
   "source": [
    "indkoeb = gpd.read_file(\"../data/septima/Faciliteter/facilit_indkoeb/facilit_indkoeb.shp\")\n",
    "indkoeb = indkoeb[[\"type\", \"geometry\"]]\n",
    "indkoeb[\"facility_type\"] = \"indkoeb\""
   ]
  },
  {
   "cell_type": "code",
   "execution_count": 157,
   "metadata": {},
   "outputs": [],
   "source": [
    "overnat = gpd.read_file(\"../data/septima/Faciliteter/facilit_overnatning/facilit_overnatning.shp\")\n",
    "overnat = overnat[[\"type\", \"geometry\"]]\n",
    "overnat[\"facility_type\"] = \"overnatning\""
   ]
  },
  {
   "cell_type": "code",
   "execution_count": 158,
   "metadata": {},
   "outputs": [],
   "source": [
    "raste = gpd.read_file(\"../data/septima/Faciliteter/facilit_rasteplads/facilit_rasteplads.shp\")\n",
    "raste = raste[[\"type\", \"geometry\"]]\n",
    "raste[\"facility_type\"] = \"rasteplads\""
   ]
  },
  {
   "cell_type": "code",
   "execution_count": 159,
   "metadata": {},
   "outputs": [],
   "source": [
    "serv = gpd.read_file(\"../data/septima/Faciliteter/facilit_service/facilit_service.shp\")\n",
    "serv = serv[[\"type\", \"geometry\"]]\n",
    "serv[\"facility_type\"] = \"service\""
   ]
  },
  {
   "cell_type": "code",
   "execution_count": 163,
   "metadata": {},
   "outputs": [],
   "source": [
    "gdf = pd.concat([serv,raste,overnat,indkoeb]).explode(index_parts=False).reset_index(drop=True)"
   ]
  },
  {
   "cell_type": "code",
   "execution_count": 164,
   "metadata": {},
   "outputs": [],
   "source": [
    "for region in regions:\n",
    "    gdf_cut = gdf[gdf.covered_by(polydict[region])].copy().reset_index(drop=True)\n",
    "    gdf_cut.to_file(f\"../data/processed/{region}/point/faciliteter.gpkg\", index = False)\n",
    "del(gdf, gdf_cut)"
   ]
  },
  {
   "attachments": {},
   "cell_type": "markdown",
   "metadata": {},
   "source": [
    "***\n",
    "# Cut all line data"
   ]
  },
  {
   "attachments": {},
   "cell_type": "markdown",
   "metadata": {},
   "source": [
    "**Hastighedsgrænser**"
   ]
  },
  {
   "cell_type": "code",
   "execution_count": null,
   "metadata": {},
   "outputs": [],
   "source": [
    "# DATA ISSUE"
   ]
  },
  {
   "attachments": {},
   "cell_type": "markdown",
   "metadata": {},
   "source": [
    "**Beskyttet natur linje**"
   ]
  },
  {
   "cell_type": "code",
   "execution_count": 14,
   "metadata": {},
   "outputs": [],
   "source": [
    "gdf = gpd.read_file(\"../data/septima/Landskaber og beskyttet natur/land_beskyttnatur_linje/land_beskyttnatur_linje.shp\")\n",
    "\n",
    "gdf = gdf[[\"type\", \"geometry\"]]\n",
    "\n",
    "gdf = gdf.explode(index_parts = False)\n",
    "\n",
    "\n",
    "for region in regions:\n",
    "    gdf_cut = gdf[gdf.covered_by(polydict[region])].copy().reset_index(drop=True)\n",
    "    gdf_cut.to_file(f\"../data/processed/{region}/line/vandlob.gpkg\", index = False)\n",
    "del(gdf, gdf_cut)"
   ]
  },
  {
   "attachments": {},
   "cell_type": "markdown",
   "metadata": {},
   "source": [
    "**Skiltede ruter**"
   ]
  },
  {
   "cell_type": "code",
   "execution_count": 27,
   "metadata": {},
   "outputs": [],
   "source": [
    "### CYKEL\n",
    "\n",
    "gdf = gpd.read_file(\"../data/septima/Skiltede ruter/rute_cykel/rute_cykel.shp\")\n",
    "\n",
    "gdf = gdf[\"geometry\"]\n",
    "\n",
    "gdf = gdf.explode(index_parts=False)\n",
    "\n",
    "for region in regions:\n",
    "    gdf_cut = gdf[gdf.covered_by(polydict[region])].copy().reset_index(drop=True)\n",
    "    gdf_cut.to_file(f\"../data/processed/{region}/line/cykelrute.gpkg\", index = False)\n",
    "del(gdf, gdf_cut)"
   ]
  },
  {
   "cell_type": "code",
   "execution_count": 31,
   "metadata": {},
   "outputs": [],
   "source": [
    "### VANDRE \n",
    "\n",
    "gdf = gpd.read_file(\"../data/septima/Skiltede ruter/rute_vandre/rute_vandre.shp\")\n",
    "gdf = gdf[\"geometry\"]\n",
    "gdf = gdf.explode(index_parts=False)\n",
    "for region in regions:\n",
    "    gdf_cut = gdf[gdf.covered_by(polydict[region])].copy().reset_index(drop=True)\n",
    "    gdf_cut.to_file(f\"../data/processed/{region}/line/vandrerute.gpkg\", index = False)\n",
    "del(gdf, gdf_cut)"
   ]
  },
  {
   "cell_type": "code",
   "execution_count": 56,
   "metadata": {},
   "outputs": [],
   "source": [
    "### MARG\n",
    "\n",
    "gdf = gpd.read_file(\"../data/septima/Skiltede ruter/rute_anden/rute_anden.shp\")\n",
    "gdf = gdf[\"geometry\"]\n",
    "gdf = gdf.explode(index_parts=False)\n",
    "for region in regions:\n",
    "    gdf_cut = gdf[gdf.covered_by(polydict[region])].copy().reset_index(drop=True)\n",
    "    gdf_cut.to_file(f\"../data/processed/{region}/line/margrute.gpkg\", index = False)\n",
    "del(gdf, gdf_cut)"
   ]
  },
  {
   "attachments": {},
   "cell_type": "markdown",
   "metadata": {},
   "source": [
    "**Vejmyndighed**"
   ]
  },
  {
   "cell_type": "code",
   "execution_count": 12,
   "metadata": {},
   "outputs": [],
   "source": [
    "gdf = gpd.read_file(\"../data/septima/Vejmyndighed/vej_myndighed/vej_myndighed.shp\")\n",
    "\n",
    "gdf = gdf[[\"type\", \"geometry\"]]\n",
    "gdf = gdf.explode(index_parts=False)\n",
    "for region in regions:\n",
    "    gdf_cut = gdf[gdf.covered_by(polydict[region])].copy().reset_index(drop=True)\n",
    "    gdf_cut.to_file(f\"../data/processed/{region}/line/myndighed.gpkg\", index = False)\n",
    "del(gdf, gdf_cut)"
   ]
  },
  {
   "attachments": {},
   "cell_type": "markdown",
   "metadata": {},
   "source": [
    "**Vejtyper**"
   ]
  },
  {
   "cell_type": "code",
   "execution_count": 57,
   "metadata": {},
   "outputs": [],
   "source": [
    "gdf = gpd.read_file(\"../data/septima/Vejtyper/vej_type/vej_type.shp\")\n",
    "gdf = gdf[[\"gruppe\", \"type\", \"geometry\"]]\n",
    "gdf = gdf.explode(index_parts=False)\n",
    "for region in regions:\n",
    "    gdf_cut = gdf[gdf.covered_by(polydict[region])].copy().reset_index(drop=True)\n",
    "    gdf_cut.to_file(f\"../data/processed/{region}/line/vejtype.gpkg\", index = False)\n",
    "del(gdf, gdf_cut)"
   ]
  },
  {
   "attachments": {},
   "cell_type": "markdown",
   "metadata": {},
   "source": [
    "**Vej basislinje**\n",
    "same as vej_type but not classified (?)"
   ]
  },
  {
   "cell_type": "code",
   "execution_count": 59,
   "metadata": {},
   "outputs": [],
   "source": [
    "# gdf = gpd.read_file(\"../data/septima/Vejtyper/vej_basislinje/vej_basislinje.shp\")"
   ]
  }
 ],
 "metadata": {
  "kernelspec": {
   "display_name": "OSMNX",
   "language": "python",
   "name": "python3"
  },
  "language_info": {
   "codemirror_mode": {
    "name": "ipython",
    "version": 3
   },
   "file_extension": ".py",
   "mimetype": "text/x-python",
   "name": "python",
   "nbconvert_exporter": "python",
   "pygments_lexer": "ipython3",
   "version": "3.9.15"
  },
  "orig_nbformat": 4,
  "vscode": {
   "interpreter": {
    "hash": "35f35e1f0bb92e7ac05765c87ada263d1a2173e12d4a4460e46e5d1567b982a5"
   }
  }
 },
 "nbformat": 4,
 "nbformat_minor": 2
}
