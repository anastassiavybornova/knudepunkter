{
 "cells": [
  {
   "attachments": {},
   "cell_type": "markdown",
   "metadata": {},
   "source": [
    "# M1N Folkersma, pt 1\n",
    "\n",
    "**Data source:** email from Folkersma\n",
    "\n",
    "**Processing objective:** obtain a (routable!), fully connected network object for each of the 3 regions in the data set\n",
    "\n",
    "**Processing steps:**\n",
    "\n",
    "Workflow to create a network from Folkersma data.\n",
    "* **Step 1 (Python): from raw data to QGIS input**\n",
    "* **Step 2 (QGIS): from QGIS input to nx input**\n",
    "* Step 3 (Python): from nx input to graph object\n",
    "\n",
    "## Step 1"
   ]
  },
  {
   "cell_type": "code",
   "execution_count": 1,
   "metadata": {},
   "outputs": [],
   "source": [
    "# Load libraries\n",
    "import numpy as np\n",
    "import os\n",
    "# import pandas as pd\n",
    "os.environ['USE_PYGEOS'] = '0'\n",
    "import geopandas as gpd\n",
    "# import shapely\n",
    "# from shapely.geometry import Point, LineString, MultiLineString\n",
    "# from collections import Counter\n",
    "# import matplotlib.pyplot as plt\n",
    "# import networkx as nx"
   ]
  },
  {
   "attachments": {},
   "cell_type": "markdown",
   "metadata": {},
   "source": [
    "**0. Define proj crs!!**"
   ]
  },
  {
   "cell_type": "code",
   "execution_count": 2,
   "metadata": {},
   "outputs": [],
   "source": [
    "proj_crs = \"EPSG:25832\""
   ]
  },
  {
   "attachments": {},
   "cell_type": "markdown",
   "metadata": {},
   "source": [
    "**1. Read in data**"
   ]
  },
  {
   "cell_type": "code",
   "execution_count": 3,
   "metadata": {},
   "outputs": [],
   "source": [
    "gdf = gpd.read_file(\"../../data/folkersma/raw/stretch.shp\")"
   ]
  },
  {
   "attachments": {},
   "cell_type": "markdown",
   "metadata": {},
   "source": [
    "**2. Check CRS and convert to projected**"
   ]
  },
  {
   "cell_type": "code",
   "execution_count": 4,
   "metadata": {},
   "outputs": [],
   "source": [
    "# assert gdf.crs is not None, \"crs must be set!\"\n",
    "gdf = gdf.set_crs(\"EPSG:4326\")\n",
    "gdf = gdf.to_crs(proj_crs)"
   ]
  },
  {
   "attachments": {},
   "cell_type": "markdown",
   "metadata": {},
   "source": [
    "**3. Check data set features**"
   ]
  },
  {
   "cell_type": "code",
   "execution_count": 5,
   "metadata": {},
   "outputs": [
    {
     "data": {
      "text/html": [
       "<div>\n",
       "<style scoped>\n",
       "    .dataframe tbody tr th:only-of-type {\n",
       "        vertical-align: middle;\n",
       "    }\n",
       "\n",
       "    .dataframe tbody tr th {\n",
       "        vertical-align: top;\n",
       "    }\n",
       "\n",
       "    .dataframe thead th {\n",
       "        text-align: right;\n",
       "    }\n",
       "</style>\n",
       "<table border=\"1\" class=\"dataframe\">\n",
       "  <thead>\n",
       "    <tr style=\"text-align: right;\">\n",
       "      <th></th>\n",
       "      <th>id</th>\n",
       "      <th>UUID</th>\n",
       "      <th>status</th>\n",
       "      <th>rating</th>\n",
       "      <th>region</th>\n",
       "      <th>stretch</th>\n",
       "      <th>private</th>\n",
       "      <th>oneway</th>\n",
       "      <th>roadsurfac</th>\n",
       "      <th>length</th>\n",
       "      <th>comment</th>\n",
       "      <th>geometry</th>\n",
       "    </tr>\n",
       "  </thead>\n",
       "  <tbody>\n",
       "    <tr>\n",
       "      <th>0</th>\n",
       "      <td>1834</td>\n",
       "      <td>l1834</td>\n",
       "      <td>Concept</td>\n",
       "      <td>1.0</td>\n",
       "      <td>NÃ¦stved</td>\n",
       "      <td>00-00</td>\n",
       "      <td>0.0</td>\n",
       "      <td>1.0</td>\n",
       "      <td>0.0</td>\n",
       "      <td>0.029656</td>\n",
       "      <td>NaN</td>\n",
       "      <td>LINESTRING (675365.070 6123560.480, 675365.580...</td>\n",
       "    </tr>\n",
       "    <tr>\n",
       "      <th>1</th>\n",
       "      <td>1766</td>\n",
       "      <td>l1766</td>\n",
       "      <td>Concept</td>\n",
       "      <td>1.0</td>\n",
       "      <td>NÃ¦stved</td>\n",
       "      <td>00-00</td>\n",
       "      <td>0.0</td>\n",
       "      <td>1.0</td>\n",
       "      <td>0.0</td>\n",
       "      <td>1.528090</td>\n",
       "      <td>NaN</td>\n",
       "      <td>LINESTRING (674260.732 6124551.179, 674266.410...</td>\n",
       "    </tr>\n",
       "    <tr>\n",
       "      <th>2</th>\n",
       "      <td>1836</td>\n",
       "      <td>l1836</td>\n",
       "      <td>Concept</td>\n",
       "      <td>1.0</td>\n",
       "      <td>NÃ¦stved</td>\n",
       "      <td>00-00</td>\n",
       "      <td>0.0</td>\n",
       "      <td>1.0</td>\n",
       "      <td>0.0</td>\n",
       "      <td>0.048249</td>\n",
       "      <td>NaN</td>\n",
       "      <td>LINESTRING (675370.180 6123535.010, 675367.890...</td>\n",
       "    </tr>\n",
       "  </tbody>\n",
       "</table>\n",
       "</div>"
      ],
      "text/plain": [
       "     id   UUID   status  rating    region stretch  private  oneway   \n",
       "0  1834  l1834  Concept     1.0  NÃ¦stved   00-00      0.0     1.0  \\\n",
       "1  1766  l1766  Concept     1.0  NÃ¦stved   00-00      0.0     1.0   \n",
       "2  1836  l1836  Concept     1.0  NÃ¦stved   00-00      0.0     1.0   \n",
       "\n",
       "   roadsurfac    length comment   \n",
       "0         0.0  0.029656     NaN  \\\n",
       "1         0.0  1.528090     NaN   \n",
       "2         0.0  0.048249     NaN   \n",
       "\n",
       "                                            geometry  \n",
       "0  LINESTRING (675365.070 6123560.480, 675365.580...  \n",
       "1  LINESTRING (674260.732 6124551.179, 674266.410...  \n",
       "2  LINESTRING (675370.180 6123535.010, 675367.890...  "
      ]
     },
     "execution_count": 5,
     "metadata": {},
     "output_type": "execute_result"
    }
   ],
   "source": [
    "gdf.head(3)"
   ]
  },
  {
   "cell_type": "code",
   "execution_count": 6,
   "metadata": {},
   "outputs": [],
   "source": [
    "### only columns to keep: rating and geometry\n",
    "gdf = gdf[[\"rating\", \"geometry\"]]"
   ]
  },
  {
   "attachments": {},
   "cell_type": "markdown",
   "metadata": {},
   "source": [
    "**4. Assert: one linestring geometry per row**"
   ]
  },
  {
   "cell_type": "code",
   "execution_count": 7,
   "metadata": {},
   "outputs": [],
   "source": [
    "gdf = gdf.explode(index_parts = False).reset_index(drop=True)\n",
    "assert all(gdf.geometry.type==\"LineString\")\n",
    "assert all(gdf.geometry.is_valid)"
   ]
  },
  {
   "attachments": {},
   "cell_type": "markdown",
   "metadata": {},
   "source": [
    "**5. Save temporary file for QGIS processing**"
   ]
  },
  {
   "cell_type": "code",
   "execution_count": 8,
   "metadata": {},
   "outputs": [],
   "source": [
    "gdf.to_file(\"../../data/folkersma/processed/qgis_input.gpkg\", index = False)"
   ]
  },
  {
   "attachments": {},
   "cell_type": "markdown",
   "metadata": {},
   "source": [
    "***\n",
    "***\n",
    "## Step 2 (in QGIS)\n",
    "\n",
    "**6. Add nodes at all intersections (\"split with lines\") and snap endpoints to each other**\n"
   ]
  },
  {
   "cell_type": "code",
   "execution_count": 9,
   "metadata": {},
   "outputs": [],
   "source": [
    "from qgis.core import *\n",
    "from PyQt5.QtCore import QVariant"
   ]
  },
  {
   "cell_type": "code",
   "execution_count": 10,
   "metadata": {},
   "outputs": [],
   "source": [
    "myinputfile = \"../../data/folkersma/processed/qgis_input.gpkg\"\n",
    "myoutputfile = \"../../data/folkersma/processed/qgis_output.gpkg\""
   ]
  },
  {
   "cell_type": "code",
   "execution_count": 11,
   "metadata": {},
   "outputs": [],
   "source": [
    "# SETTINGS FOR SNAPPING\n",
    "mytolerance = 5\n",
    "mybehaviour = 6"
   ]
  },
  {
   "cell_type": "code",
   "execution_count": 12,
   "metadata": {},
   "outputs": [
    {
     "name": "stderr",
     "output_type": "stream",
     "text": [
      "qt.qpa.fonts: Populating font family aliases took 242 ms. Replace uses of missing font family \"Open Sans\" with one that exists to avoid this cost. \n"
     ]
    }
   ],
   "source": [
    "# output of running `QgsApplication.prefixPath()` in the Python Console of QGIS\n",
    "myprefix = '/Applications/QGIS-LTR.app/Contents/MacOS'\n",
    "\n",
    "# Supply path to qgis install location\n",
    "QgsApplication.setPrefixPath(\n",
    "    myprefix, \n",
    "    False # use default paths\n",
    "    )\n",
    "\n",
    "# Create a reference to the QgsApplication. \n",
    "qgs = QgsApplication(\n",
    "    [], \n",
    "    False # do *not* use GUI\n",
    "    )\n",
    "\n",
    "# Load providers\n",
    "qgs.initQgis()"
   ]
  },
  {
   "cell_type": "code",
   "execution_count": 13,
   "metadata": {},
   "outputs": [],
   "source": [
    "# import and initialize processing\n",
    "import processing\n",
    "from processing.core.Processing import Processing\n",
    "Processing.initialize()"
   ]
  },
  {
   "cell_type": "code",
   "execution_count": 14,
   "metadata": {},
   "outputs": [
    {
     "name": "stdout",
     "output_type": "stream",
     "text": [
      "done: split with lines\n"
     ]
    }
   ],
   "source": [
    "# Run processing algorithm \"split with lines\"\n",
    "temp_out_split = processing.run(\n",
    "   \"native:splitwithlines\",\n",
    "       {\n",
    "           'INPUT':myinputfile,\n",
    "           'LINES':myinputfile,\n",
    "           'OUTPUT':'TEMPORARY_OUTPUT'\n",
    "       }\n",
    "   )\n",
    "print(\"done: split with lines\")\n"
   ]
  },
  {
   "attachments": {},
   "cell_type": "markdown",
   "metadata": {},
   "source": [
    "**Snap geometries**"
   ]
  },
  {
   "cell_type": "code",
   "execution_count": 15,
   "metadata": {},
   "outputs": [
    {
     "name": "stdout",
     "output_type": "stream",
     "text": [
      "done: snapped with tolerance 5, behaviour 6\n"
     ]
    }
   ],
   "source": [
    "# snap\n",
    "temp_out_snap = processing.run(\n",
    "    \"native:snapgeometries\",\n",
    "        {\n",
    "            'INPUT':temp_out_split[\"OUTPUT\"],\n",
    "            'REFERENCE_LAYER':temp_out_split[\"OUTPUT\"],\n",
    "            'TOLERANCE':mytolerance,\n",
    "            'BEHAVIOR':mybehaviour,\n",
    "            'OUTPUT':'TEMPORARY_OUTPUT'\n",
    "         }\n",
    "    )\n",
    "print(f\"done: snapped with tolerance {mytolerance}, behaviour {mybehaviour}\")\n"
   ]
  },
  {
   "attachments": {},
   "cell_type": "markdown",
   "metadata": {},
   "source": [
    "**Check validity**"
   ]
  },
  {
   "cell_type": "code",
   "execution_count": 16,
   "metadata": {},
   "outputs": [
    {
     "name": "stdout",
     "output_type": "stream",
     "text": [
      "done: validity check\n"
     ]
    }
   ],
   "source": [
    "temp_out_validity = processing.run(\n",
    "    \"qgis:checkvalidity\",\n",
    "        {\n",
    "            'INPUT_LAYER': temp_out_snap[\"OUTPUT\"],\n",
    "            'METHOD': 2,\n",
    "            'IGNORE_RING_SELF_INTERSECTION': False,\n",
    "            'VALID_OUTPUT': 'TEMPORARY_OUTPUT',\n",
    "            'INVALID_OUTPUT':None,\n",
    "            'ERROR_OUTPUT':None\n",
    "        }\n",
    "    )\n",
    "print(\"done: validity check\")"
   ]
  },
  {
   "attachments": {},
   "cell_type": "markdown",
   "metadata": {},
   "source": [
    "**Delete linestrings of just 1 point**"
   ]
  },
  {
   "cell_type": "code",
   "execution_count": 17,
   "metadata": {},
   "outputs": [
    {
     "name": "stdout",
     "output_type": "stream",
     "text": [
      "layer supports deletion\n",
      "done: delete linestrings with length 0\n"
     ]
    }
   ],
   "source": [
    "vlayer = temp_out_validity[\"VALID_OUTPUT\"]\n",
    "layer_provider=vlayer.dataProvider()\n",
    "\n",
    "# add a \"mylength\" colum to the attribute table\n",
    "layer_provider.addAttributes([QgsField(\"mylength\",QVariant.Double)])\n",
    "vlayer.updateFields()\n",
    "\n",
    "# fill \"mylength\" column with length values\n",
    "vlayer.startEditing()\n",
    "for f in vlayer.getFeatures():\n",
    "    id=f.id()\n",
    "    length=f.geometry().length()\n",
    "    attr_value={2:length}\n",
    "    layer_provider.changeAttributeValues({id:attr_value})\n",
    "vlayer.commitChanges()\n",
    "\n",
    "# find strings with length 0\n",
    "expression = 'mylength = 0'\n",
    "request = QgsFeatureRequest().setFilterExpression(expression)\n",
    "matches = []\n",
    "for f in vlayer.getFeatures(request):\n",
    "   matches.append(f[\"fid\"])\n",
    "\n",
    "# erase length 0 strings\n",
    "if vlayer.dataProvider().capabilities() & QgsVectorDataProvider.DeleteFeatures:\n",
    "    print(\"layer supports deletion\")\n",
    "    res = vlayer.dataProvider().deleteFeatures(matches)\n",
    "\n",
    "# delete \"mylength\" field\n",
    "vlayer.dataProvider().deleteAttributes([0, 2])\n",
    "\n",
    "print(\"done: delete linestrings with length 0\")\n"
   ]
  },
  {
   "attachments": {},
   "cell_type": "markdown",
   "metadata": {},
   "source": [
    "**Export results**"
   ]
  },
  {
   "cell_type": "code",
   "execution_count": 18,
   "metadata": {},
   "outputs": [
    {
     "data": {
      "text/plain": [
       "{'OUTPUT': '../../data/folkersma/processed/qgis_output.gpkg',\n",
       " 'OUTPUT_LAYERS': ['../../data/folkersma/processed/qgis_output.gpkg|layername=Valid output']}"
      ]
     },
     "execution_count": 18,
     "metadata": {},
     "output_type": "execute_result"
    }
   ],
   "source": [
    "processing.run(\n",
    "    \"native:package\",\n",
    "        {\n",
    "            'LAYERS': vlayer,\n",
    "            'OUTPUT': myoutputfile,\n",
    "            'OVERWRITE':True,\n",
    "            'SAVE_STYLES':False,\n",
    "            'SAVE_METADATA':True,\n",
    "            'SELECTED_FEATURES_ONLY':False,\n",
    "            'EXPORT_RELATED_LAYERS':False\n",
    "        }\n",
    "    )"
   ]
  },
  {
   "cell_type": "code",
   "execution_count": 19,
   "metadata": {},
   "outputs": [],
   "source": [
    "qgs.exitQgis()"
   ]
  }
 ],
 "metadata": {
  "kernelspec": {
   "display_name": "OSMNX",
   "language": "python",
   "name": "python3"
  },
  "language_info": {
   "codemirror_mode": {
    "name": "ipython",
    "version": 3
   },
   "file_extension": ".py",
   "mimetype": "text/x-python",
   "name": "python",
   "nbconvert_exporter": "python",
   "pygments_lexer": "ipython3",
   "version": "3.9.16"
  },
  "orig_nbformat": 4
 },
 "nbformat": 4,
 "nbformat_minor": 2
}
