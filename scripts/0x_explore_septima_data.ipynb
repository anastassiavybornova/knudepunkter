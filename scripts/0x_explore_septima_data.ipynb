{
 "cells": [
  {
   "attachments": {},
   "cell_type": "markdown",
   "metadata": {},
   "source": [
    "# Exploring Septima data layers\n",
    "\n",
    "**Source:** https://septima.dk/rida-web/\n",
    "\n",
    "**Access:** see slack 2023-06-15\n",
    "\n",
    "**Data preparation:**\n",
    "\n",
    "* make a folder `data/_septima` (will be gitignored)\n",
    "* make one folder `data/_septima/<CATEGORY>` where `<CATEGORY>` is replaced by the Septima RIDA data categories as found on the website (e.g. \"Vejtyper\", \"Landskaber og beskyttet natur\", etc.)\n",
    "* download all `.zip` files from https://septima.dk/rida-web/ into their correspoding subfolder\n",
    "\n",
    "Or, better, to reproduce without downloading yourself:\n",
    "* make a folder `data/_septima` (will be gitignored)\n",
    "* paste the contents of [this Dropbox folder](https://www.dropbox.com/sh/48lcq0ahs9rkotq/AAAT3aPY45f-K3Z6GLpqrC16a?dl=0) there\n",
    "\n",
    "**Goal of this notebook**\n",
    "\n",
    "* Explore all categories and subcategories within the WFS layers; \n",
    "* create an overview of all data categories available (see sheets 1 and 2 of the [googlesheet here](https://docs.google.com/spreadsheets/d/19oPiRxOglcvQkEgUipIW7I29kDV0PbKkuJzRGNrAy38/edit?usp=sharing))\n",
    "* final goal: decide which of the data layers we keep for our knudepunkter evaluation\n",
    "\n",
    "**Workflow below**:\n",
    "\n",
    "For each of the `.zip` files,\n",
    "* import it\n",
    "* explore its categories and subcategories, + geometry types, and note down in googlesheet\n"
   ]
  },
  {
   "cell_type": "code",
   "execution_count": 78,
   "metadata": {},
   "outputs": [],
   "source": [
    "# import libraries\n",
    "import os\n",
    "os.environ[\"USE_PYGEOS\"] = \"0\"\n",
    "import geopandas as gpd\n",
    "from collections import Counter\n",
    "import numpy as np"
   ]
  },
  {
   "cell_type": "code",
   "execution_count": 3,
   "metadata": {},
   "outputs": [],
   "source": [
    "# set main file path\n",
    "fp = \"../data/_septima/\""
   ]
  },
  {
   "attachments": {},
   "cell_type": "markdown",
   "metadata": {},
   "source": [
    "**Vejtyper**"
   ]
  },
  {
   "cell_type": "code",
   "execution_count": 5,
   "metadata": {},
   "outputs": [
    {
     "data": {
      "text/plain": [
       "['.DS_Store', 'vej_basislinje', 'vej_type']"
      ]
     },
     "execution_count": 5,
     "metadata": {},
     "output_type": "execute_result"
    }
   ],
   "source": [
    "fpc = fp + \"Vejtyper\"\n",
    "os.listdir(fpc)"
   ]
  },
  {
   "attachments": {},
   "cell_type": "markdown",
   "metadata": {},
   "source": [
    "Vej_basislinje"
   ]
  },
  {
   "cell_type": "code",
   "execution_count": 7,
   "metadata": {},
   "outputs": [],
   "source": [
    "gdf = gpd.read_file(fpc + \"/vej_basislinje/vej_basislinje.shp\")"
   ]
  },
  {
   "cell_type": "code",
   "execution_count": 11,
   "metadata": {},
   "outputs": [
    {
     "data": {
      "text/html": [
       "<div>\n",
       "<style scoped>\n",
       "    .dataframe tbody tr th:only-of-type {\n",
       "        vertical-align: middle;\n",
       "    }\n",
       "\n",
       "    .dataframe tbody tr th {\n",
       "        vertical-align: top;\n",
       "    }\n",
       "\n",
       "    .dataframe thead th {\n",
       "        text-align: right;\n",
       "    }\n",
       "</style>\n",
       "<table border=\"1\" class=\"dataframe\">\n",
       "  <thead>\n",
       "    <tr style=\"text-align: right;\">\n",
       "      <th></th>\n",
       "      <th>tmp_id</th>\n",
       "      <th>refid</th>\n",
       "      <th>kommunekod</th>\n",
       "      <th>type</th>\n",
       "      <th>kilde</th>\n",
       "      <th>opdateret</th>\n",
       "      <th>geometry</th>\n",
       "    </tr>\n",
       "  </thead>\n",
       "  <tbody>\n",
       "    <tr>\n",
       "      <th>0</th>\n",
       "      <td>1</td>\n",
       "      <td>1221986843</td>\n",
       "      <td>0265</td>\n",
       "      <td>Vej</td>\n",
       "      <td>GeoDK</td>\n",
       "      <td>2023-02-13</td>\n",
       "      <td>LINESTRING (689939.610 6168684.260, 689936.530...</td>\n",
       "    </tr>\n",
       "    <tr>\n",
       "      <th>1</th>\n",
       "      <td>2</td>\n",
       "      <td>1221986844</td>\n",
       "      <td>0265</td>\n",
       "      <td>Vej</td>\n",
       "      <td>GeoDK</td>\n",
       "      <td>2023-02-13</td>\n",
       "      <td>LINESTRING (689923.870 6168635.340, 689922.000...</td>\n",
       "    </tr>\n",
       "    <tr>\n",
       "      <th>2</th>\n",
       "      <td>3</td>\n",
       "      <td>1221986845</td>\n",
       "      <td>0265</td>\n",
       "      <td>Vej</td>\n",
       "      <td>GeoDK</td>\n",
       "      <td>2023-02-13</td>\n",
       "      <td>LINESTRING (689795.700 6168553.580, 689794.720...</td>\n",
       "    </tr>\n",
       "  </tbody>\n",
       "</table>\n",
       "</div>"
      ],
      "text/plain": [
       "   tmp_id       refid kommunekod type  kilde   opdateret   \n",
       "0       1  1221986843       0265  Vej  GeoDK  2023-02-13  \\\n",
       "1       2  1221986844       0265  Vej  GeoDK  2023-02-13   \n",
       "2       3  1221986845       0265  Vej  GeoDK  2023-02-13   \n",
       "\n",
       "                                            geometry  \n",
       "0  LINESTRING (689939.610 6168684.260, 689936.530...  \n",
       "1  LINESTRING (689923.870 6168635.340, 689922.000...  \n",
       "2  LINESTRING (689795.700 6168553.580, 689794.720...  "
      ]
     },
     "execution_count": 11,
     "metadata": {},
     "output_type": "execute_result"
    }
   ],
   "source": [
    "gdf.head(3)"
   ]
  },
  {
   "cell_type": "code",
   "execution_count": 15,
   "metadata": {},
   "outputs": [
    {
     "data": {
      "text/plain": [
       "Counter({'Vej': 1743150, 'Sti': 611641})"
      ]
     },
     "execution_count": 15,
     "metadata": {},
     "output_type": "execute_result"
    }
   ],
   "source": [
    "Counter(gdf[\"type\"])"
   ]
  },
  {
   "cell_type": "code",
   "execution_count": 13,
   "metadata": {},
   "outputs": [
    {
     "data": {
      "text/plain": [
       "True"
      ]
     },
     "execution_count": 13,
     "metadata": {},
     "output_type": "execute_result"
    }
   ],
   "source": [
    "all(gdf.geometry.type == \"LineString\")"
   ]
  },
  {
   "cell_type": "code",
   "execution_count": 16,
   "metadata": {},
   "outputs": [],
   "source": [
    "del(gdf)"
   ]
  },
  {
   "attachments": {},
   "cell_type": "markdown",
   "metadata": {},
   "source": [
    "Vej_type"
   ]
  },
  {
   "cell_type": "code",
   "execution_count": 18,
   "metadata": {},
   "outputs": [],
   "source": [
    "gdf = gpd.read_file(fpc + \"/vej_type/vej_type.shp\")"
   ]
  },
  {
   "cell_type": "code",
   "execution_count": 19,
   "metadata": {},
   "outputs": [
    {
     "data": {
      "text/html": [
       "<div>\n",
       "<style scoped>\n",
       "    .dataframe tbody tr th:only-of-type {\n",
       "        vertical-align: middle;\n",
       "    }\n",
       "\n",
       "    .dataframe tbody tr th {\n",
       "        vertical-align: top;\n",
       "    }\n",
       "\n",
       "    .dataframe thead th {\n",
       "        text-align: right;\n",
       "    }\n",
       "</style>\n",
       "<table border=\"1\" class=\"dataframe\">\n",
       "  <thead>\n",
       "    <tr style=\"text-align: right;\">\n",
       "      <th></th>\n",
       "      <th>tmp_id</th>\n",
       "      <th>refid</th>\n",
       "      <th>gruppe</th>\n",
       "      <th>type</th>\n",
       "      <th>kilde</th>\n",
       "      <th>opdateret</th>\n",
       "      <th>geometry</th>\n",
       "    </tr>\n",
       "  </thead>\n",
       "  <tbody>\n",
       "    <tr>\n",
       "      <th>0</th>\n",
       "      <td>1</td>\n",
       "      <td>1221986843</td>\n",
       "      <td>stier og mindre veje</td>\n",
       "      <td>Anden vej</td>\n",
       "      <td>GeoDK</td>\n",
       "      <td>2023-02-13</td>\n",
       "      <td>LINESTRING (689939.610 6168684.260, 689936.530...</td>\n",
       "    </tr>\n",
       "    <tr>\n",
       "      <th>1</th>\n",
       "      <td>2</td>\n",
       "      <td>1221986844</td>\n",
       "      <td>stier og mindre veje</td>\n",
       "      <td>Anden vej</td>\n",
       "      <td>GeoDK</td>\n",
       "      <td>2023-02-13</td>\n",
       "      <td>LINESTRING (689923.870 6168635.340, 689922.000...</td>\n",
       "    </tr>\n",
       "    <tr>\n",
       "      <th>2</th>\n",
       "      <td>3</td>\n",
       "      <td>1221986845</td>\n",
       "      <td>stier og mindre veje</td>\n",
       "      <td>Anden vej</td>\n",
       "      <td>GeoDK</td>\n",
       "      <td>2023-02-13</td>\n",
       "      <td>LINESTRING (689795.700 6168553.580, 689794.720...</td>\n",
       "    </tr>\n",
       "  </tbody>\n",
       "</table>\n",
       "</div>"
      ],
      "text/plain": [
       "   tmp_id       refid                gruppe       type  kilde   opdateret   \n",
       "0       1  1221986843  stier og mindre veje  Anden vej  GeoDK  2023-02-13  \\\n",
       "1       2  1221986844  stier og mindre veje  Anden vej  GeoDK  2023-02-13   \n",
       "2       3  1221986845  stier og mindre veje  Anden vej  GeoDK  2023-02-13   \n",
       "\n",
       "                                            geometry  \n",
       "0  LINESTRING (689939.610 6168684.260, 689936.530...  \n",
       "1  LINESTRING (689923.870 6168635.340, 689922.000...  \n",
       "2  LINESTRING (689795.700 6168553.580, 689794.720...  "
      ]
     },
     "execution_count": 19,
     "metadata": {},
     "output_type": "execute_result"
    }
   ],
   "source": [
    "gdf.head(3)"
   ]
  },
  {
   "cell_type": "code",
   "execution_count": 22,
   "metadata": {},
   "outputs": [
    {
     "data": {
      "text/plain": [
       "Counter({'stier og mindre veje': 2163993,\n",
       "         'store veje': 185513,\n",
       "         'motorveje': 5285})"
      ]
     },
     "execution_count": 22,
     "metadata": {},
     "output_type": "execute_result"
    }
   ],
   "source": [
    "Counter(gdf[\"gruppe\"])"
   ]
  },
  {
   "cell_type": "code",
   "execution_count": 24,
   "metadata": {},
   "outputs": [
    {
     "data": {
      "text/plain": [
       "Counter({'Lille vej': 690366,\n",
       "         'Adgangsvej': 314481,\n",
       "         'Mindre sti': 296601,\n",
       "         'Anden vej': 286535,\n",
       "         'Mellem vej': 259845,\n",
       "         'Hovedsti': 220169,\n",
       "         'Cykelsti langs vej': 53357,\n",
       "         'Cykelbane (markeret på vej)': 39639,\n",
       "         'Gangsti': 1482,\n",
       "         'Gågade': 592,\n",
       "         'Fiktiv': 565,\n",
       "         'Bussluse': 208,\n",
       "         'Redningsvej': 153})"
      ]
     },
     "execution_count": 24,
     "metadata": {},
     "output_type": "execute_result"
    }
   ],
   "source": [
    "Counter(gdf[gdf[\"gruppe\"]==\"stier og mindre veje\"][\"type\"])"
   ]
  },
  {
   "cell_type": "code",
   "execution_count": 25,
   "metadata": {},
   "outputs": [
    {
     "data": {
      "text/plain": [
       "Counter({'Stor vej': 97454, 'Fordelingsrute': 69819, 'Gennemfartsrute': 18240})"
      ]
     },
     "execution_count": 25,
     "metadata": {},
     "output_type": "execute_result"
    }
   ],
   "source": [
    "Counter(gdf[gdf[\"gruppe\"]==\"store veje\"][\"type\"])"
   ]
  },
  {
   "cell_type": "code",
   "execution_count": 26,
   "metadata": {},
   "outputs": [
    {
     "data": {
      "text/plain": [
       "Counter({'Motorvej': 4157, 'Motortrafikvej': 1128})"
      ]
     },
     "execution_count": 26,
     "metadata": {},
     "output_type": "execute_result"
    }
   ],
   "source": [
    "Counter(gdf[gdf[\"gruppe\"]==\"motorveje\"][\"type\"])"
   ]
  },
  {
   "cell_type": "code",
   "execution_count": 20,
   "metadata": {},
   "outputs": [
    {
     "data": {
      "text/plain": [
       "True"
      ]
     },
     "execution_count": 20,
     "metadata": {},
     "output_type": "execute_result"
    }
   ],
   "source": [
    "all(gdf.geometry.type == \"LineString\")"
   ]
  },
  {
   "cell_type": "code",
   "execution_count": 27,
   "metadata": {},
   "outputs": [
    {
     "data": {
      "text/plain": [
       "Counter({'Lille vej': 690366,\n",
       "         'Adgangsvej': 314481,\n",
       "         'Mindre sti': 296601,\n",
       "         'Anden vej': 286535,\n",
       "         'Mellem vej': 259845,\n",
       "         'Hovedsti': 220169,\n",
       "         'Stor vej': 97454,\n",
       "         'Fordelingsrute': 69819,\n",
       "         'Cykelsti langs vej': 53357,\n",
       "         'Cykelbane (markeret på vej)': 39639,\n",
       "         'Gennemfartsrute': 18240,\n",
       "         'Motorvej': 4157,\n",
       "         'Gangsti': 1482,\n",
       "         'Motortrafikvej': 1128,\n",
       "         'Gågade': 592,\n",
       "         'Fiktiv': 565,\n",
       "         'Bussluse': 208,\n",
       "         'Redningsvej': 153})"
      ]
     },
     "execution_count": 27,
     "metadata": {},
     "output_type": "execute_result"
    }
   ],
   "source": [
    "Counter(gdf[\"type\"])"
   ]
  },
  {
   "cell_type": "code",
   "execution_count": 28,
   "metadata": {},
   "outputs": [],
   "source": [
    "del(gdf)"
   ]
  },
  {
   "attachments": {},
   "cell_type": "markdown",
   "metadata": {},
   "source": [
    "**Vejmyndighed**"
   ]
  },
  {
   "cell_type": "code",
   "execution_count": 33,
   "metadata": {},
   "outputs": [
    {
     "data": {
      "text/plain": [
       "['vej_myndighed']"
      ]
     },
     "execution_count": 33,
     "metadata": {},
     "output_type": "execute_result"
    }
   ],
   "source": [
    "fpc = fp + \"Vejmyndighed\"\n",
    "os.listdir(fpc)"
   ]
  },
  {
   "cell_type": "code",
   "execution_count": 34,
   "metadata": {},
   "outputs": [],
   "source": [
    "gdf = gpd.read_file(fpc + \"/vej_myndighed/vej_myndighed.shp\")"
   ]
  },
  {
   "cell_type": "code",
   "execution_count": 35,
   "metadata": {},
   "outputs": [
    {
     "data": {
      "text/html": [
       "<div>\n",
       "<style scoped>\n",
       "    .dataframe tbody tr th:only-of-type {\n",
       "        vertical-align: middle;\n",
       "    }\n",
       "\n",
       "    .dataframe tbody tr th {\n",
       "        vertical-align: top;\n",
       "    }\n",
       "\n",
       "    .dataframe thead th {\n",
       "        text-align: right;\n",
       "    }\n",
       "</style>\n",
       "<table border=\"1\" class=\"dataframe\">\n",
       "  <thead>\n",
       "    <tr style=\"text-align: right;\">\n",
       "      <th></th>\n",
       "      <th>tmp_id</th>\n",
       "      <th>refid</th>\n",
       "      <th>bestyrer_n</th>\n",
       "      <th>bestyrer</th>\n",
       "      <th>type</th>\n",
       "      <th>kilde</th>\n",
       "      <th>importeret</th>\n",
       "      <th>geometry</th>\n",
       "    </tr>\n",
       "  </thead>\n",
       "  <tbody>\n",
       "    <tr>\n",
       "      <th>0</th>\n",
       "      <td>1</td>\n",
       "      <td>1</td>\n",
       "      <td>787.0</td>\n",
       "      <td>Thisted</td>\n",
       "      <td>Privat fællesvej</td>\n",
       "      <td>CVF</td>\n",
       "      <td>2023-02-16</td>\n",
       "      <td>LINESTRING (457463.480 6292962.001, 457473.050...</td>\n",
       "    </tr>\n",
       "    <tr>\n",
       "      <th>1</th>\n",
       "      <td>2</td>\n",
       "      <td>2</td>\n",
       "      <td>787.0</td>\n",
       "      <td>Thisted</td>\n",
       "      <td>Off. kommunevej</td>\n",
       "      <td>CVF</td>\n",
       "      <td>2023-02-16</td>\n",
       "      <td>LINESTRING (464055.990 6285303.131, 464061.180...</td>\n",
       "    </tr>\n",
       "    <tr>\n",
       "      <th>2</th>\n",
       "      <td>3</td>\n",
       "      <td>3</td>\n",
       "      <td>787.0</td>\n",
       "      <td>Thisted</td>\n",
       "      <td>Off. kommunevej</td>\n",
       "      <td>CVF</td>\n",
       "      <td>2023-02-16</td>\n",
       "      <td>LINESTRING (465041.470 6289644.081, 465067.510...</td>\n",
       "    </tr>\n",
       "  </tbody>\n",
       "</table>\n",
       "</div>"
      ],
      "text/plain": [
       "   tmp_id refid  bestyrer_n bestyrer              type kilde  importeret   \n",
       "0       1     1       787.0  Thisted  Privat fællesvej   CVF  2023-02-16  \\\n",
       "1       2     2       787.0  Thisted   Off. kommunevej   CVF  2023-02-16   \n",
       "2       3     3       787.0  Thisted   Off. kommunevej   CVF  2023-02-16   \n",
       "\n",
       "                                            geometry  \n",
       "0  LINESTRING (457463.480 6292962.001, 457473.050...  \n",
       "1  LINESTRING (464055.990 6285303.131, 464061.180...  \n",
       "2  LINESTRING (465041.470 6289644.081, 465067.510...  "
      ]
     },
     "execution_count": 35,
     "metadata": {},
     "output_type": "execute_result"
    }
   ],
   "source": [
    "gdf.head(3)"
   ]
  },
  {
   "cell_type": "code",
   "execution_count": 36,
   "metadata": {},
   "outputs": [
    {
     "data": {
      "text/plain": [
       "Counter({'Aarhus': 19219,\n",
       "         'Aalborg': 12275,\n",
       "         'Esbjerg': 7481,\n",
       "         'Herning': 7391,\n",
       "         'Silkeborg': 6804,\n",
       "         'Odense': 6783,\n",
       "         'Vejle': 6749,\n",
       "         'Viborg': 6215,\n",
       "         'Sønderborg': 5852,\n",
       "         'Aabenraa': 5364,\n",
       "         'Odsherred': 4980,\n",
       "         'Slagelse': 4959,\n",
       "         'Kolding': 4919,\n",
       "         'Horsens': 4802,\n",
       "         'Skanderborg': 4799,\n",
       "         'Ringkøbing-Skjern': 4777,\n",
       "         'Vordingborg': 4700,\n",
       "         'Faaborg-Midtfyn': 4534,\n",
       "         'Randers': 4294,\n",
       "         'Næstved': 4265,\n",
       "         'Favrskov': 4235,\n",
       "         'Fredericia': 4199,\n",
       "         'Hjørring': 4093,\n",
       "         'Gribskov': 4016,\n",
       "         'Svendborg': 3796,\n",
       "         'København': 3739,\n",
       "         'Frederikshavn': 3736,\n",
       "         'Guldborgsund': 3656,\n",
       "         'Holstebro': 3612,\n",
       "         'Bornholm': 3608,\n",
       "         'Hedensted': 3537,\n",
       "         'Holbæk': 3455,\n",
       "         'Køge': 3360,\n",
       "         'Frederikssund': 3339,\n",
       "         'Vejdirektoratet': 3304,\n",
       "         'Haderslev': 3269,\n",
       "         'Jammerbugt': 3263,\n",
       "         'Norddjurs': 3262,\n",
       "         'Skive': 2934,\n",
       "         'Varde': 2898,\n",
       "         'Greve': 2837,\n",
       "         'Roskilde': 2794,\n",
       "         'Middelfart': 2722,\n",
       "         'Mariagerfjord': 2657,\n",
       "         'Thisted': 2615,\n",
       "         'Assens': 2505,\n",
       "         'Sorø': 2480,\n",
       "         'Faxe': 2469,\n",
       "         'Brønderslev': 2467,\n",
       "         'Rudersdal': 2456,\n",
       "         'Tønder': 2445,\n",
       "         'Halsnæs': 2345,\n",
       "         'Lemvig': 2323,\n",
       "         'Egedal': 2239,\n",
       "         'Vejen': 2088,\n",
       "         'Ikast-Brande': 2077,\n",
       "         'Furesø': 2071,\n",
       "         'Billund': 2041,\n",
       "         'Kerteminde': 2038,\n",
       "         'Odder': 2021,\n",
       "         'Nordfyns': 2000,\n",
       "         'Helsingør': 1940,\n",
       "         'Høje-Taastrup': 1928,\n",
       "         'Lolland': 1873,\n",
       "         'Lejre': 1868,\n",
       "         'Rebild': 1794,\n",
       "         'Vesthimmerlands': 1762,\n",
       "         'Hillerød': 1508,\n",
       "         'Ballerup': 1494,\n",
       "         'Kalundborg': 1386,\n",
       "         'Læsø': 1370,\n",
       "         'Fredensborg': 1353,\n",
       "         'Stevns': 1221,\n",
       "         'Langeland': 1220,\n",
       "         'Lyngby-Taarbæk': 1164,\n",
       "         'Brøndby': 1147,\n",
       "         'Solrød': 1143,\n",
       "         'Nyborg': 1132,\n",
       "         'Albertslund': 1088,\n",
       "         'Gentofte': 1026,\n",
       "         'Syddjurs': 1006,\n",
       "         'Ringsted': 996,\n",
       "         'Struer': 933,\n",
       "         'Morsø': 925,\n",
       "         'Hørsholm': 895,\n",
       "         'Allerød': 846,\n",
       "         'Ishøj': 829,\n",
       "         'Fanø': 805,\n",
       "         'Glostrup': 618,\n",
       "         'Gladsaxe': 606,\n",
       "         'Tårnby': 593,\n",
       "         'Samsø': 587,\n",
       "         'Rødovre': 575,\n",
       "         'Frederiksberg': 527,\n",
       "         'Hvidovre': 525,\n",
       "         'Vallensbæk': 443,\n",
       "         'Dragør': 411,\n",
       "         'Herlev': 371,\n",
       "         'Sund & Bælt': 37,\n",
       "         'Øresundsbro Konsortiet': 1})"
      ]
     },
     "execution_count": 36,
     "metadata": {},
     "output_type": "execute_result"
    }
   ],
   "source": [
    "Counter(gdf[\"bestyrer\"])"
   ]
  },
  {
   "cell_type": "code",
   "execution_count": 37,
   "metadata": {},
   "outputs": [
    {
     "data": {
      "text/plain": [
       "Counter({'Off. kommunevej': 146602,\n",
       "         'Privat fællesvej': 121691,\n",
       "         'Privat vej': 18713,\n",
       "         'Off. statsvej': 3304,\n",
       "         'Almen vej': 1176,\n",
       "         'Udlagt priv. fælles': 623})"
      ]
     },
     "execution_count": 37,
     "metadata": {},
     "output_type": "execute_result"
    }
   ],
   "source": [
    "Counter(gdf[\"type\"])"
   ]
  },
  {
   "cell_type": "code",
   "execution_count": 38,
   "metadata": {},
   "outputs": [
    {
     "data": {
      "text/plain": [
       "Counter({'Off. kommunevej': 2006,\n",
       "         'Privat fællesvej': 1958,\n",
       "         'Udlagt priv. fælles': 209,\n",
       "         'Privat vej': 121})"
      ]
     },
     "execution_count": 38,
     "metadata": {},
     "output_type": "execute_result"
    }
   ],
   "source": [
    "Counter(gdf[gdf[\"bestyrer\"]==\"Randers\"][\"type\"])"
   ]
  },
  {
   "cell_type": "code",
   "execution_count": 39,
   "metadata": {},
   "outputs": [
    {
     "data": {
      "text/plain": [
       "False"
      ]
     },
     "execution_count": 39,
     "metadata": {},
     "output_type": "execute_result"
    }
   ],
   "source": [
    "all(gdf.geometry.type == \"LineString\")"
   ]
  },
  {
   "cell_type": "code",
   "execution_count": 46,
   "metadata": {},
   "outputs": [
    {
     "data": {
      "text/plain": [
       "True"
      ]
     },
     "execution_count": 46,
     "metadata": {},
     "output_type": "execute_result"
    }
   ],
   "source": [
    "all([t.geom_type in [\"LineString\", \"MultiLineString\"] for t in gdf.geometry])"
   ]
  },
  {
   "cell_type": "code",
   "execution_count": 47,
   "metadata": {},
   "outputs": [],
   "source": [
    "del(gdf)"
   ]
  },
  {
   "attachments": {},
   "cell_type": "markdown",
   "metadata": {},
   "source": [
    "**Hastighedsgrænser**"
   ]
  },
  {
   "cell_type": "code",
   "execution_count": 48,
   "metadata": {},
   "outputs": [
    {
     "data": {
      "text/plain": [
       "['vej_hastighedsgraense']"
      ]
     },
     "execution_count": 48,
     "metadata": {},
     "output_type": "execute_result"
    }
   ],
   "source": [
    "fpc = fp + \"Hastighedsgraenser\"\n",
    "os.listdir(fpc)"
   ]
  },
  {
   "cell_type": "code",
   "execution_count": 49,
   "metadata": {},
   "outputs": [],
   "source": [
    "gdf = gpd.read_file(fpc + \"/vej_hastighedsgraense/vej_hastighedsgraense.shp\")"
   ]
  },
  {
   "cell_type": "code",
   "execution_count": 50,
   "metadata": {},
   "outputs": [
    {
     "data": {
      "text/html": [
       "<div>\n",
       "<style scoped>\n",
       "    .dataframe tbody tr th:only-of-type {\n",
       "        vertical-align: middle;\n",
       "    }\n",
       "\n",
       "    .dataframe tbody tr th {\n",
       "        vertical-align: top;\n",
       "    }\n",
       "\n",
       "    .dataframe thead th {\n",
       "        text-align: right;\n",
       "    }\n",
       "</style>\n",
       "<table border=\"1\" class=\"dataframe\">\n",
       "  <thead>\n",
       "    <tr style=\"text-align: right;\">\n",
       "      <th></th>\n",
       "      <th>tmp_id</th>\n",
       "      <th>id</th>\n",
       "      <th>gruppe</th>\n",
       "      <th>type</th>\n",
       "      <th>paabudt_ma</th>\n",
       "      <th>anbefalet_</th>\n",
       "      <th>kilde</th>\n",
       "      <th>geometry</th>\n",
       "    </tr>\n",
       "  </thead>\n",
       "  <tbody>\n",
       "    <tr>\n",
       "      <th>0</th>\n",
       "      <td>1</td>\n",
       "      <td>34397608</td>\n",
       "      <td>høj</td>\n",
       "      <td>80.0</td>\n",
       "      <td>80.0</td>\n",
       "      <td>NaN</td>\n",
       "      <td>OSM</td>\n",
       "      <td>LINESTRING (672526.237 6139473.053, 672517.488...</td>\n",
       "    </tr>\n",
       "    <tr>\n",
       "      <th>1</th>\n",
       "      <td>2</td>\n",
       "      <td>194413279</td>\n",
       "      <td>høj</td>\n",
       "      <td>80.0</td>\n",
       "      <td>80.0</td>\n",
       "      <td>NaN</td>\n",
       "      <td>OSM</td>\n",
       "      <td>LINESTRING (505249.967 6080805.894, 505458.048...</td>\n",
       "    </tr>\n",
       "    <tr>\n",
       "      <th>2</th>\n",
       "      <td>3</td>\n",
       "      <td>25346926</td>\n",
       "      <td>høj</td>\n",
       "      <td>100.0</td>\n",
       "      <td>100.0</td>\n",
       "      <td>NaN</td>\n",
       "      <td>OSM</td>\n",
       "      <td>LINESTRING (504907.758 6079898.813, 505000.182...</td>\n",
       "    </tr>\n",
       "  </tbody>\n",
       "</table>\n",
       "</div>"
      ],
      "text/plain": [
       "   tmp_id         id gruppe   type  paabudt_ma  anbefalet_ kilde   \n",
       "0       1   34397608    høj   80.0        80.0         NaN   OSM  \\\n",
       "1       2  194413279    høj   80.0        80.0         NaN   OSM   \n",
       "2       3   25346926    høj  100.0       100.0         NaN   OSM   \n",
       "\n",
       "                                            geometry  \n",
       "0  LINESTRING (672526.237 6139473.053, 672517.488...  \n",
       "1  LINESTRING (505249.967 6080805.894, 505458.048...  \n",
       "2  LINESTRING (504907.758 6079898.813, 505000.182...  "
      ]
     },
     "execution_count": 50,
     "metadata": {},
     "output_type": "execute_result"
    }
   ],
   "source": [
    "gdf.head(3)"
   ]
  },
  {
   "cell_type": "code",
   "execution_count": 51,
   "metadata": {},
   "outputs": [
    {
     "data": {
      "text/plain": [
       "Counter({50.0: 57275,\n",
       "         80.0: 25229,\n",
       "         60.0: 10376,\n",
       "         40.0: 8739,\n",
       "         30.0: 7591,\n",
       "         70.0: 6221,\n",
       "         20.0: 1497,\n",
       "         90.0: 753,\n",
       "         100.0: 155,\n",
       "         10.0: 58,\n",
       "         110.0: 5})"
      ]
     },
     "execution_count": 51,
     "metadata": {},
     "output_type": "execute_result"
    }
   ],
   "source": [
    "Counter(gdf[\"type\"])"
   ]
  },
  {
   "cell_type": "code",
   "execution_count": 52,
   "metadata": {},
   "outputs": [
    {
     "data": {
      "text/plain": [
       "True"
      ]
     },
     "execution_count": 52,
     "metadata": {},
     "output_type": "execute_result"
    }
   ],
   "source": [
    "all(gdf.geometry.geom_type == \"LineString\")"
   ]
  },
  {
   "cell_type": "code",
   "execution_count": 54,
   "metadata": {},
   "outputs": [],
   "source": [
    "del(gdf)"
   ]
  },
  {
   "attachments": {},
   "cell_type": "markdown",
   "metadata": {},
   "source": [
    "**Landskaber og beskyttet natur**"
   ]
  },
  {
   "cell_type": "code",
   "execution_count": 53,
   "metadata": {},
   "outputs": [
    {
     "data": {
      "text/plain": [
       "['land_frednatpark',\n",
       " 'land_beskyttnatur_linje',\n",
       " 'land_vaerdifuld',\n",
       " 'land_beskyttnatur_flade']"
      ]
     },
     "execution_count": 53,
     "metadata": {},
     "output_type": "execute_result"
    }
   ],
   "source": [
    "fpc = fp + \"Landskaber og beskyttet natur\"\n",
    "os.listdir(fpc)"
   ]
  },
  {
   "attachments": {},
   "cell_type": "markdown",
   "metadata": {},
   "source": [
    "land_frednatpark"
   ]
  },
  {
   "cell_type": "code",
   "execution_count": 55,
   "metadata": {},
   "outputs": [],
   "source": [
    "gdf = gpd.read_file(fpc + \"/land_frednatpark/land_frednatpark.shp\")"
   ]
  },
  {
   "cell_type": "code",
   "execution_count": 56,
   "metadata": {},
   "outputs": [
    {
     "data": {
      "text/html": [
       "<div>\n",
       "<style scoped>\n",
       "    .dataframe tbody tr th:only-of-type {\n",
       "        vertical-align: middle;\n",
       "    }\n",
       "\n",
       "    .dataframe tbody tr th {\n",
       "        vertical-align: top;\n",
       "    }\n",
       "\n",
       "    .dataframe thead th {\n",
       "        text-align: right;\n",
       "    }\n",
       "</style>\n",
       "<table border=\"1\" class=\"dataframe\">\n",
       "  <thead>\n",
       "    <tr style=\"text-align: right;\">\n",
       "      <th></th>\n",
       "      <th>tmp_id</th>\n",
       "      <th>refid</th>\n",
       "      <th>type</th>\n",
       "      <th>kilde</th>\n",
       "      <th>importeret</th>\n",
       "      <th>geometry</th>\n",
       "    </tr>\n",
       "  </thead>\n",
       "  <tbody>\n",
       "    <tr>\n",
       "      <th>0</th>\n",
       "      <td>1</td>\n",
       "      <td>1</td>\n",
       "      <td>Fredet område</td>\n",
       "      <td>DMP</td>\n",
       "      <td>2023-02-16</td>\n",
       "      <td>POLYGON ((481354.158 6127069.914, 481355.889 6...</td>\n",
       "    </tr>\n",
       "    <tr>\n",
       "      <th>1</th>\n",
       "      <td>2</td>\n",
       "      <td>2</td>\n",
       "      <td>Fredet område</td>\n",
       "      <td>DMP</td>\n",
       "      <td>2023-02-16</td>\n",
       "      <td>POLYGON ((481185.671 6126399.489, 481227.552 6...</td>\n",
       "    </tr>\n",
       "    <tr>\n",
       "      <th>2</th>\n",
       "      <td>3</td>\n",
       "      <td>3</td>\n",
       "      <td>Fredet område</td>\n",
       "      <td>DMP</td>\n",
       "      <td>2023-02-16</td>\n",
       "      <td>POLYGON ((491755.689 6127514.472, 492002.092 6...</td>\n",
       "    </tr>\n",
       "  </tbody>\n",
       "</table>\n",
       "</div>"
      ],
      "text/plain": [
       "   tmp_id refid           type kilde  importeret   \n",
       "0       1     1  Fredet område   DMP  2023-02-16  \\\n",
       "1       2     2  Fredet område   DMP  2023-02-16   \n",
       "2       3     3  Fredet område   DMP  2023-02-16   \n",
       "\n",
       "                                            geometry  \n",
       "0  POLYGON ((481354.158 6127069.914, 481355.889 6...  \n",
       "1  POLYGON ((481185.671 6126399.489, 481227.552 6...  \n",
       "2  POLYGON ((491755.689 6127514.472, 492002.092 6...  "
      ]
     },
     "execution_count": 56,
     "metadata": {},
     "output_type": "execute_result"
    }
   ],
   "source": [
    "gdf.head(3)"
   ]
  },
  {
   "cell_type": "code",
   "execution_count": 57,
   "metadata": {},
   "outputs": [
    {
     "data": {
      "text/plain": [
       "Counter({'Fredet område': 4180,\n",
       "         'Bekendtgørelsesfredning': 34,\n",
       "         'Naturnationalpark': 15,\n",
       "         'Naturpark': 11,\n",
       "         'Nationalpark': 10})"
      ]
     },
     "execution_count": 57,
     "metadata": {},
     "output_type": "execute_result"
    }
   ],
   "source": [
    "Counter(gdf[\"type\"])"
   ]
  },
  {
   "cell_type": "code",
   "execution_count": 60,
   "metadata": {},
   "outputs": [
    {
     "data": {
      "text/plain": [
       "True"
      ]
     },
     "execution_count": 60,
     "metadata": {},
     "output_type": "execute_result"
    }
   ],
   "source": [
    "all([t in [\"Polygon\", \"MultiPolygon\"] for t in gdf.geometry.geom_type])"
   ]
  },
  {
   "cell_type": "code",
   "execution_count": 61,
   "metadata": {},
   "outputs": [],
   "source": [
    "del(gdf)"
   ]
  },
  {
   "attachments": {},
   "cell_type": "markdown",
   "metadata": {},
   "source": [
    "land_beskyttnatur_linje"
   ]
  },
  {
   "cell_type": "code",
   "execution_count": 62,
   "metadata": {},
   "outputs": [],
   "source": [
    "gdf = gpd.read_file(fpc + \"/land_beskyttnatur_linje/land_beskyttnatur_linje.shp\")"
   ]
  },
  {
   "cell_type": "code",
   "execution_count": 63,
   "metadata": {},
   "outputs": [
    {
     "data": {
      "text/html": [
       "<div>\n",
       "<style scoped>\n",
       "    .dataframe tbody tr th:only-of-type {\n",
       "        vertical-align: middle;\n",
       "    }\n",
       "\n",
       "    .dataframe tbody tr th {\n",
       "        vertical-align: top;\n",
       "    }\n",
       "\n",
       "    .dataframe thead th {\n",
       "        text-align: right;\n",
       "    }\n",
       "</style>\n",
       "<table border=\"1\" class=\"dataframe\">\n",
       "  <thead>\n",
       "    <tr style=\"text-align: right;\">\n",
       "      <th></th>\n",
       "      <th>tmp_id</th>\n",
       "      <th>refid</th>\n",
       "      <th>type</th>\n",
       "      <th>kilde</th>\n",
       "      <th>importeret</th>\n",
       "      <th>geometry</th>\n",
       "    </tr>\n",
       "  </thead>\n",
       "  <tbody>\n",
       "    <tr>\n",
       "      <th>0</th>\n",
       "      <td>1</td>\n",
       "      <td>1</td>\n",
       "      <td>Beskyttet vandløb</td>\n",
       "      <td>DMP</td>\n",
       "      <td>2023-02-16</td>\n",
       "      <td>LINESTRING (886437.403 6110844.186, 886438.337...</td>\n",
       "    </tr>\n",
       "    <tr>\n",
       "      <th>1</th>\n",
       "      <td>2</td>\n",
       "      <td>2</td>\n",
       "      <td>Beskyttet vandløb</td>\n",
       "      <td>DMP</td>\n",
       "      <td>2023-02-16</td>\n",
       "      <td>LINESTRING (862929.060 6132674.255, 862929.068...</td>\n",
       "    </tr>\n",
       "    <tr>\n",
       "      <th>2</th>\n",
       "      <td>3</td>\n",
       "      <td>3</td>\n",
       "      <td>Beskyttet vandløb</td>\n",
       "      <td>DMP</td>\n",
       "      <td>2023-02-16</td>\n",
       "      <td>LINESTRING (886063.224 6110876.588, 886054.182...</td>\n",
       "    </tr>\n",
       "  </tbody>\n",
       "</table>\n",
       "</div>"
      ],
      "text/plain": [
       "   tmp_id refid               type kilde  importeret   \n",
       "0       1     1  Beskyttet vandløb   DMP  2023-02-16  \\\n",
       "1       2     2  Beskyttet vandløb   DMP  2023-02-16   \n",
       "2       3     3  Beskyttet vandløb   DMP  2023-02-16   \n",
       "\n",
       "                                            geometry  \n",
       "0  LINESTRING (886437.403 6110844.186, 886438.337...  \n",
       "1  LINESTRING (862929.060 6132674.255, 862929.068...  \n",
       "2  LINESTRING (886063.224 6110876.588, 886054.182...  "
      ]
     },
     "execution_count": 63,
     "metadata": {},
     "output_type": "execute_result"
    }
   ],
   "source": [
    "gdf.head(3)"
   ]
  },
  {
   "cell_type": "code",
   "execution_count": 64,
   "metadata": {},
   "outputs": [
    {
     "data": {
      "text/plain": [
       "Counter({'Beskyttet vandløb': 98081})"
      ]
     },
     "execution_count": 64,
     "metadata": {},
     "output_type": "execute_result"
    }
   ],
   "source": [
    "Counter(gdf[\"type\"])"
   ]
  },
  {
   "cell_type": "code",
   "execution_count": 65,
   "metadata": {},
   "outputs": [
    {
     "data": {
      "text/plain": [
       "Counter({'LineString': 98074, 'MultiLineString': 7})"
      ]
     },
     "execution_count": 65,
     "metadata": {},
     "output_type": "execute_result"
    }
   ],
   "source": [
    "Counter(gdf[\"geometry\"].geom_type)"
   ]
  },
  {
   "cell_type": "code",
   "execution_count": 66,
   "metadata": {},
   "outputs": [],
   "source": [
    "del(gdf)"
   ]
  },
  {
   "attachments": {},
   "cell_type": "markdown",
   "metadata": {},
   "source": [
    "land_vaerdifuld"
   ]
  },
  {
   "cell_type": "code",
   "execution_count": 67,
   "metadata": {},
   "outputs": [],
   "source": [
    "gdf = gpd.read_file(fpc + \"/land_vaerdifuld/land_vaerdifuld.shp\")"
   ]
  },
  {
   "cell_type": "code",
   "execution_count": 68,
   "metadata": {},
   "outputs": [
    {
     "name": "stdout",
     "output_type": "stream",
     "text": [
      "Counter({'Polygon': 71637, 'MultiPolygon': 2572})\n"
     ]
    },
    {
     "data": {
      "text/html": [
       "<div>\n",
       "<style scoped>\n",
       "    .dataframe tbody tr th:only-of-type {\n",
       "        vertical-align: middle;\n",
       "    }\n",
       "\n",
       "    .dataframe tbody tr th {\n",
       "        vertical-align: top;\n",
       "    }\n",
       "\n",
       "    .dataframe thead th {\n",
       "        text-align: right;\n",
       "    }\n",
       "</style>\n",
       "<table border=\"1\" class=\"dataframe\">\n",
       "  <thead>\n",
       "    <tr style=\"text-align: right;\">\n",
       "      <th></th>\n",
       "      <th>tmp_id</th>\n",
       "      <th>type</th>\n",
       "      <th>refid</th>\n",
       "      <th>cvrname</th>\n",
       "      <th>komnr</th>\n",
       "      <th>link</th>\n",
       "      <th>kilde</th>\n",
       "      <th>importeret</th>\n",
       "      <th>geometry</th>\n",
       "    </tr>\n",
       "  </thead>\n",
       "  <tbody>\n",
       "    <tr>\n",
       "      <th>0</th>\n",
       "      <td>1</td>\n",
       "      <td>Bevaringsværdig landskab</td>\n",
       "      <td>3105200</td>\n",
       "      <td>Aalborg kommune</td>\n",
       "      <td>851</td>\n",
       "      <td>https://dokument.plandata.dk/11_1106459_DRAFT_...</td>\n",
       "      <td>Plan</td>\n",
       "      <td>2023-02-16</td>\n",
       "      <td>POLYGON ((530601.554 6320941.391, 530582.554 6...</td>\n",
       "    </tr>\n",
       "    <tr>\n",
       "      <th>1</th>\n",
       "      <td>2</td>\n",
       "      <td>Bevaringsværdig landskab</td>\n",
       "      <td>10851484</td>\n",
       "      <td>Lolland kommune</td>\n",
       "      <td>360</td>\n",
       "      <td>https://dokument.plandata.dk/11_10817377_16494...</td>\n",
       "      <td>Plan</td>\n",
       "      <td>2023-02-16</td>\n",
       "      <td>POLYGON ((629609.739 6084979.240, 629643.770 6...</td>\n",
       "    </tr>\n",
       "    <tr>\n",
       "      <th>2</th>\n",
       "      <td>3</td>\n",
       "      <td>Bevaringsværdig landskab</td>\n",
       "      <td>10353486</td>\n",
       "      <td>Næstved kommune</td>\n",
       "      <td>370</td>\n",
       "      <td>https://dokument.plandata.dk/11_10265731_16251...</td>\n",
       "      <td>Plan</td>\n",
       "      <td>2023-02-16</td>\n",
       "      <td>POLYGON ((682280.790 6119136.110, 682259.260 6...</td>\n",
       "    </tr>\n",
       "  </tbody>\n",
       "</table>\n",
       "</div>"
      ],
      "text/plain": [
       "   tmp_id                      type     refid          cvrname  komnr   \n",
       "0       1  Bevaringsværdig landskab   3105200  Aalborg kommune    851  \\\n",
       "1       2  Bevaringsværdig landskab  10851484  Lolland kommune    360   \n",
       "2       3  Bevaringsværdig landskab  10353486  Næstved kommune    370   \n",
       "\n",
       "                                                link kilde  importeret   \n",
       "0  https://dokument.plandata.dk/11_1106459_DRAFT_...  Plan  2023-02-16  \\\n",
       "1  https://dokument.plandata.dk/11_10817377_16494...  Plan  2023-02-16   \n",
       "2  https://dokument.plandata.dk/11_10265731_16251...  Plan  2023-02-16   \n",
       "\n",
       "                                            geometry  \n",
       "0  POLYGON ((530601.554 6320941.391, 530582.554 6...  \n",
       "1  POLYGON ((629609.739 6084979.240, 629643.770 6...  \n",
       "2  POLYGON ((682280.790 6119136.110, 682259.260 6...  "
      ]
     },
     "execution_count": 68,
     "metadata": {},
     "output_type": "execute_result"
    }
   ],
   "source": [
    "print(Counter(gdf.geometry.geom_type))\n",
    "gdf.head(3)"
   ]
  },
  {
   "cell_type": "code",
   "execution_count": 69,
   "metadata": {},
   "outputs": [
    {
     "data": {
      "text/plain": [
       "Counter({'Naturbeskyttelsesområde': 43064,\n",
       "         'Kulturhistorisk bevaringsværdi': 24458,\n",
       "         'Værdifuldt kulturmiljø': 4001,\n",
       "         'Bevaringsværdig landskab': 2686})"
      ]
     },
     "execution_count": 69,
     "metadata": {},
     "output_type": "execute_result"
    }
   ],
   "source": [
    "Counter(gdf[\"type\"])"
   ]
  },
  {
   "cell_type": "code",
   "execution_count": 70,
   "metadata": {},
   "outputs": [],
   "source": [
    "del(gdf)"
   ]
  },
  {
   "attachments": {},
   "cell_type": "markdown",
   "metadata": {},
   "source": [
    "land_beskyttnatur_flade"
   ]
  },
  {
   "cell_type": "code",
   "execution_count": 71,
   "metadata": {},
   "outputs": [],
   "source": [
    "gdf = gpd.read_file(fpc + \"/land_beskyttnatur_flade/land_beskyttnatur_flade.shp\")"
   ]
  },
  {
   "cell_type": "code",
   "execution_count": 72,
   "metadata": {},
   "outputs": [
    {
     "name": "stdout",
     "output_type": "stream",
     "text": [
      "Counter({'Polygon': 305236, 'MultiPolygon': 2862})\n"
     ]
    },
    {
     "data": {
      "text/html": [
       "<div>\n",
       "<style scoped>\n",
       "    .dataframe tbody tr th:only-of-type {\n",
       "        vertical-align: middle;\n",
       "    }\n",
       "\n",
       "    .dataframe tbody tr th {\n",
       "        vertical-align: top;\n",
       "    }\n",
       "\n",
       "    .dataframe thead th {\n",
       "        text-align: right;\n",
       "    }\n",
       "</style>\n",
       "<table border=\"1\" class=\"dataframe\">\n",
       "  <thead>\n",
       "    <tr style=\"text-align: right;\">\n",
       "      <th></th>\n",
       "      <th>tmp_id</th>\n",
       "      <th>refid</th>\n",
       "      <th>type</th>\n",
       "      <th>kilde</th>\n",
       "      <th>importeret</th>\n",
       "      <th>geometry</th>\n",
       "    </tr>\n",
       "  </thead>\n",
       "  <tbody>\n",
       "    <tr>\n",
       "      <th>0</th>\n",
       "      <td>1</td>\n",
       "      <td>1</td>\n",
       "      <td>Beskyttet natur</td>\n",
       "      <td>DMP</td>\n",
       "      <td>2023-02-16</td>\n",
       "      <td>POLYGON ((721704.978 6168909.923, 721676.760 6...</td>\n",
       "    </tr>\n",
       "    <tr>\n",
       "      <th>1</th>\n",
       "      <td>2</td>\n",
       "      <td>2</td>\n",
       "      <td>Beskyttet natur</td>\n",
       "      <td>DMP</td>\n",
       "      <td>2023-02-16</td>\n",
       "      <td>POLYGON ((536244.207 6341674.826, 536213.080 6...</td>\n",
       "    </tr>\n",
       "    <tr>\n",
       "      <th>2</th>\n",
       "      <td>3</td>\n",
       "      <td>3</td>\n",
       "      <td>Beskyttet natur</td>\n",
       "      <td>DMP</td>\n",
       "      <td>2023-02-16</td>\n",
       "      <td>POLYGON ((721631.407 6183878.419, 721633.700 6...</td>\n",
       "    </tr>\n",
       "  </tbody>\n",
       "</table>\n",
       "</div>"
      ],
      "text/plain": [
       "   tmp_id refid             type kilde  importeret   \n",
       "0       1     1  Beskyttet natur   DMP  2023-02-16  \\\n",
       "1       2     2  Beskyttet natur   DMP  2023-02-16   \n",
       "2       3     3  Beskyttet natur   DMP  2023-02-16   \n",
       "\n",
       "                                            geometry  \n",
       "0  POLYGON ((721704.978 6168909.923, 721676.760 6...  \n",
       "1  POLYGON ((536244.207 6341674.826, 536213.080 6...  \n",
       "2  POLYGON ((721631.407 6183878.419, 721633.700 6...  "
      ]
     },
     "execution_count": 72,
     "metadata": {},
     "output_type": "execute_result"
    }
   ],
   "source": [
    "print(Counter(gdf.geometry.geom_type))\n",
    "gdf.head(3)"
   ]
  },
  {
   "cell_type": "code",
   "execution_count": 73,
   "metadata": {},
   "outputs": [
    {
     "data": {
      "text/plain": [
       "Counter({'Beskyttet natur': 308098})"
      ]
     },
     "execution_count": 73,
     "metadata": {},
     "output_type": "execute_result"
    }
   ],
   "source": [
    "Counter(gdf[\"type\"])"
   ]
  },
  {
   "cell_type": "code",
   "execution_count": 74,
   "metadata": {},
   "outputs": [],
   "source": [
    "del(gdf)"
   ]
  },
  {
   "attachments": {},
   "cell_type": "markdown",
   "metadata": {},
   "source": [
    "**Arealanvendelse**"
   ]
  },
  {
   "cell_type": "code",
   "execution_count": 75,
   "metadata": {},
   "outputs": [
    {
     "data": {
      "text/plain": [
       "['land_anvendelse']"
      ]
     },
     "execution_count": 75,
     "metadata": {},
     "output_type": "execute_result"
    }
   ],
   "source": [
    "fpc = fp + \"Arealanvendelse\"\n",
    "os.listdir(fpc)"
   ]
  },
  {
   "cell_type": "code",
   "execution_count": 76,
   "metadata": {},
   "outputs": [],
   "source": [
    "gdf = gpd.read_file(fpc + \"/land_anvendelse/land_anvendelse.shp\")"
   ]
  },
  {
   "cell_type": "code",
   "execution_count": 77,
   "metadata": {},
   "outputs": [
    {
     "name": "stdout",
     "output_type": "stream",
     "text": [
      "Counter({'Polygon': 1184461, 'MultiPolygon': 21754})\n"
     ]
    },
    {
     "data": {
      "text/html": [
       "<div>\n",
       "<style scoped>\n",
       "    .dataframe tbody tr th:only-of-type {\n",
       "        vertical-align: middle;\n",
       "    }\n",
       "\n",
       "    .dataframe tbody tr th {\n",
       "        vertical-align: top;\n",
       "    }\n",
       "\n",
       "    .dataframe thead th {\n",
       "        text-align: right;\n",
       "    }\n",
       "</style>\n",
       "<table border=\"1\" class=\"dataframe\">\n",
       "  <thead>\n",
       "    <tr style=\"text-align: right;\">\n",
       "      <th></th>\n",
       "      <th>tmp_id</th>\n",
       "      <th>gruppe</th>\n",
       "      <th>type</th>\n",
       "      <th>kilde</th>\n",
       "      <th>geometry</th>\n",
       "    </tr>\n",
       "  </thead>\n",
       "  <tbody>\n",
       "    <tr>\n",
       "      <th>0</th>\n",
       "      <td>1</td>\n",
       "      <td>Teknisk areal</td>\n",
       "      <td>Militært anlæg</td>\n",
       "      <td>GeoDK</td>\n",
       "      <td>POLYGON ((716290.390 6129802.910, 716263.130 6...</td>\n",
       "    </tr>\n",
       "    <tr>\n",
       "      <th>1</th>\n",
       "      <td>2</td>\n",
       "      <td>Teknisk areal</td>\n",
       "      <td>Militært anlæg</td>\n",
       "      <td>GeoDK</td>\n",
       "      <td>POLYGON ((717442.600 6189461.770, 717435.320 6...</td>\n",
       "    </tr>\n",
       "    <tr>\n",
       "      <th>2</th>\n",
       "      <td>3</td>\n",
       "      <td>Teknisk areal</td>\n",
       "      <td>Militært anlæg</td>\n",
       "      <td>GeoDK</td>\n",
       "      <td>POLYGON ((706058.820 6169023.820, 706067.290 6...</td>\n",
       "    </tr>\n",
       "  </tbody>\n",
       "</table>\n",
       "</div>"
      ],
      "text/plain": [
       "   tmp_id         gruppe            type  kilde   \n",
       "0       1  Teknisk areal  Militært anlæg  GeoDK  \\\n",
       "1       2  Teknisk areal  Militært anlæg  GeoDK   \n",
       "2       3  Teknisk areal  Militært anlæg  GeoDK   \n",
       "\n",
       "                                            geometry  \n",
       "0  POLYGON ((716290.390 6129802.910, 716263.130 6...  \n",
       "1  POLYGON ((717442.600 6189461.770, 717435.320 6...  \n",
       "2  POLYGON ((706058.820 6169023.820, 706067.290 6...  "
      ]
     },
     "execution_count": 77,
     "metadata": {},
     "output_type": "execute_result"
    }
   ],
   "source": [
    "print(Counter(gdf.geometry.geom_type))\n",
    "gdf.head(3)"
   ]
  },
  {
   "cell_type": "code",
   "execution_count": 79,
   "metadata": {},
   "outputs": [
    {
     "name": "stdout",
     "output_type": "stream",
     "text": [
      "Bymæssig anvendelse\n",
      "Counter({'Lav bebyggelse': 176860, 'Erhverv': 6135, 'Høj bebyggelse': 1764, 'Sommerhusområde': 1436, 'Sommerhusområde skov': 982, 'Bykerne': 204})\n",
      "Dyrkede arealer\n",
      "Counter({'Dyrkede afgrøder på marker': 330871, 'Afgræssede marker': 211944, 'Braklagte marker': 33466})\n",
      "Naturtyper\n",
      "Counter({'Sø': 181995, 'Skov': 101395, 'Kratbevoksning': 42614, 'Vådområde': 25334, 'Hede': 7717, 'Gartneri': 2160, 'Sandklit': 794, 'Råstofområde': 565})\n",
      "Skovinddeling\n",
      "Counter({'Blandet': 58173, 'Nåletræ': 7743, 'Løvtræ': 4856})\n",
      "Teknisk areal\n",
      "Counter({'Sportsanlæg': 4426, 'Andre': 3535, 'Energiforsyningsanlæg': 1107, 'Militært anlæg': 81, 'Lufthavn': 52, 'Affaldsanlæg': 6})\n"
     ]
    }
   ],
   "source": [
    "for gr in np.unique(gdf[\"gruppe\"]):\n",
    "    print(gr)\n",
    "    print(Counter(gdf[gdf[\"gruppe\"]==gr][\"type\"]))"
   ]
  },
  {
   "cell_type": "code",
   "execution_count": 80,
   "metadata": {},
   "outputs": [],
   "source": [
    "del(gdf)"
   ]
  },
  {
   "attachments": {},
   "cell_type": "markdown",
   "metadata": {},
   "source": [
    "**Ejerskab**"
   ]
  },
  {
   "cell_type": "code",
   "execution_count": 81,
   "metadata": {},
   "outputs": [
    {
     "data": {
      "text/plain": [
       "['land_ejerskab']"
      ]
     },
     "execution_count": 81,
     "metadata": {},
     "output_type": "execute_result"
    }
   ],
   "source": [
    "fpc = fp + \"Ejerskab\"\n",
    "os.listdir(fpc)"
   ]
  },
  {
   "cell_type": "code",
   "execution_count": 82,
   "metadata": {},
   "outputs": [],
   "source": [
    "gdf = gpd.read_file(fpc + \"/land_ejerskab/land_ejerskab.shp\")"
   ]
  },
  {
   "cell_type": "code",
   "execution_count": 83,
   "metadata": {},
   "outputs": [
    {
     "name": "stdout",
     "output_type": "stream",
     "text": [
      "Counter({'Polygon': 2902943, 'MultiPolygon': 126821})\n"
     ]
    },
    {
     "data": {
      "text/html": [
       "<div>\n",
       "<style scoped>\n",
       "    .dataframe tbody tr th:only-of-type {\n",
       "        vertical-align: middle;\n",
       "    }\n",
       "\n",
       "    .dataframe tbody tr th {\n",
       "        vertical-align: top;\n",
       "    }\n",
       "\n",
       "    .dataframe thead th {\n",
       "        text-align: right;\n",
       "    }\n",
       "</style>\n",
       "<table border=\"1\" class=\"dataframe\">\n",
       "  <thead>\n",
       "    <tr style=\"text-align: right;\">\n",
       "      <th></th>\n",
       "      <th>tmp_id</th>\n",
       "      <th>gruppe</th>\n",
       "      <th>type</th>\n",
       "      <th>kilde</th>\n",
       "      <th>importeret</th>\n",
       "      <th>geometry</th>\n",
       "    </tr>\n",
       "  </thead>\n",
       "  <tbody>\n",
       "    <tr>\n",
       "      <th>0</th>\n",
       "      <td>1</td>\n",
       "      <td>Ejerforhold</td>\n",
       "      <td>Andre</td>\n",
       "      <td>RIDA</td>\n",
       "      <td>NaN</td>\n",
       "      <td>POLYGON ((561450.343 6246319.661, 561440.716 6...</td>\n",
       "    </tr>\n",
       "    <tr>\n",
       "      <th>1</th>\n",
       "      <td>2</td>\n",
       "      <td>Ejerforhold</td>\n",
       "      <td>Andre</td>\n",
       "      <td>RIDA</td>\n",
       "      <td>NaN</td>\n",
       "      <td>MULTIPOLYGON (((570535.407 6247311.929, 570519...</td>\n",
       "    </tr>\n",
       "    <tr>\n",
       "      <th>2</th>\n",
       "      <td>3</td>\n",
       "      <td>Ejerforhold</td>\n",
       "      <td>Andre</td>\n",
       "      <td>RIDA</td>\n",
       "      <td>NaN</td>\n",
       "      <td>MULTIPOLYGON (((570352.000 6246201.005, 570362...</td>\n",
       "    </tr>\n",
       "  </tbody>\n",
       "</table>\n",
       "</div>"
      ],
      "text/plain": [
       "   tmp_id       gruppe   type kilde importeret   \n",
       "0       1  Ejerforhold  Andre  RIDA        NaN  \\\n",
       "1       2  Ejerforhold  Andre  RIDA        NaN   \n",
       "2       3  Ejerforhold  Andre  RIDA        NaN   \n",
       "\n",
       "                                            geometry  \n",
       "0  POLYGON ((561450.343 6246319.661, 561440.716 6...  \n",
       "1  MULTIPOLYGON (((570535.407 6247311.929, 570519...  \n",
       "2  MULTIPOLYGON (((570352.000 6246201.005, 570362...  "
      ]
     },
     "execution_count": 83,
     "metadata": {},
     "output_type": "execute_result"
    }
   ],
   "source": [
    "print(Counter(gdf.geometry.geom_type))\n",
    "gdf.head(3)"
   ]
  },
  {
   "cell_type": "code",
   "execution_count": 84,
   "metadata": {},
   "outputs": [
    {
     "data": {
      "text/plain": [
       "Counter({'Ejerforhold': 3028734, 'Statslige styrelser': 1030})"
      ]
     },
     "execution_count": 84,
     "metadata": {},
     "output_type": "execute_result"
    }
   ],
   "source": [
    "Counter(gdf[\"gruppe\"])"
   ]
  },
  {
   "cell_type": "code",
   "execution_count": 85,
   "metadata": {},
   "outputs": [
    {
     "data": {
      "text/plain": [
       "Counter({'Ejerforhold': 3028734, 'Statslige styrelser': 1030})"
      ]
     },
     "execution_count": 85,
     "metadata": {},
     "output_type": "execute_result"
    }
   ],
   "source": [
    "Counter(gdf[\"gruppe\"])"
   ]
  },
  {
   "cell_type": "code",
   "execution_count": 87,
   "metadata": {},
   "outputs": [],
   "source": [
    "del(gdf)"
   ]
  },
  {
   "attachments": {},
   "cell_type": "markdown",
   "metadata": {},
   "source": [
    "**Faciliteter**"
   ]
  },
  {
   "cell_type": "code",
   "execution_count": 88,
   "metadata": {},
   "outputs": [
    {
     "data": {
      "text/plain": [
       "['facilit_overnatning',\n",
       " 'facilit_indkoeb',\n",
       " 'facilit_service',\n",
       " 'facilit_rasteplads']"
      ]
     },
     "execution_count": 88,
     "metadata": {},
     "output_type": "execute_result"
    }
   ],
   "source": [
    "fpc = fp + \"Faciliteter\"\n",
    "os.listdir(fpc)"
   ]
  },
  {
   "attachments": {},
   "cell_type": "markdown",
   "metadata": {},
   "source": [
    "facilit_overnatning"
   ]
  },
  {
   "cell_type": "code",
   "execution_count": 89,
   "metadata": {},
   "outputs": [
    {
     "name": "stdout",
     "output_type": "stream",
     "text": [
      "Counter({'Point': 2467})\n"
     ]
    },
    {
     "data": {
      "text/html": [
       "<div>\n",
       "<style scoped>\n",
       "    .dataframe tbody tr th:only-of-type {\n",
       "        vertical-align: middle;\n",
       "    }\n",
       "\n",
       "    .dataframe tbody tr th {\n",
       "        vertical-align: top;\n",
       "    }\n",
       "\n",
       "    .dataframe thead th {\n",
       "        text-align: right;\n",
       "    }\n",
       "</style>\n",
       "<table border=\"1\" class=\"dataframe\">\n",
       "  <thead>\n",
       "    <tr style=\"text-align: right;\">\n",
       "      <th></th>\n",
       "      <th>tmp_id</th>\n",
       "      <th>refid</th>\n",
       "      <th>type</th>\n",
       "      <th>navn</th>\n",
       "      <th>kilde</th>\n",
       "      <th>importeret</th>\n",
       "      <th>geometry</th>\n",
       "    </tr>\n",
       "  </thead>\n",
       "  <tbody>\n",
       "    <tr>\n",
       "      <th>0</th>\n",
       "      <td>1</td>\n",
       "      <td>801343</td>\n",
       "      <td>Hotel</td>\n",
       "      <td>Rønne Hotel</td>\n",
       "      <td>GuideDanmark</td>\n",
       "      <td>2023-02-16</td>\n",
       "      <td>POINT (863477.000 6120880.140)</td>\n",
       "    </tr>\n",
       "    <tr>\n",
       "      <th>1</th>\n",
       "      <td>2</td>\n",
       "      <td>955161</td>\n",
       "      <td>Hotel</td>\n",
       "      <td>Skjoldenæsholm Hotel &amp; Konferencecenter</td>\n",
       "      <td>GuideDanmark</td>\n",
       "      <td>2023-02-16</td>\n",
       "      <td>POINT (680036.230 6158075.800)</td>\n",
       "    </tr>\n",
       "    <tr>\n",
       "      <th>2</th>\n",
       "      <td>3</td>\n",
       "      <td>619418</td>\n",
       "      <td>Vandrehjem</td>\n",
       "      <td>Danhostel Roskilde</td>\n",
       "      <td>GuideDanmark</td>\n",
       "      <td>2023-02-16</td>\n",
       "      <td>POINT (693634.460 6171401.650)</td>\n",
       "    </tr>\n",
       "  </tbody>\n",
       "</table>\n",
       "</div>"
      ],
      "text/plain": [
       "   tmp_id   refid        type                                     navn   \n",
       "0       1  801343       Hotel                              Rønne Hotel  \\\n",
       "1       2  955161       Hotel  Skjoldenæsholm Hotel & Konferencecenter   \n",
       "2       3  619418  Vandrehjem                       Danhostel Roskilde   \n",
       "\n",
       "          kilde  importeret                        geometry  \n",
       "0  GuideDanmark  2023-02-16  POINT (863477.000 6120880.140)  \n",
       "1  GuideDanmark  2023-02-16  POINT (680036.230 6158075.800)  \n",
       "2  GuideDanmark  2023-02-16  POINT (693634.460 6171401.650)  "
      ]
     },
     "execution_count": 89,
     "metadata": {},
     "output_type": "execute_result"
    }
   ],
   "source": [
    "fn = \"facilit_overnatning\"\n",
    "gdf = gpd.read_file(fpc + f\"/{fn}/{fn}.shp\")\n",
    "print(Counter(gdf.geometry.geom_type))\n",
    "gdf.head(3)"
   ]
  },
  {
   "cell_type": "code",
   "execution_count": 91,
   "metadata": {},
   "outputs": [
    {
     "data": {
      "text/plain": [
       "Counter({'Bed & Breakfast': 816,\n",
       "         'Hotel': 712,\n",
       "         'Campingplads': 438,\n",
       "         'Slot/Herregård': 214,\n",
       "         'Vandrehjem': 139,\n",
       "         'Feriecenter': 78,\n",
       "         'Kro': 70})"
      ]
     },
     "execution_count": 91,
     "metadata": {},
     "output_type": "execute_result"
    }
   ],
   "source": [
    "Counter(gdf[\"type\"])"
   ]
  },
  {
   "cell_type": "code",
   "execution_count": 92,
   "metadata": {},
   "outputs": [],
   "source": [
    "del(gdf)"
   ]
  },
  {
   "attachments": {},
   "cell_type": "markdown",
   "metadata": {},
   "source": [
    "facilit_indkoeb"
   ]
  },
  {
   "cell_type": "code",
   "execution_count": 93,
   "metadata": {},
   "outputs": [
    {
     "name": "stdout",
     "output_type": "stream",
     "text": [
      "Counter({'Point': 8690})\n"
     ]
    },
    {
     "data": {
      "text/html": [
       "<div>\n",
       "<style scoped>\n",
       "    .dataframe tbody tr th:only-of-type {\n",
       "        vertical-align: middle;\n",
       "    }\n",
       "\n",
       "    .dataframe tbody tr th {\n",
       "        vertical-align: top;\n",
       "    }\n",
       "\n",
       "    .dataframe thead th {\n",
       "        text-align: right;\n",
       "    }\n",
       "</style>\n",
       "<table border=\"1\" class=\"dataframe\">\n",
       "  <thead>\n",
       "    <tr style=\"text-align: right;\">\n",
       "      <th></th>\n",
       "      <th>tmp_id</th>\n",
       "      <th>refid</th>\n",
       "      <th>type</th>\n",
       "      <th>cvrnr</th>\n",
       "      <th>pnr</th>\n",
       "      <th>navn</th>\n",
       "      <th>kilde</th>\n",
       "      <th>imported</th>\n",
       "      <th>geometry</th>\n",
       "    </tr>\n",
       "  </thead>\n",
       "  <tbody>\n",
       "    <tr>\n",
       "      <th>0</th>\n",
       "      <td>1</td>\n",
       "      <td>923224</td>\n",
       "      <td>kiosk</td>\n",
       "      <td>40187804.0</td>\n",
       "      <td>1.024329e+09</td>\n",
       "      <td>Købmand Nk 11</td>\n",
       "      <td>FVST smiley</td>\n",
       "      <td>2023-02-17</td>\n",
       "      <td>POINT (720336.170 6172844.470)</td>\n",
       "    </tr>\n",
       "    <tr>\n",
       "      <th>1</th>\n",
       "      <td>2</td>\n",
       "      <td>975355</td>\n",
       "      <td>kiosk</td>\n",
       "      <td>41447435.0</td>\n",
       "      <td>1.026245e+09</td>\n",
       "      <td>Pizzakiosken</td>\n",
       "      <td>FVST smiley</td>\n",
       "      <td>2023-02-17</td>\n",
       "      <td>POINT (559572.430 6369812.700)</td>\n",
       "    </tr>\n",
       "    <tr>\n",
       "      <th>2</th>\n",
       "      <td>3</td>\n",
       "      <td>909223</td>\n",
       "      <td>kiosk</td>\n",
       "      <td>39116227.0</td>\n",
       "      <td>1.023068e+09</td>\n",
       "      <td>Strøg Kiosk</td>\n",
       "      <td>FVST smiley</td>\n",
       "      <td>2023-02-17</td>\n",
       "      <td>POINT (718975.342 6171433.187)</td>\n",
       "    </tr>\n",
       "  </tbody>\n",
       "</table>\n",
       "</div>"
      ],
      "text/plain": [
       "   tmp_id   refid   type       cvrnr           pnr           navn   \n",
       "0       1  923224  kiosk  40187804.0  1.024329e+09  Købmand Nk 11  \\\n",
       "1       2  975355  kiosk  41447435.0  1.026245e+09   Pizzakiosken   \n",
       "2       3  909223  kiosk  39116227.0  1.023068e+09    Strøg Kiosk   \n",
       "\n",
       "         kilde    imported                        geometry  \n",
       "0  FVST smiley  2023-02-17  POINT (720336.170 6172844.470)  \n",
       "1  FVST smiley  2023-02-17  POINT (559572.430 6369812.700)  \n",
       "2  FVST smiley  2023-02-17  POINT (718975.342 6171433.187)  "
      ]
     },
     "execution_count": 93,
     "metadata": {},
     "output_type": "execute_result"
    }
   ],
   "source": [
    "fn = \"facilit_indkoeb\"\n",
    "gdf = gpd.read_file(fpc + f\"/{fn}/{fn}.shp\")\n",
    "print(Counter(gdf.geometry.geom_type))\n",
    "gdf.head(3)"
   ]
  },
  {
   "cell_type": "code",
   "execution_count": 94,
   "metadata": {},
   "outputs": [
    {
     "data": {
      "text/plain": [
       "Counter({'supermarked': 2933,\n",
       "         'bager': 1572,\n",
       "         'kiosk': 1448,\n",
       "         'slagter': 1209,\n",
       "         'Lokale smagsoplevelser': 591,\n",
       "         'tankstation': 513,\n",
       "         'fisk': 423,\n",
       "         'Virkelig guf': 1})"
      ]
     },
     "execution_count": 94,
     "metadata": {},
     "output_type": "execute_result"
    }
   ],
   "source": [
    "Counter(gdf[\"type\"])"
   ]
  },
  {
   "cell_type": "code",
   "execution_count": 95,
   "metadata": {},
   "outputs": [],
   "source": [
    "del(gdf)"
   ]
  },
  {
   "attachments": {},
   "cell_type": "markdown",
   "metadata": {},
   "source": [
    "facilit_service"
   ]
  },
  {
   "cell_type": "code",
   "execution_count": 96,
   "metadata": {},
   "outputs": [
    {
     "name": "stdout",
     "output_type": "stream",
     "text": [
      "Counter({'MultiPoint': 6343})\n"
     ]
    },
    {
     "data": {
      "text/html": [
       "<div>\n",
       "<style scoped>\n",
       "    .dataframe tbody tr th:only-of-type {\n",
       "        vertical-align: middle;\n",
       "    }\n",
       "\n",
       "    .dataframe tbody tr th {\n",
       "        vertical-align: top;\n",
       "    }\n",
       "\n",
       "    .dataframe thead th {\n",
       "        text-align: right;\n",
       "    }\n",
       "</style>\n",
       "<table border=\"1\" class=\"dataframe\">\n",
       "  <thead>\n",
       "    <tr style=\"text-align: right;\">\n",
       "      <th></th>\n",
       "      <th>tmp_id</th>\n",
       "      <th>refid</th>\n",
       "      <th>gruppe</th>\n",
       "      <th>type</th>\n",
       "      <th>type_kode</th>\n",
       "      <th>navn</th>\n",
       "      <th>kilde</th>\n",
       "      <th>importeret</th>\n",
       "      <th>geometry</th>\n",
       "    </tr>\n",
       "  </thead>\n",
       "  <tbody>\n",
       "    <tr>\n",
       "      <th>0</th>\n",
       "      <td>1</td>\n",
       "      <td>ce01d63b-12b8-4ead-bb37-b834c7f50210</td>\n",
       "      <td>Standard</td>\n",
       "      <td>Vandpost</td>\n",
       "      <td>1222.0</td>\n",
       "      <td>Vandpost ved toilet Lynggårdsskoven</td>\n",
       "      <td>GeoFA</td>\n",
       "      <td>2023-02-21</td>\n",
       "      <td>MULTIPOINT (882931.376 6115083.745)</td>\n",
       "    </tr>\n",
       "    <tr>\n",
       "      <th>1</th>\n",
       "      <td>2</td>\n",
       "      <td>b36f2e6c-e244-4c4e-9984-e4af7cc01786</td>\n",
       "      <td>Standard</td>\n",
       "      <td>Vandpost</td>\n",
       "      <td>1222.0</td>\n",
       "      <td>Vandpost ved toiletter Chr. Høj</td>\n",
       "      <td>GeoFA</td>\n",
       "      <td>2023-02-21</td>\n",
       "      <td>MULTIPOINT (876412.893 6124305.078)</td>\n",
       "    </tr>\n",
       "    <tr>\n",
       "      <th>2</th>\n",
       "      <td>3</td>\n",
       "      <td>79f35201-c7ff-4991-9a0f-07fb2ff262b4</td>\n",
       "      <td>Standard</td>\n",
       "      <td>Vandpost</td>\n",
       "      <td>1222.0</td>\n",
       "      <td>Vandpost ved toilet i Blykobbe Plantage</td>\n",
       "      <td>GeoFA</td>\n",
       "      <td>2023-02-21</td>\n",
       "      <td>MULTIPOINT (863365.883 6122949.217)</td>\n",
       "    </tr>\n",
       "  </tbody>\n",
       "</table>\n",
       "</div>"
      ],
      "text/plain": [
       "   tmp_id                                 refid    gruppe      type   \n",
       "0       1  ce01d63b-12b8-4ead-bb37-b834c7f50210  Standard  Vandpost  \\\n",
       "1       2  b36f2e6c-e244-4c4e-9984-e4af7cc01786  Standard  Vandpost   \n",
       "2       3  79f35201-c7ff-4991-9a0f-07fb2ff262b4  Standard  Vandpost   \n",
       "\n",
       "   type_kode                                     navn  kilde  importeret   \n",
       "0     1222.0      Vandpost ved toilet Lynggårdsskoven  GeoFA  2023-02-21  \\\n",
       "1     1222.0          Vandpost ved toiletter Chr. Høj  GeoFA  2023-02-21   \n",
       "2     1222.0  Vandpost ved toilet i Blykobbe Plantage  GeoFA  2023-02-21   \n",
       "\n",
       "                              geometry  \n",
       "0  MULTIPOINT (882931.376 6115083.745)  \n",
       "1  MULTIPOINT (876412.893 6124305.078)  \n",
       "2  MULTIPOINT (863365.883 6122949.217)  "
      ]
     },
     "execution_count": 96,
     "metadata": {},
     "output_type": "execute_result"
    }
   ],
   "source": [
    "fn = \"facilit_service\"\n",
    "gdf = gpd.read_file(fpc + f\"/{fn}/{fn}.shp\")\n",
    "print(Counter(gdf.geometry.geom_type))\n",
    "gdf.head(3)"
   ]
  },
  {
   "cell_type": "code",
   "execution_count": 97,
   "metadata": {},
   "outputs": [
    {
     "data": {
      "text/plain": [
       "Counter({'Supplement': 3964, 'Standard': 2379})"
      ]
     },
     "execution_count": 97,
     "metadata": {},
     "output_type": "execute_result"
    }
   ],
   "source": [
    "Counter(gdf[\"gruppe\"])"
   ]
  },
  {
   "cell_type": "code",
   "execution_count": 98,
   "metadata": {},
   "outputs": [
    {
     "data": {
      "text/plain": [
       "Counter({'Toilet': 2337,\n",
       "         'Drikkevand': 811,\n",
       "         'Cykelhandler': 704,\n",
       "         'Cykelservice': 112})"
      ]
     },
     "execution_count": 98,
     "metadata": {},
     "output_type": "execute_result"
    }
   ],
   "source": [
    "Counter(gdf[gdf[\"gruppe\"]==\"Supplement\"][\"type\"])"
   ]
  },
  {
   "cell_type": "code",
   "execution_count": 99,
   "metadata": {},
   "outputs": [
    {
     "data": {
      "text/plain": [
       "Counter({'Toilet': 1671,\n",
       "         'Vandpost': 371,\n",
       "         'Cykeludlejere': 185,\n",
       "         'Cykelpumpestation/-servicepost': 104,\n",
       "         'Turistkontor': 48})"
      ]
     },
     "execution_count": 99,
     "metadata": {},
     "output_type": "execute_result"
    }
   ],
   "source": [
    "Counter(gdf[gdf[\"gruppe\"]==\"Standard\"][\"type\"])"
   ]
  },
  {
   "cell_type": "code",
   "execution_count": 100,
   "metadata": {},
   "outputs": [
    {
     "data": {
      "text/plain": [
       "Counter({'Supplement': 2337, 'Standard': 1671})"
      ]
     },
     "execution_count": 100,
     "metadata": {},
     "output_type": "execute_result"
    }
   ],
   "source": [
    "Counter(gdf[gdf[\"type\"]==\"Toilet\"][\"gruppe\"])"
   ]
  },
  {
   "attachments": {},
   "cell_type": "markdown",
   "metadata": {},
   "source": [
    "facilit_rasteplads"
   ]
  },
  {
   "cell_type": "code",
   "execution_count": null,
   "metadata": {},
   "outputs": [],
   "source": []
  },
  {
   "attachments": {},
   "cell_type": "markdown",
   "metadata": {},
   "source": [
    "**Skiltede ruter**"
   ]
  },
  {
   "cell_type": "code",
   "execution_count": null,
   "metadata": {},
   "outputs": [],
   "source": [
    "fpc = fp + \"Skiltede Ruter\"\n",
    "os.listdir(fpc)"
   ]
  },
  {
   "cell_type": "code",
   "execution_count": null,
   "metadata": {},
   "outputs": [],
   "source": []
  }
 ],
 "metadata": {
  "kernelspec": {
   "display_name": "knupu",
   "language": "python",
   "name": "python3"
  },
  "language_info": {
   "codemirror_mode": {
    "name": "ipython",
    "version": 3
   },
   "file_extension": ".py",
   "mimetype": "text/x-python",
   "name": "python",
   "nbconvert_exporter": "python",
   "pygments_lexer": "ipython3",
   "version": "3.9.16"
  },
  "orig_nbformat": 4
 },
 "nbformat": 4,
 "nbformat_minor": 2
}
