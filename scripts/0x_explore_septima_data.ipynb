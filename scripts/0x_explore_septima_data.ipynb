{
 "cells": [
  {
   "attachments": {},
   "cell_type": "markdown",
   "metadata": {},
   "source": [
    "# Exploring Septima data layers\n",
    "\n",
    "**Source:** https://septima.dk/rida-web/\n",
    "\n",
    "**Access:** see slack 2023-06-15\n",
    "\n",
    "**Data preparation:**\n",
    "\n",
    "* make a folder `data/_septima` (will be gitignored)\n",
    "* make one folder `data/_septima/<CATEGORY>` where `<CATEGORY>` is replaced by the Septima RIDA data categories as found on the website (e.g. \"Vejtyper\", \"Landskaber og beskyttet natur\", etc.)\n",
    "* download all `.zip` files from https://septima.dk/rida-web/ into their correspoding subfolder\n",
    "\n",
    "Or, better, to reproduce without downloading yourself:\n",
    "* make a folder `data/_septima` (will be gitignored)\n",
    "* paste the contents of [this Dropbox folder](https://www.dropbox.com/sh/48lcq0ahs9rkotq/AAAT3aPY45f-K3Z6GLpqrC16a?dl=0) there\n",
    "\n",
    "**Goal of this notebook**\n",
    "\n",
    "* Explore all categories and subcategories within the WFS layers; \n",
    "* create an overview of all data categories available (see sheets 1 and 2 of the [googlesheet here](https://docs.google.com/spreadsheets/d/19oPiRxOglcvQkEgUipIW7I29kDV0PbKkuJzRGNrAy38/edit?usp=sharing))\n",
    "* final goal: decide which of the data layers we keep for our knudepunkter evaluation\n",
    "\n",
    "**Workflow below**:\n",
    "\n",
    "For each of the `.zip` files,\n",
    "* import it\n",
    "* explore its categories and subcategories, + geometry types, and note down in googlesheet\n"
   ]
  },
  {
   "cell_type": "code",
   "execution_count": 1,
   "metadata": {},
   "outputs": [],
   "source": [
    "# import libraries\n",
    "import os\n",
    "os.environ[\"USE_PYGEOS\"] = \"0\"\n",
    "import geopandas as gpd\n",
    "from collections import Counter\n",
    "import numpy as np"
   ]
  },
  {
   "cell_type": "code",
   "execution_count": 2,
   "metadata": {},
   "outputs": [],
   "source": [
    "# set main file path\n",
    "fp = \"../data/_septima/\""
   ]
  },
  {
   "attachments": {},
   "cell_type": "markdown",
   "metadata": {},
   "source": [
    "**Vejtyper**"
   ]
  },
  {
   "cell_type": "code",
   "execution_count": 5,
   "metadata": {},
   "outputs": [
    {
     "data": {
      "text/plain": [
       "['.DS_Store', 'vej_basislinje', 'vej_type']"
      ]
     },
     "execution_count": 5,
     "metadata": {},
     "output_type": "execute_result"
    }
   ],
   "source": [
    "fpc = fp + \"Vejtyper\"\n",
    "os.listdir(fpc)"
   ]
  },
  {
   "attachments": {},
   "cell_type": "markdown",
   "metadata": {},
   "source": [
    "Vej_basislinje"
   ]
  },
  {
   "cell_type": "code",
   "execution_count": 7,
   "metadata": {},
   "outputs": [],
   "source": [
    "gdf = gpd.read_file(fpc + \"/vej_basislinje/vej_basislinje.shp\")"
   ]
  },
  {
   "cell_type": "code",
   "execution_count": 11,
   "metadata": {},
   "outputs": [
    {
     "data": {
      "text/html": [
       "<div>\n",
       "<style scoped>\n",
       "    .dataframe tbody tr th:only-of-type {\n",
       "        vertical-align: middle;\n",
       "    }\n",
       "\n",
       "    .dataframe tbody tr th {\n",
       "        vertical-align: top;\n",
       "    }\n",
       "\n",
       "    .dataframe thead th {\n",
       "        text-align: right;\n",
       "    }\n",
       "</style>\n",
       "<table border=\"1\" class=\"dataframe\">\n",
       "  <thead>\n",
       "    <tr style=\"text-align: right;\">\n",
       "      <th></th>\n",
       "      <th>tmp_id</th>\n",
       "      <th>refid</th>\n",
       "      <th>kommunekod</th>\n",
       "      <th>type</th>\n",
       "      <th>kilde</th>\n",
       "      <th>opdateret</th>\n",
       "      <th>geometry</th>\n",
       "    </tr>\n",
       "  </thead>\n",
       "  <tbody>\n",
       "    <tr>\n",
       "      <th>0</th>\n",
       "      <td>1</td>\n",
       "      <td>1221986843</td>\n",
       "      <td>0265</td>\n",
       "      <td>Vej</td>\n",
       "      <td>GeoDK</td>\n",
       "      <td>2023-02-13</td>\n",
       "      <td>LINESTRING (689939.610 6168684.260, 689936.530...</td>\n",
       "    </tr>\n",
       "    <tr>\n",
       "      <th>1</th>\n",
       "      <td>2</td>\n",
       "      <td>1221986844</td>\n",
       "      <td>0265</td>\n",
       "      <td>Vej</td>\n",
       "      <td>GeoDK</td>\n",
       "      <td>2023-02-13</td>\n",
       "      <td>LINESTRING (689923.870 6168635.340, 689922.000...</td>\n",
       "    </tr>\n",
       "    <tr>\n",
       "      <th>2</th>\n",
       "      <td>3</td>\n",
       "      <td>1221986845</td>\n",
       "      <td>0265</td>\n",
       "      <td>Vej</td>\n",
       "      <td>GeoDK</td>\n",
       "      <td>2023-02-13</td>\n",
       "      <td>LINESTRING (689795.700 6168553.580, 689794.720...</td>\n",
       "    </tr>\n",
       "  </tbody>\n",
       "</table>\n",
       "</div>"
      ],
      "text/plain": [
       "   tmp_id       refid kommunekod type  kilde   opdateret   \n",
       "0       1  1221986843       0265  Vej  GeoDK  2023-02-13  \\\n",
       "1       2  1221986844       0265  Vej  GeoDK  2023-02-13   \n",
       "2       3  1221986845       0265  Vej  GeoDK  2023-02-13   \n",
       "\n",
       "                                            geometry  \n",
       "0  LINESTRING (689939.610 6168684.260, 689936.530...  \n",
       "1  LINESTRING (689923.870 6168635.340, 689922.000...  \n",
       "2  LINESTRING (689795.700 6168553.580, 689794.720...  "
      ]
     },
     "execution_count": 11,
     "metadata": {},
     "output_type": "execute_result"
    }
   ],
   "source": [
    "gdf.head(3)"
   ]
  },
  {
   "cell_type": "code",
   "execution_count": 15,
   "metadata": {},
   "outputs": [
    {
     "data": {
      "text/plain": [
       "Counter({'Vej': 1743150, 'Sti': 611641})"
      ]
     },
     "execution_count": 15,
     "metadata": {},
     "output_type": "execute_result"
    }
   ],
   "source": [
    "Counter(gdf[\"type\"])"
   ]
  },
  {
   "cell_type": "code",
   "execution_count": 13,
   "metadata": {},
   "outputs": [
    {
     "data": {
      "text/plain": [
       "True"
      ]
     },
     "execution_count": 13,
     "metadata": {},
     "output_type": "execute_result"
    }
   ],
   "source": [
    "all(gdf.geometry.type == \"LineString\")"
   ]
  },
  {
   "cell_type": "code",
   "execution_count": 16,
   "metadata": {},
   "outputs": [],
   "source": [
    "del(gdf)"
   ]
  },
  {
   "attachments": {},
   "cell_type": "markdown",
   "metadata": {},
   "source": [
    "Vej_type"
   ]
  },
  {
   "cell_type": "code",
   "execution_count": 18,
   "metadata": {},
   "outputs": [],
   "source": [
    "gdf = gpd.read_file(fpc + \"/vej_type/vej_type.shp\")"
   ]
  },
  {
   "cell_type": "code",
   "execution_count": 19,
   "metadata": {},
   "outputs": [
    {
     "data": {
      "text/html": [
       "<div>\n",
       "<style scoped>\n",
       "    .dataframe tbody tr th:only-of-type {\n",
       "        vertical-align: middle;\n",
       "    }\n",
       "\n",
       "    .dataframe tbody tr th {\n",
       "        vertical-align: top;\n",
       "    }\n",
       "\n",
       "    .dataframe thead th {\n",
       "        text-align: right;\n",
       "    }\n",
       "</style>\n",
       "<table border=\"1\" class=\"dataframe\">\n",
       "  <thead>\n",
       "    <tr style=\"text-align: right;\">\n",
       "      <th></th>\n",
       "      <th>tmp_id</th>\n",
       "      <th>refid</th>\n",
       "      <th>gruppe</th>\n",
       "      <th>type</th>\n",
       "      <th>kilde</th>\n",
       "      <th>opdateret</th>\n",
       "      <th>geometry</th>\n",
       "    </tr>\n",
       "  </thead>\n",
       "  <tbody>\n",
       "    <tr>\n",
       "      <th>0</th>\n",
       "      <td>1</td>\n",
       "      <td>1221986843</td>\n",
       "      <td>stier og mindre veje</td>\n",
       "      <td>Anden vej</td>\n",
       "      <td>GeoDK</td>\n",
       "      <td>2023-02-13</td>\n",
       "      <td>LINESTRING (689939.610 6168684.260, 689936.530...</td>\n",
       "    </tr>\n",
       "    <tr>\n",
       "      <th>1</th>\n",
       "      <td>2</td>\n",
       "      <td>1221986844</td>\n",
       "      <td>stier og mindre veje</td>\n",
       "      <td>Anden vej</td>\n",
       "      <td>GeoDK</td>\n",
       "      <td>2023-02-13</td>\n",
       "      <td>LINESTRING (689923.870 6168635.340, 689922.000...</td>\n",
       "    </tr>\n",
       "    <tr>\n",
       "      <th>2</th>\n",
       "      <td>3</td>\n",
       "      <td>1221986845</td>\n",
       "      <td>stier og mindre veje</td>\n",
       "      <td>Anden vej</td>\n",
       "      <td>GeoDK</td>\n",
       "      <td>2023-02-13</td>\n",
       "      <td>LINESTRING (689795.700 6168553.580, 689794.720...</td>\n",
       "    </tr>\n",
       "  </tbody>\n",
       "</table>\n",
       "</div>"
      ],
      "text/plain": [
       "   tmp_id       refid                gruppe       type  kilde   opdateret   \n",
       "0       1  1221986843  stier og mindre veje  Anden vej  GeoDK  2023-02-13  \\\n",
       "1       2  1221986844  stier og mindre veje  Anden vej  GeoDK  2023-02-13   \n",
       "2       3  1221986845  stier og mindre veje  Anden vej  GeoDK  2023-02-13   \n",
       "\n",
       "                                            geometry  \n",
       "0  LINESTRING (689939.610 6168684.260, 689936.530...  \n",
       "1  LINESTRING (689923.870 6168635.340, 689922.000...  \n",
       "2  LINESTRING (689795.700 6168553.580, 689794.720...  "
      ]
     },
     "execution_count": 19,
     "metadata": {},
     "output_type": "execute_result"
    }
   ],
   "source": [
    "gdf.head(3)"
   ]
  },
  {
   "cell_type": "code",
   "execution_count": 22,
   "metadata": {},
   "outputs": [
    {
     "data": {
      "text/plain": [
       "Counter({'stier og mindre veje': 2163993,\n",
       "         'store veje': 185513,\n",
       "         'motorveje': 5285})"
      ]
     },
     "execution_count": 22,
     "metadata": {},
     "output_type": "execute_result"
    }
   ],
   "source": [
    "Counter(gdf[\"gruppe\"])"
   ]
  },
  {
   "cell_type": "code",
   "execution_count": 24,
   "metadata": {},
   "outputs": [
    {
     "data": {
      "text/plain": [
       "Counter({'Lille vej': 690366,\n",
       "         'Adgangsvej': 314481,\n",
       "         'Mindre sti': 296601,\n",
       "         'Anden vej': 286535,\n",
       "         'Mellem vej': 259845,\n",
       "         'Hovedsti': 220169,\n",
       "         'Cykelsti langs vej': 53357,\n",
       "         'Cykelbane (markeret på vej)': 39639,\n",
       "         'Gangsti': 1482,\n",
       "         'Gågade': 592,\n",
       "         'Fiktiv': 565,\n",
       "         'Bussluse': 208,\n",
       "         'Redningsvej': 153})"
      ]
     },
     "execution_count": 24,
     "metadata": {},
     "output_type": "execute_result"
    }
   ],
   "source": [
    "Counter(gdf[gdf[\"gruppe\"]==\"stier og mindre veje\"][\"type\"])"
   ]
  },
  {
   "cell_type": "code",
   "execution_count": 25,
   "metadata": {},
   "outputs": [
    {
     "data": {
      "text/plain": [
       "Counter({'Stor vej': 97454, 'Fordelingsrute': 69819, 'Gennemfartsrute': 18240})"
      ]
     },
     "execution_count": 25,
     "metadata": {},
     "output_type": "execute_result"
    }
   ],
   "source": [
    "Counter(gdf[gdf[\"gruppe\"]==\"store veje\"][\"type\"])"
   ]
  },
  {
   "cell_type": "code",
   "execution_count": 26,
   "metadata": {},
   "outputs": [
    {
     "data": {
      "text/plain": [
       "Counter({'Motorvej': 4157, 'Motortrafikvej': 1128})"
      ]
     },
     "execution_count": 26,
     "metadata": {},
     "output_type": "execute_result"
    }
   ],
   "source": [
    "Counter(gdf[gdf[\"gruppe\"]==\"motorveje\"][\"type\"])"
   ]
  },
  {
   "cell_type": "code",
   "execution_count": 20,
   "metadata": {},
   "outputs": [
    {
     "data": {
      "text/plain": [
       "True"
      ]
     },
     "execution_count": 20,
     "metadata": {},
     "output_type": "execute_result"
    }
   ],
   "source": [
    "all(gdf.geometry.type == \"LineString\")"
   ]
  },
  {
   "cell_type": "code",
   "execution_count": 27,
   "metadata": {},
   "outputs": [
    {
     "data": {
      "text/plain": [
       "Counter({'Lille vej': 690366,\n",
       "         'Adgangsvej': 314481,\n",
       "         'Mindre sti': 296601,\n",
       "         'Anden vej': 286535,\n",
       "         'Mellem vej': 259845,\n",
       "         'Hovedsti': 220169,\n",
       "         'Stor vej': 97454,\n",
       "         'Fordelingsrute': 69819,\n",
       "         'Cykelsti langs vej': 53357,\n",
       "         'Cykelbane (markeret på vej)': 39639,\n",
       "         'Gennemfartsrute': 18240,\n",
       "         'Motorvej': 4157,\n",
       "         'Gangsti': 1482,\n",
       "         'Motortrafikvej': 1128,\n",
       "         'Gågade': 592,\n",
       "         'Fiktiv': 565,\n",
       "         'Bussluse': 208,\n",
       "         'Redningsvej': 153})"
      ]
     },
     "execution_count": 27,
     "metadata": {},
     "output_type": "execute_result"
    }
   ],
   "source": [
    "Counter(gdf[\"type\"])"
   ]
  },
  {
   "cell_type": "code",
   "execution_count": 28,
   "metadata": {},
   "outputs": [],
   "source": [
    "del(gdf)"
   ]
  },
  {
   "attachments": {},
   "cell_type": "markdown",
   "metadata": {},
   "source": [
    "**Vejmyndighed**"
   ]
  },
  {
   "cell_type": "code",
   "execution_count": 33,
   "metadata": {},
   "outputs": [
    {
     "data": {
      "text/plain": [
       "['vej_myndighed']"
      ]
     },
     "execution_count": 33,
     "metadata": {},
     "output_type": "execute_result"
    }
   ],
   "source": [
    "fpc = fp + \"Vejmyndighed\"\n",
    "os.listdir(fpc)"
   ]
  },
  {
   "cell_type": "code",
   "execution_count": 34,
   "metadata": {},
   "outputs": [],
   "source": [
    "gdf = gpd.read_file(fpc + \"/vej_myndighed/vej_myndighed.shp\")"
   ]
  },
  {
   "cell_type": "code",
   "execution_count": 35,
   "metadata": {},
   "outputs": [
    {
     "data": {
      "text/html": [
       "<div>\n",
       "<style scoped>\n",
       "    .dataframe tbody tr th:only-of-type {\n",
       "        vertical-align: middle;\n",
       "    }\n",
       "\n",
       "    .dataframe tbody tr th {\n",
       "        vertical-align: top;\n",
       "    }\n",
       "\n",
       "    .dataframe thead th {\n",
       "        text-align: right;\n",
       "    }\n",
       "</style>\n",
       "<table border=\"1\" class=\"dataframe\">\n",
       "  <thead>\n",
       "    <tr style=\"text-align: right;\">\n",
       "      <th></th>\n",
       "      <th>tmp_id</th>\n",
       "      <th>refid</th>\n",
       "      <th>bestyrer_n</th>\n",
       "      <th>bestyrer</th>\n",
       "      <th>type</th>\n",
       "      <th>kilde</th>\n",
       "      <th>importeret</th>\n",
       "      <th>geometry</th>\n",
       "    </tr>\n",
       "  </thead>\n",
       "  <tbody>\n",
       "    <tr>\n",
       "      <th>0</th>\n",
       "      <td>1</td>\n",
       "      <td>1</td>\n",
       "      <td>787.0</td>\n",
       "      <td>Thisted</td>\n",
       "      <td>Privat fællesvej</td>\n",
       "      <td>CVF</td>\n",
       "      <td>2023-02-16</td>\n",
       "      <td>LINESTRING (457463.480 6292962.001, 457473.050...</td>\n",
       "    </tr>\n",
       "    <tr>\n",
       "      <th>1</th>\n",
       "      <td>2</td>\n",
       "      <td>2</td>\n",
       "      <td>787.0</td>\n",
       "      <td>Thisted</td>\n",
       "      <td>Off. kommunevej</td>\n",
       "      <td>CVF</td>\n",
       "      <td>2023-02-16</td>\n",
       "      <td>LINESTRING (464055.990 6285303.131, 464061.180...</td>\n",
       "    </tr>\n",
       "    <tr>\n",
       "      <th>2</th>\n",
       "      <td>3</td>\n",
       "      <td>3</td>\n",
       "      <td>787.0</td>\n",
       "      <td>Thisted</td>\n",
       "      <td>Off. kommunevej</td>\n",
       "      <td>CVF</td>\n",
       "      <td>2023-02-16</td>\n",
       "      <td>LINESTRING (465041.470 6289644.081, 465067.510...</td>\n",
       "    </tr>\n",
       "  </tbody>\n",
       "</table>\n",
       "</div>"
      ],
      "text/plain": [
       "   tmp_id refid  bestyrer_n bestyrer              type kilde  importeret   \n",
       "0       1     1       787.0  Thisted  Privat fællesvej   CVF  2023-02-16  \\\n",
       "1       2     2       787.0  Thisted   Off. kommunevej   CVF  2023-02-16   \n",
       "2       3     3       787.0  Thisted   Off. kommunevej   CVF  2023-02-16   \n",
       "\n",
       "                                            geometry  \n",
       "0  LINESTRING (457463.480 6292962.001, 457473.050...  \n",
       "1  LINESTRING (464055.990 6285303.131, 464061.180...  \n",
       "2  LINESTRING (465041.470 6289644.081, 465067.510...  "
      ]
     },
     "execution_count": 35,
     "metadata": {},
     "output_type": "execute_result"
    }
   ],
   "source": [
    "gdf.head(3)"
   ]
  },
  {
   "cell_type": "code",
   "execution_count": 36,
   "metadata": {},
   "outputs": [
    {
     "data": {
      "text/plain": [
       "Counter({'Aarhus': 19219,\n",
       "         'Aalborg': 12275,\n",
       "         'Esbjerg': 7481,\n",
       "         'Herning': 7391,\n",
       "         'Silkeborg': 6804,\n",
       "         'Odense': 6783,\n",
       "         'Vejle': 6749,\n",
       "         'Viborg': 6215,\n",
       "         'Sønderborg': 5852,\n",
       "         'Aabenraa': 5364,\n",
       "         'Odsherred': 4980,\n",
       "         'Slagelse': 4959,\n",
       "         'Kolding': 4919,\n",
       "         'Horsens': 4802,\n",
       "         'Skanderborg': 4799,\n",
       "         'Ringkøbing-Skjern': 4777,\n",
       "         'Vordingborg': 4700,\n",
       "         'Faaborg-Midtfyn': 4534,\n",
       "         'Randers': 4294,\n",
       "         'Næstved': 4265,\n",
       "         'Favrskov': 4235,\n",
       "         'Fredericia': 4199,\n",
       "         'Hjørring': 4093,\n",
       "         'Gribskov': 4016,\n",
       "         'Svendborg': 3796,\n",
       "         'København': 3739,\n",
       "         'Frederikshavn': 3736,\n",
       "         'Guldborgsund': 3656,\n",
       "         'Holstebro': 3612,\n",
       "         'Bornholm': 3608,\n",
       "         'Hedensted': 3537,\n",
       "         'Holbæk': 3455,\n",
       "         'Køge': 3360,\n",
       "         'Frederikssund': 3339,\n",
       "         'Vejdirektoratet': 3304,\n",
       "         'Haderslev': 3269,\n",
       "         'Jammerbugt': 3263,\n",
       "         'Norddjurs': 3262,\n",
       "         'Skive': 2934,\n",
       "         'Varde': 2898,\n",
       "         'Greve': 2837,\n",
       "         'Roskilde': 2794,\n",
       "         'Middelfart': 2722,\n",
       "         'Mariagerfjord': 2657,\n",
       "         'Thisted': 2615,\n",
       "         'Assens': 2505,\n",
       "         'Sorø': 2480,\n",
       "         'Faxe': 2469,\n",
       "         'Brønderslev': 2467,\n",
       "         'Rudersdal': 2456,\n",
       "         'Tønder': 2445,\n",
       "         'Halsnæs': 2345,\n",
       "         'Lemvig': 2323,\n",
       "         'Egedal': 2239,\n",
       "         'Vejen': 2088,\n",
       "         'Ikast-Brande': 2077,\n",
       "         'Furesø': 2071,\n",
       "         'Billund': 2041,\n",
       "         'Kerteminde': 2038,\n",
       "         'Odder': 2021,\n",
       "         'Nordfyns': 2000,\n",
       "         'Helsingør': 1940,\n",
       "         'Høje-Taastrup': 1928,\n",
       "         'Lolland': 1873,\n",
       "         'Lejre': 1868,\n",
       "         'Rebild': 1794,\n",
       "         'Vesthimmerlands': 1762,\n",
       "         'Hillerød': 1508,\n",
       "         'Ballerup': 1494,\n",
       "         'Kalundborg': 1386,\n",
       "         'Læsø': 1370,\n",
       "         'Fredensborg': 1353,\n",
       "         'Stevns': 1221,\n",
       "         'Langeland': 1220,\n",
       "         'Lyngby-Taarbæk': 1164,\n",
       "         'Brøndby': 1147,\n",
       "         'Solrød': 1143,\n",
       "         'Nyborg': 1132,\n",
       "         'Albertslund': 1088,\n",
       "         'Gentofte': 1026,\n",
       "         'Syddjurs': 1006,\n",
       "         'Ringsted': 996,\n",
       "         'Struer': 933,\n",
       "         'Morsø': 925,\n",
       "         'Hørsholm': 895,\n",
       "         'Allerød': 846,\n",
       "         'Ishøj': 829,\n",
       "         'Fanø': 805,\n",
       "         'Glostrup': 618,\n",
       "         'Gladsaxe': 606,\n",
       "         'Tårnby': 593,\n",
       "         'Samsø': 587,\n",
       "         'Rødovre': 575,\n",
       "         'Frederiksberg': 527,\n",
       "         'Hvidovre': 525,\n",
       "         'Vallensbæk': 443,\n",
       "         'Dragør': 411,\n",
       "         'Herlev': 371,\n",
       "         'Sund & Bælt': 37,\n",
       "         'Øresundsbro Konsortiet': 1})"
      ]
     },
     "execution_count": 36,
     "metadata": {},
     "output_type": "execute_result"
    }
   ],
   "source": [
    "Counter(gdf[\"bestyrer\"])"
   ]
  },
  {
   "cell_type": "code",
   "execution_count": 37,
   "metadata": {},
   "outputs": [
    {
     "data": {
      "text/plain": [
       "Counter({'Off. kommunevej': 146602,\n",
       "         'Privat fællesvej': 121691,\n",
       "         'Privat vej': 18713,\n",
       "         'Off. statsvej': 3304,\n",
       "         'Almen vej': 1176,\n",
       "         'Udlagt priv. fælles': 623})"
      ]
     },
     "execution_count": 37,
     "metadata": {},
     "output_type": "execute_result"
    }
   ],
   "source": [
    "Counter(gdf[\"type\"])"
   ]
  },
  {
   "cell_type": "code",
   "execution_count": 38,
   "metadata": {},
   "outputs": [
    {
     "data": {
      "text/plain": [
       "Counter({'Off. kommunevej': 2006,\n",
       "         'Privat fællesvej': 1958,\n",
       "         'Udlagt priv. fælles': 209,\n",
       "         'Privat vej': 121})"
      ]
     },
     "execution_count": 38,
     "metadata": {},
     "output_type": "execute_result"
    }
   ],
   "source": [
    "Counter(gdf[gdf[\"bestyrer\"]==\"Randers\"][\"type\"])"
   ]
  },
  {
   "cell_type": "code",
   "execution_count": 39,
   "metadata": {},
   "outputs": [
    {
     "data": {
      "text/plain": [
       "False"
      ]
     },
     "execution_count": 39,
     "metadata": {},
     "output_type": "execute_result"
    }
   ],
   "source": [
    "all(gdf.geometry.type == \"LineString\")"
   ]
  },
  {
   "cell_type": "code",
   "execution_count": 46,
   "metadata": {},
   "outputs": [
    {
     "data": {
      "text/plain": [
       "True"
      ]
     },
     "execution_count": 46,
     "metadata": {},
     "output_type": "execute_result"
    }
   ],
   "source": [
    "all([t.geom_type in [\"LineString\", \"MultiLineString\"] for t in gdf.geometry])"
   ]
  },
  {
   "cell_type": "code",
   "execution_count": 47,
   "metadata": {},
   "outputs": [],
   "source": [
    "del(gdf)"
   ]
  },
  {
   "attachments": {},
   "cell_type": "markdown",
   "metadata": {},
   "source": [
    "**Hastighedsgrænser**"
   ]
  },
  {
   "cell_type": "code",
   "execution_count": 32,
   "metadata": {},
   "outputs": [
    {
     "data": {
      "text/plain": [
       "['vej_hastighedsgraense']"
      ]
     },
     "execution_count": 32,
     "metadata": {},
     "output_type": "execute_result"
    }
   ],
   "source": [
    "fpc = fp + \"Hastighedsgraenser\"\n",
    "os.listdir(fpc)"
   ]
  },
  {
   "cell_type": "code",
   "execution_count": 33,
   "metadata": {},
   "outputs": [],
   "source": [
    "gdf = gpd.read_file(fpc + \"/vej_hastighedsgraense/vej_hastighedsgraense.shp\")"
   ]
  },
  {
   "cell_type": "code",
   "execution_count": 34,
   "metadata": {},
   "outputs": [
    {
     "data": {
      "text/html": [
       "<div>\n",
       "<style scoped>\n",
       "    .dataframe tbody tr th:only-of-type {\n",
       "        vertical-align: middle;\n",
       "    }\n",
       "\n",
       "    .dataframe tbody tr th {\n",
       "        vertical-align: top;\n",
       "    }\n",
       "\n",
       "    .dataframe thead th {\n",
       "        text-align: right;\n",
       "    }\n",
       "</style>\n",
       "<table border=\"1\" class=\"dataframe\">\n",
       "  <thead>\n",
       "    <tr style=\"text-align: right;\">\n",
       "      <th></th>\n",
       "      <th>tmp_id</th>\n",
       "      <th>id</th>\n",
       "      <th>gruppe</th>\n",
       "      <th>type</th>\n",
       "      <th>paabudt_ma</th>\n",
       "      <th>anbefalet_</th>\n",
       "      <th>kilde</th>\n",
       "      <th>geometry</th>\n",
       "    </tr>\n",
       "  </thead>\n",
       "  <tbody>\n",
       "    <tr>\n",
       "      <th>0</th>\n",
       "      <td>1</td>\n",
       "      <td>34397608</td>\n",
       "      <td>høj</td>\n",
       "      <td>80.0</td>\n",
       "      <td>80.0</td>\n",
       "      <td>NaN</td>\n",
       "      <td>OSM</td>\n",
       "      <td>LINESTRING (672526.237 6139473.053, 672517.488...</td>\n",
       "    </tr>\n",
       "    <tr>\n",
       "      <th>1</th>\n",
       "      <td>2</td>\n",
       "      <td>194413279</td>\n",
       "      <td>høj</td>\n",
       "      <td>80.0</td>\n",
       "      <td>80.0</td>\n",
       "      <td>NaN</td>\n",
       "      <td>OSM</td>\n",
       "      <td>LINESTRING (505249.967 6080805.894, 505458.048...</td>\n",
       "    </tr>\n",
       "    <tr>\n",
       "      <th>2</th>\n",
       "      <td>3</td>\n",
       "      <td>25346926</td>\n",
       "      <td>høj</td>\n",
       "      <td>100.0</td>\n",
       "      <td>100.0</td>\n",
       "      <td>NaN</td>\n",
       "      <td>OSM</td>\n",
       "      <td>LINESTRING (504907.758 6079898.813, 505000.182...</td>\n",
       "    </tr>\n",
       "  </tbody>\n",
       "</table>\n",
       "</div>"
      ],
      "text/plain": [
       "   tmp_id         id gruppe   type  paabudt_ma  anbefalet_ kilde   \n",
       "0       1   34397608    høj   80.0        80.0         NaN   OSM  \\\n",
       "1       2  194413279    høj   80.0        80.0         NaN   OSM   \n",
       "2       3   25346926    høj  100.0       100.0         NaN   OSM   \n",
       "\n",
       "                                            geometry  \n",
       "0  LINESTRING (672526.237 6139473.053, 672517.488...  \n",
       "1  LINESTRING (505249.967 6080805.894, 505458.048...  \n",
       "2  LINESTRING (504907.758 6079898.813, 505000.182...  "
      ]
     },
     "execution_count": 34,
     "metadata": {},
     "output_type": "execute_result"
    }
   ],
   "source": [
    "gdf.head(3)"
   ]
  },
  {
   "cell_type": "code",
   "execution_count": 51,
   "metadata": {},
   "outputs": [
    {
     "data": {
      "text/plain": [
       "Counter({50.0: 57275,\n",
       "         80.0: 25229,\n",
       "         60.0: 10376,\n",
       "         40.0: 8739,\n",
       "         30.0: 7591,\n",
       "         70.0: 6221,\n",
       "         20.0: 1497,\n",
       "         90.0: 753,\n",
       "         100.0: 155,\n",
       "         10.0: 58,\n",
       "         110.0: 5})"
      ]
     },
     "execution_count": 51,
     "metadata": {},
     "output_type": "execute_result"
    }
   ],
   "source": [
    "Counter(gdf[\"type\"])"
   ]
  },
  {
   "cell_type": "code",
   "execution_count": 35,
   "metadata": {},
   "outputs": [
    {
     "data": {
      "text/plain": [
       "<Axes: >"
      ]
     },
     "execution_count": 35,
     "metadata": {},
     "output_type": "execute_result"
    },
    {
     "data": {
      "image/png": "[encoded data removed]",
      "text/plain": [
       "<Figure size 640x480 with 1 Axes>"
      ]
     },
     "metadata": {},
     "output_type": "display_data"
    }
   ],
   "source": [
    "gdf.plot()"
   ]
  },
  {
   "cell_type": "code",
   "execution_count": 52,
   "metadata": {},
   "outputs": [
    {
     "data": {
      "text/plain": [
       "True"
      ]
     },
     "execution_count": 52,
     "metadata": {},
     "output_type": "execute_result"
    }
   ],
   "source": [
    "all(gdf.geometry.geom_type == \"LineString\")"
   ]
  },
  {
   "cell_type": "code",
   "execution_count": 54,
   "metadata": {},
   "outputs": [],
   "source": [
    "del(gdf)"
   ]
  },
  {
   "attachments": {},
   "cell_type": "markdown",
   "metadata": {},
   "source": [
    "**Landskaber og beskyttet natur**"
   ]
  },
  {
   "cell_type": "code",
   "execution_count": 53,
   "metadata": {},
   "outputs": [
    {
     "data": {
      "text/plain": [
       "['land_frednatpark',\n",
       " 'land_beskyttnatur_linje',\n",
       " 'land_vaerdifuld',\n",
       " 'land_beskyttnatur_flade']"
      ]
     },
     "execution_count": 53,
     "metadata": {},
     "output_type": "execute_result"
    }
   ],
   "source": [
    "fpc = fp + \"Landskaber og beskyttet natur\"\n",
    "os.listdir(fpc)"
   ]
  },
  {
   "attachments": {},
   "cell_type": "markdown",
   "metadata": {},
   "source": [
    "land_frednatpark"
   ]
  },
  {
   "cell_type": "code",
   "execution_count": 55,
   "metadata": {},
   "outputs": [],
   "source": [
    "gdf = gpd.read_file(fpc + \"/land_frednatpark/land_frednatpark.shp\")"
   ]
  },
  {
   "cell_type": "code",
   "execution_count": 56,
   "metadata": {},
   "outputs": [
    {
     "data": {
      "text/html": [
       "<div>\n",
       "<style scoped>\n",
       "    .dataframe tbody tr th:only-of-type {\n",
       "        vertical-align: middle;\n",
       "    }\n",
       "\n",
       "    .dataframe tbody tr th {\n",
       "        vertical-align: top;\n",
       "    }\n",
       "\n",
       "    .dataframe thead th {\n",
       "        text-align: right;\n",
       "    }\n",
       "</style>\n",
       "<table border=\"1\" class=\"dataframe\">\n",
       "  <thead>\n",
       "    <tr style=\"text-align: right;\">\n",
       "      <th></th>\n",
       "      <th>tmp_id</th>\n",
       "      <th>refid</th>\n",
       "      <th>type</th>\n",
       "      <th>kilde</th>\n",
       "      <th>importeret</th>\n",
       "      <th>geometry</th>\n",
       "    </tr>\n",
       "  </thead>\n",
       "  <tbody>\n",
       "    <tr>\n",
       "      <th>0</th>\n",
       "      <td>1</td>\n",
       "      <td>1</td>\n",
       "      <td>Fredet område</td>\n",
       "      <td>DMP</td>\n",
       "      <td>2023-02-16</td>\n",
       "      <td>POLYGON ((481354.158 6127069.914, 481355.889 6...</td>\n",
       "    </tr>\n",
       "    <tr>\n",
       "      <th>1</th>\n",
       "      <td>2</td>\n",
       "      <td>2</td>\n",
       "      <td>Fredet område</td>\n",
       "      <td>DMP</td>\n",
       "      <td>2023-02-16</td>\n",
       "      <td>POLYGON ((481185.671 6126399.489, 481227.552 6...</td>\n",
       "    </tr>\n",
       "    <tr>\n",
       "      <th>2</th>\n",
       "      <td>3</td>\n",
       "      <td>3</td>\n",
       "      <td>Fredet område</td>\n",
       "      <td>DMP</td>\n",
       "      <td>2023-02-16</td>\n",
       "      <td>POLYGON ((491755.689 6127514.472, 492002.092 6...</td>\n",
       "    </tr>\n",
       "  </tbody>\n",
       "</table>\n",
       "</div>"
      ],
      "text/plain": [
       "   tmp_id refid           type kilde  importeret   \n",
       "0       1     1  Fredet område   DMP  2023-02-16  \\\n",
       "1       2     2  Fredet område   DMP  2023-02-16   \n",
       "2       3     3  Fredet område   DMP  2023-02-16   \n",
       "\n",
       "                                            geometry  \n",
       "0  POLYGON ((481354.158 6127069.914, 481355.889 6...  \n",
       "1  POLYGON ((481185.671 6126399.489, 481227.552 6...  \n",
       "2  POLYGON ((491755.689 6127514.472, 492002.092 6...  "
      ]
     },
     "execution_count": 56,
     "metadata": {},
     "output_type": "execute_result"
    }
   ],
   "source": [
    "gdf.head(3)"
   ]
  },
  {
   "cell_type": "code",
   "execution_count": 57,
   "metadata": {},
   "outputs": [
    {
     "data": {
      "text/plain": [
       "Counter({'Fredet område': 4180,\n",
       "         'Bekendtgørelsesfredning': 34,\n",
       "         'Naturnationalpark': 15,\n",
       "         'Naturpark': 11,\n",
       "         'Nationalpark': 10})"
      ]
     },
     "execution_count": 57,
     "metadata": {},
     "output_type": "execute_result"
    }
   ],
   "source": [
    "Counter(gdf[\"type\"])"
   ]
  },
  {
   "cell_type": "code",
   "execution_count": 60,
   "metadata": {},
   "outputs": [
    {
     "data": {
      "text/plain": [
       "True"
      ]
     },
     "execution_count": 60,
     "metadata": {},
     "output_type": "execute_result"
    }
   ],
   "source": [
    "all([t in [\"Polygon\", \"MultiPolygon\"] for t in gdf.geometry.geom_type])"
   ]
  },
  {
   "cell_type": "code",
   "execution_count": 61,
   "metadata": {},
   "outputs": [],
   "source": [
    "del(gdf)"
   ]
  },
  {
   "attachments": {},
   "cell_type": "markdown",
   "metadata": {},
   "source": [
    "land_beskyttnatur_linje"
   ]
  },
  {
   "cell_type": "code",
   "execution_count": 62,
   "metadata": {},
   "outputs": [],
   "source": [
    "gdf = gpd.read_file(fpc + \"/land_beskyttnatur_linje/land_beskyttnatur_linje.shp\")"
   ]
  },
  {
   "cell_type": "code",
   "execution_count": 63,
   "metadata": {},
   "outputs": [
    {
     "data": {
      "text/html": [
       "<div>\n",
       "<style scoped>\n",
       "    .dataframe tbody tr th:only-of-type {\n",
       "        vertical-align: middle;\n",
       "    }\n",
       "\n",
       "    .dataframe tbody tr th {\n",
       "        vertical-align: top;\n",
       "    }\n",
       "\n",
       "    .dataframe thead th {\n",
       "        text-align: right;\n",
       "    }\n",
       "</style>\n",
       "<table border=\"1\" class=\"dataframe\">\n",
       "  <thead>\n",
       "    <tr style=\"text-align: right;\">\n",
       "      <th></th>\n",
       "      <th>tmp_id</th>\n",
       "      <th>refid</th>\n",
       "      <th>type</th>\n",
       "      <th>kilde</th>\n",
       "      <th>importeret</th>\n",
       "      <th>geometry</th>\n",
       "    </tr>\n",
       "  </thead>\n",
       "  <tbody>\n",
       "    <tr>\n",
       "      <th>0</th>\n",
       "      <td>1</td>\n",
       "      <td>1</td>\n",
       "      <td>Beskyttet vandløb</td>\n",
       "      <td>DMP</td>\n",
       "      <td>2023-02-16</td>\n",
       "      <td>LINESTRING (886437.403 6110844.186, 886438.337...</td>\n",
       "    </tr>\n",
       "    <tr>\n",
       "      <th>1</th>\n",
       "      <td>2</td>\n",
       "      <td>2</td>\n",
       "      <td>Beskyttet vandløb</td>\n",
       "      <td>DMP</td>\n",
       "      <td>2023-02-16</td>\n",
       "      <td>LINESTRING (862929.060 6132674.255, 862929.068...</td>\n",
       "    </tr>\n",
       "    <tr>\n",
       "      <th>2</th>\n",
       "      <td>3</td>\n",
       "      <td>3</td>\n",
       "      <td>Beskyttet vandløb</td>\n",
       "      <td>DMP</td>\n",
       "      <td>2023-02-16</td>\n",
       "      <td>LINESTRING (886063.224 6110876.588, 886054.182...</td>\n",
       "    </tr>\n",
       "  </tbody>\n",
       "</table>\n",
       "</div>"
      ],
      "text/plain": [
       "   tmp_id refid               type kilde  importeret   \n",
       "0       1     1  Beskyttet vandløb   DMP  2023-02-16  \\\n",
       "1       2     2  Beskyttet vandløb   DMP  2023-02-16   \n",
       "2       3     3  Beskyttet vandløb   DMP  2023-02-16   \n",
       "\n",
       "                                            geometry  \n",
       "0  LINESTRING (886437.403 6110844.186, 886438.337...  \n",
       "1  LINESTRING (862929.060 6132674.255, 862929.068...  \n",
       "2  LINESTRING (886063.224 6110876.588, 886054.182...  "
      ]
     },
     "execution_count": 63,
     "metadata": {},
     "output_type": "execute_result"
    }
   ],
   "source": [
    "gdf.head(3)"
   ]
  },
  {
   "cell_type": "code",
   "execution_count": 64,
   "metadata": {},
   "outputs": [
    {
     "data": {
      "text/plain": [
       "Counter({'Beskyttet vandløb': 98081})"
      ]
     },
     "execution_count": 64,
     "metadata": {},
     "output_type": "execute_result"
    }
   ],
   "source": [
    "Counter(gdf[\"type\"])"
   ]
  },
  {
   "cell_type": "code",
   "execution_count": 65,
   "metadata": {},
   "outputs": [
    {
     "data": {
      "text/plain": [
       "Counter({'LineString': 98074, 'MultiLineString': 7})"
      ]
     },
     "execution_count": 65,
     "metadata": {},
     "output_type": "execute_result"
    }
   ],
   "source": [
    "Counter(gdf[\"geometry\"].geom_type)"
   ]
  },
  {
   "cell_type": "code",
   "execution_count": 66,
   "metadata": {},
   "outputs": [],
   "source": [
    "del(gdf)"
   ]
  },
  {
   "attachments": {},
   "cell_type": "markdown",
   "metadata": {},
   "source": [
    "land_vaerdifuld"
   ]
  },
  {
   "cell_type": "code",
   "execution_count": 67,
   "metadata": {},
   "outputs": [],
   "source": [
    "gdf = gpd.read_file(fpc + \"/land_vaerdifuld/land_vaerdifuld.shp\")"
   ]
  },
  {
   "cell_type": "code",
   "execution_count": 68,
   "metadata": {},
   "outputs": [
    {
     "name": "stdout",
     "output_type": "stream",
     "text": [
      "Counter({'Polygon': 71637, 'MultiPolygon': 2572})\n"
     ]
    },
    {
     "data": {
      "text/html": [
       "<div>\n",
       "<style scoped>\n",
       "    .dataframe tbody tr th:only-of-type {\n",
       "        vertical-align: middle;\n",
       "    }\n",
       "\n",
       "    .dataframe tbody tr th {\n",
       "        vertical-align: top;\n",
       "    }\n",
       "\n",
       "    .dataframe thead th {\n",
       "        text-align: right;\n",
       "    }\n",
       "</style>\n",
       "<table border=\"1\" class=\"dataframe\">\n",
       "  <thead>\n",
       "    <tr style=\"text-align: right;\">\n",
       "      <th></th>\n",
       "      <th>tmp_id</th>\n",
       "      <th>type</th>\n",
       "      <th>refid</th>\n",
       "      <th>cvrname</th>\n",
       "      <th>komnr</th>\n",
       "      <th>link</th>\n",
       "      <th>kilde</th>\n",
       "      <th>importeret</th>\n",
       "      <th>geometry</th>\n",
       "    </tr>\n",
       "  </thead>\n",
       "  <tbody>\n",
       "    <tr>\n",
       "      <th>0</th>\n",
       "      <td>1</td>\n",
       "      <td>Bevaringsværdig landskab</td>\n",
       "      <td>3105200</td>\n",
       "      <td>Aalborg kommune</td>\n",
       "      <td>851</td>\n",
       "      <td>https://dokument.plandata.dk/11_1106459_DRAFT_...</td>\n",
       "      <td>Plan</td>\n",
       "      <td>2023-02-16</td>\n",
       "      <td>POLYGON ((530601.554 6320941.391, 530582.554 6...</td>\n",
       "    </tr>\n",
       "    <tr>\n",
       "      <th>1</th>\n",
       "      <td>2</td>\n",
       "      <td>Bevaringsværdig landskab</td>\n",
       "      <td>10851484</td>\n",
       "      <td>Lolland kommune</td>\n",
       "      <td>360</td>\n",
       "      <td>https://dokument.plandata.dk/11_10817377_16494...</td>\n",
       "      <td>Plan</td>\n",
       "      <td>2023-02-16</td>\n",
       "      <td>POLYGON ((629609.739 6084979.240, 629643.770 6...</td>\n",
       "    </tr>\n",
       "    <tr>\n",
       "      <th>2</th>\n",
       "      <td>3</td>\n",
       "      <td>Bevaringsværdig landskab</td>\n",
       "      <td>10353486</td>\n",
       "      <td>Næstved kommune</td>\n",
       "      <td>370</td>\n",
       "      <td>https://dokument.plandata.dk/11_10265731_16251...</td>\n",
       "      <td>Plan</td>\n",
       "      <td>2023-02-16</td>\n",
       "      <td>POLYGON ((682280.790 6119136.110, 682259.260 6...</td>\n",
       "    </tr>\n",
       "  </tbody>\n",
       "</table>\n",
       "</div>"
      ],
      "text/plain": [
       "   tmp_id                      type     refid          cvrname  komnr   \n",
       "0       1  Bevaringsværdig landskab   3105200  Aalborg kommune    851  \\\n",
       "1       2  Bevaringsværdig landskab  10851484  Lolland kommune    360   \n",
       "2       3  Bevaringsværdig landskab  10353486  Næstved kommune    370   \n",
       "\n",
       "                                                link kilde  importeret   \n",
       "0  https://dokument.plandata.dk/11_1106459_DRAFT_...  Plan  2023-02-16  \\\n",
       "1  https://dokument.plandata.dk/11_10817377_16494...  Plan  2023-02-16   \n",
       "2  https://dokument.plandata.dk/11_10265731_16251...  Plan  2023-02-16   \n",
       "\n",
       "                                            geometry  \n",
       "0  POLYGON ((530601.554 6320941.391, 530582.554 6...  \n",
       "1  POLYGON ((629609.739 6084979.240, 629643.770 6...  \n",
       "2  POLYGON ((682280.790 6119136.110, 682259.260 6...  "
      ]
     },
     "execution_count": 68,
     "metadata": {},
     "output_type": "execute_result"
    }
   ],
   "source": [
    "print(Counter(gdf.geometry.geom_type))\n",
    "gdf.head(3)"
   ]
  },
  {
   "cell_type": "code",
   "execution_count": 69,
   "metadata": {},
   "outputs": [
    {
     "data": {
      "text/plain": [
       "Counter({'Naturbeskyttelsesområde': 43064,\n",
       "         'Kulturhistorisk bevaringsværdi': 24458,\n",
       "         'Værdifuldt kulturmiljø': 4001,\n",
       "         'Bevaringsværdig landskab': 2686})"
      ]
     },
     "execution_count": 69,
     "metadata": {},
     "output_type": "execute_result"
    }
   ],
   "source": [
    "Counter(gdf[\"type\"])"
   ]
  },
  {
   "cell_type": "code",
   "execution_count": 70,
   "metadata": {},
   "outputs": [],
   "source": [
    "del(gdf)"
   ]
  },
  {
   "attachments": {},
   "cell_type": "markdown",
   "metadata": {},
   "source": [
    "land_beskyttnatur_flade"
   ]
  },
  {
   "cell_type": "code",
   "execution_count": 71,
   "metadata": {},
   "outputs": [],
   "source": [
    "gdf = gpd.read_file(fpc + \"/land_beskyttnatur_flade/land_beskyttnatur_flade.shp\")"
   ]
  },
  {
   "cell_type": "code",
   "execution_count": 72,
   "metadata": {},
   "outputs": [
    {
     "name": "stdout",
     "output_type": "stream",
     "text": [
      "Counter({'Polygon': 305236, 'MultiPolygon': 2862})\n"
     ]
    },
    {
     "data": {
      "text/html": [
       "<div>\n",
       "<style scoped>\n",
       "    .dataframe tbody tr th:only-of-type {\n",
       "        vertical-align: middle;\n",
       "    }\n",
       "\n",
       "    .dataframe tbody tr th {\n",
       "        vertical-align: top;\n",
       "    }\n",
       "\n",
       "    .dataframe thead th {\n",
       "        text-align: right;\n",
       "    }\n",
       "</style>\n",
       "<table border=\"1\" class=\"dataframe\">\n",
       "  <thead>\n",
       "    <tr style=\"text-align: right;\">\n",
       "      <th></th>\n",
       "      <th>tmp_id</th>\n",
       "      <th>refid</th>\n",
       "      <th>type</th>\n",
       "      <th>kilde</th>\n",
       "      <th>importeret</th>\n",
       "      <th>geometry</th>\n",
       "    </tr>\n",
       "  </thead>\n",
       "  <tbody>\n",
       "    <tr>\n",
       "      <th>0</th>\n",
       "      <td>1</td>\n",
       "      <td>1</td>\n",
       "      <td>Beskyttet natur</td>\n",
       "      <td>DMP</td>\n",
       "      <td>2023-02-16</td>\n",
       "      <td>POLYGON ((721704.978 6168909.923, 721676.760 6...</td>\n",
       "    </tr>\n",
       "    <tr>\n",
       "      <th>1</th>\n",
       "      <td>2</td>\n",
       "      <td>2</td>\n",
       "      <td>Beskyttet natur</td>\n",
       "      <td>DMP</td>\n",
       "      <td>2023-02-16</td>\n",
       "      <td>POLYGON ((536244.207 6341674.826, 536213.080 6...</td>\n",
       "    </tr>\n",
       "    <tr>\n",
       "      <th>2</th>\n",
       "      <td>3</td>\n",
       "      <td>3</td>\n",
       "      <td>Beskyttet natur</td>\n",
       "      <td>DMP</td>\n",
       "      <td>2023-02-16</td>\n",
       "      <td>POLYGON ((721631.407 6183878.419, 721633.700 6...</td>\n",
       "    </tr>\n",
       "  </tbody>\n",
       "</table>\n",
       "</div>"
      ],
      "text/plain": [
       "   tmp_id refid             type kilde  importeret   \n",
       "0       1     1  Beskyttet natur   DMP  2023-02-16  \\\n",
       "1       2     2  Beskyttet natur   DMP  2023-02-16   \n",
       "2       3     3  Beskyttet natur   DMP  2023-02-16   \n",
       "\n",
       "                                            geometry  \n",
       "0  POLYGON ((721704.978 6168909.923, 721676.760 6...  \n",
       "1  POLYGON ((536244.207 6341674.826, 536213.080 6...  \n",
       "2  POLYGON ((721631.407 6183878.419, 721633.700 6...  "
      ]
     },
     "execution_count": 72,
     "metadata": {},
     "output_type": "execute_result"
    }
   ],
   "source": [
    "print(Counter(gdf.geometry.geom_type))\n",
    "gdf.head(3)"
   ]
  },
  {
   "cell_type": "code",
   "execution_count": 73,
   "metadata": {},
   "outputs": [
    {
     "data": {
      "text/plain": [
       "Counter({'Beskyttet natur': 308098})"
      ]
     },
     "execution_count": 73,
     "metadata": {},
     "output_type": "execute_result"
    }
   ],
   "source": [
    "Counter(gdf[\"type\"])"
   ]
  },
  {
   "cell_type": "code",
   "execution_count": 74,
   "metadata": {},
   "outputs": [],
   "source": [
    "del(gdf)"
   ]
  },
  {
   "attachments": {},
   "cell_type": "markdown",
   "metadata": {},
   "source": [
    "**Arealanvendelse**"
   ]
  },
  {
   "cell_type": "code",
   "execution_count": 75,
   "metadata": {},
   "outputs": [
    {
     "data": {
      "text/plain": [
       "['land_anvendelse']"
      ]
     },
     "execution_count": 75,
     "metadata": {},
     "output_type": "execute_result"
    }
   ],
   "source": [
    "fpc = fp + \"Arealanvendelse\"\n",
    "os.listdir(fpc)"
   ]
  },
  {
   "cell_type": "code",
   "execution_count": 76,
   "metadata": {},
   "outputs": [],
   "source": [
    "gdf = gpd.read_file(fpc + \"/land_anvendelse/land_anvendelse.shp\")"
   ]
  },
  {
   "cell_type": "code",
   "execution_count": 77,
   "metadata": {},
   "outputs": [
    {
     "name": "stdout",
     "output_type": "stream",
     "text": [
      "Counter({'Polygon': 1184461, 'MultiPolygon': 21754})\n"
     ]
    },
    {
     "data": {
      "text/html": [
       "<div>\n",
       "<style scoped>\n",
       "    .dataframe tbody tr th:only-of-type {\n",
       "        vertical-align: middle;\n",
       "    }\n",
       "\n",
       "    .dataframe tbody tr th {\n",
       "        vertical-align: top;\n",
       "    }\n",
       "\n",
       "    .dataframe thead th {\n",
       "        text-align: right;\n",
       "    }\n",
       "</style>\n",
       "<table border=\"1\" class=\"dataframe\">\n",
       "  <thead>\n",
       "    <tr style=\"text-align: right;\">\n",
       "      <th></th>\n",
       "      <th>tmp_id</th>\n",
       "      <th>gruppe</th>\n",
       "      <th>type</th>\n",
       "      <th>kilde</th>\n",
       "      <th>geometry</th>\n",
       "    </tr>\n",
       "  </thead>\n",
       "  <tbody>\n",
       "    <tr>\n",
       "      <th>0</th>\n",
       "      <td>1</td>\n",
       "      <td>Teknisk areal</td>\n",
       "      <td>Militært anlæg</td>\n",
       "      <td>GeoDK</td>\n",
       "      <td>POLYGON ((716290.390 6129802.910, 716263.130 6...</td>\n",
       "    </tr>\n",
       "    <tr>\n",
       "      <th>1</th>\n",
       "      <td>2</td>\n",
       "      <td>Teknisk areal</td>\n",
       "      <td>Militært anlæg</td>\n",
       "      <td>GeoDK</td>\n",
       "      <td>POLYGON ((717442.600 6189461.770, 717435.320 6...</td>\n",
       "    </tr>\n",
       "    <tr>\n",
       "      <th>2</th>\n",
       "      <td>3</td>\n",
       "      <td>Teknisk areal</td>\n",
       "      <td>Militært anlæg</td>\n",
       "      <td>GeoDK</td>\n",
       "      <td>POLYGON ((706058.820 6169023.820, 706067.290 6...</td>\n",
       "    </tr>\n",
       "  </tbody>\n",
       "</table>\n",
       "</div>"
      ],
      "text/plain": [
       "   tmp_id         gruppe            type  kilde   \n",
       "0       1  Teknisk areal  Militært anlæg  GeoDK  \\\n",
       "1       2  Teknisk areal  Militært anlæg  GeoDK   \n",
       "2       3  Teknisk areal  Militært anlæg  GeoDK   \n",
       "\n",
       "                                            geometry  \n",
       "0  POLYGON ((716290.390 6129802.910, 716263.130 6...  \n",
       "1  POLYGON ((717442.600 6189461.770, 717435.320 6...  \n",
       "2  POLYGON ((706058.820 6169023.820, 706067.290 6...  "
      ]
     },
     "execution_count": 77,
     "metadata": {},
     "output_type": "execute_result"
    }
   ],
   "source": [
    "print(Counter(gdf.geometry.geom_type))\n",
    "gdf.head(3)"
   ]
  },
  {
   "cell_type": "code",
   "execution_count": 79,
   "metadata": {},
   "outputs": [
    {
     "name": "stdout",
     "output_type": "stream",
     "text": [
      "Bymæssig anvendelse\n",
      "Counter({'Lav bebyggelse': 176860, 'Erhverv': 6135, 'Høj bebyggelse': 1764, 'Sommerhusområde': 1436, 'Sommerhusområde skov': 982, 'Bykerne': 204})\n",
      "Dyrkede arealer\n",
      "Counter({'Dyrkede afgrøder på marker': 330871, 'Afgræssede marker': 211944, 'Braklagte marker': 33466})\n",
      "Naturtyper\n",
      "Counter({'Sø': 181995, 'Skov': 101395, 'Kratbevoksning': 42614, 'Vådområde': 25334, 'Hede': 7717, 'Gartneri': 2160, 'Sandklit': 794, 'Råstofområde': 565})\n",
      "Skovinddeling\n",
      "Counter({'Blandet': 58173, 'Nåletræ': 7743, 'Løvtræ': 4856})\n",
      "Teknisk areal\n",
      "Counter({'Sportsanlæg': 4426, 'Andre': 3535, 'Energiforsyningsanlæg': 1107, 'Militært anlæg': 81, 'Lufthavn': 52, 'Affaldsanlæg': 6})\n"
     ]
    }
   ],
   "source": [
    "for gr in np.unique(gdf[\"gruppe\"]):\n",
    "    print(gr)\n",
    "    print(Counter(gdf[gdf[\"gruppe\"]==gr][\"type\"]))"
   ]
  },
  {
   "cell_type": "code",
   "execution_count": 80,
   "metadata": {},
   "outputs": [],
   "source": [
    "del(gdf)"
   ]
  },
  {
   "attachments": {},
   "cell_type": "markdown",
   "metadata": {},
   "source": [
    "**Ejerskab**"
   ]
  },
  {
   "cell_type": "code",
   "execution_count": 81,
   "metadata": {},
   "outputs": [
    {
     "data": {
      "text/plain": [
       "['land_ejerskab']"
      ]
     },
     "execution_count": 81,
     "metadata": {},
     "output_type": "execute_result"
    }
   ],
   "source": [
    "fpc = fp + \"Ejerskab\"\n",
    "os.listdir(fpc)"
   ]
  },
  {
   "cell_type": "code",
   "execution_count": 82,
   "metadata": {},
   "outputs": [],
   "source": [
    "gdf = gpd.read_file(fpc + \"/land_ejerskab/land_ejerskab.shp\")"
   ]
  },
  {
   "cell_type": "code",
   "execution_count": 83,
   "metadata": {},
   "outputs": [
    {
     "name": "stdout",
     "output_type": "stream",
     "text": [
      "Counter({'Polygon': 2902943, 'MultiPolygon': 126821})\n"
     ]
    },
    {
     "data": {
      "text/html": [
       "<div>\n",
       "<style scoped>\n",
       "    .dataframe tbody tr th:only-of-type {\n",
       "        vertical-align: middle;\n",
       "    }\n",
       "\n",
       "    .dataframe tbody tr th {\n",
       "        vertical-align: top;\n",
       "    }\n",
       "\n",
       "    .dataframe thead th {\n",
       "        text-align: right;\n",
       "    }\n",
       "</style>\n",
       "<table border=\"1\" class=\"dataframe\">\n",
       "  <thead>\n",
       "    <tr style=\"text-align: right;\">\n",
       "      <th></th>\n",
       "      <th>tmp_id</th>\n",
       "      <th>gruppe</th>\n",
       "      <th>type</th>\n",
       "      <th>kilde</th>\n",
       "      <th>importeret</th>\n",
       "      <th>geometry</th>\n",
       "    </tr>\n",
       "  </thead>\n",
       "  <tbody>\n",
       "    <tr>\n",
       "      <th>0</th>\n",
       "      <td>1</td>\n",
       "      <td>Ejerforhold</td>\n",
       "      <td>Andre</td>\n",
       "      <td>RIDA</td>\n",
       "      <td>NaN</td>\n",
       "      <td>POLYGON ((561450.343 6246319.661, 561440.716 6...</td>\n",
       "    </tr>\n",
       "    <tr>\n",
       "      <th>1</th>\n",
       "      <td>2</td>\n",
       "      <td>Ejerforhold</td>\n",
       "      <td>Andre</td>\n",
       "      <td>RIDA</td>\n",
       "      <td>NaN</td>\n",
       "      <td>MULTIPOLYGON (((570535.407 6247311.929, 570519...</td>\n",
       "    </tr>\n",
       "    <tr>\n",
       "      <th>2</th>\n",
       "      <td>3</td>\n",
       "      <td>Ejerforhold</td>\n",
       "      <td>Andre</td>\n",
       "      <td>RIDA</td>\n",
       "      <td>NaN</td>\n",
       "      <td>MULTIPOLYGON (((570352.000 6246201.005, 570362...</td>\n",
       "    </tr>\n",
       "  </tbody>\n",
       "</table>\n",
       "</div>"
      ],
      "text/plain": [
       "   tmp_id       gruppe   type kilde importeret   \n",
       "0       1  Ejerforhold  Andre  RIDA        NaN  \\\n",
       "1       2  Ejerforhold  Andre  RIDA        NaN   \n",
       "2       3  Ejerforhold  Andre  RIDA        NaN   \n",
       "\n",
       "                                            geometry  \n",
       "0  POLYGON ((561450.343 6246319.661, 561440.716 6...  \n",
       "1  MULTIPOLYGON (((570535.407 6247311.929, 570519...  \n",
       "2  MULTIPOLYGON (((570352.000 6246201.005, 570362...  "
      ]
     },
     "execution_count": 83,
     "metadata": {},
     "output_type": "execute_result"
    }
   ],
   "source": [
    "print(Counter(gdf.geometry.geom_type))\n",
    "gdf.head(3)"
   ]
  },
  {
   "cell_type": "code",
   "execution_count": 84,
   "metadata": {},
   "outputs": [
    {
     "data": {
      "text/plain": [
       "Counter({'Ejerforhold': 3028734, 'Statslige styrelser': 1030})"
      ]
     },
     "execution_count": 84,
     "metadata": {},
     "output_type": "execute_result"
    }
   ],
   "source": [
    "Counter(gdf[\"gruppe\"])"
   ]
  },
  {
   "cell_type": "code",
   "execution_count": 85,
   "metadata": {},
   "outputs": [
    {
     "data": {
      "text/plain": [
       "Counter({'Ejerforhold': 3028734, 'Statslige styrelser': 1030})"
      ]
     },
     "execution_count": 85,
     "metadata": {},
     "output_type": "execute_result"
    }
   ],
   "source": [
    "Counter(gdf[\"gruppe\"])"
   ]
  },
  {
   "cell_type": "code",
   "execution_count": 87,
   "metadata": {},
   "outputs": [],
   "source": [
    "del(gdf)"
   ]
  },
  {
   "attachments": {},
   "cell_type": "markdown",
   "metadata": {},
   "source": [
    "**Faciliteter**"
   ]
  },
  {
   "cell_type": "code",
   "execution_count": 4,
   "metadata": {},
   "outputs": [
    {
     "data": {
      "text/plain": [
       "['facilit_overnatning',\n",
       " 'facilit_indkoeb',\n",
       " 'facilit_service',\n",
       " 'facilit_rasteplads']"
      ]
     },
     "execution_count": 4,
     "metadata": {},
     "output_type": "execute_result"
    }
   ],
   "source": [
    "fpc = fp + \"Faciliteter\"\n",
    "os.listdir(fpc)"
   ]
  },
  {
   "attachments": {},
   "cell_type": "markdown",
   "metadata": {},
   "source": [
    "facilit_overnatning"
   ]
  },
  {
   "cell_type": "code",
   "execution_count": 89,
   "metadata": {},
   "outputs": [
    {
     "name": "stdout",
     "output_type": "stream",
     "text": [
      "Counter({'Point': 2467})\n"
     ]
    },
    {
     "data": {
      "text/html": [
       "<div>\n",
       "<style scoped>\n",
       "    .dataframe tbody tr th:only-of-type {\n",
       "        vertical-align: middle;\n",
       "    }\n",
       "\n",
       "    .dataframe tbody tr th {\n",
       "        vertical-align: top;\n",
       "    }\n",
       "\n",
       "    .dataframe thead th {\n",
       "        text-align: right;\n",
       "    }\n",
       "</style>\n",
       "<table border=\"1\" class=\"dataframe\">\n",
       "  <thead>\n",
       "    <tr style=\"text-align: right;\">\n",
       "      <th></th>\n",
       "      <th>tmp_id</th>\n",
       "      <th>refid</th>\n",
       "      <th>type</th>\n",
       "      <th>navn</th>\n",
       "      <th>kilde</th>\n",
       "      <th>importeret</th>\n",
       "      <th>geometry</th>\n",
       "    </tr>\n",
       "  </thead>\n",
       "  <tbody>\n",
       "    <tr>\n",
       "      <th>0</th>\n",
       "      <td>1</td>\n",
       "      <td>801343</td>\n",
       "      <td>Hotel</td>\n",
       "      <td>Rønne Hotel</td>\n",
       "      <td>GuideDanmark</td>\n",
       "      <td>2023-02-16</td>\n",
       "      <td>POINT (863477.000 6120880.140)</td>\n",
       "    </tr>\n",
       "    <tr>\n",
       "      <th>1</th>\n",
       "      <td>2</td>\n",
       "      <td>955161</td>\n",
       "      <td>Hotel</td>\n",
       "      <td>Skjoldenæsholm Hotel &amp; Konferencecenter</td>\n",
       "      <td>GuideDanmark</td>\n",
       "      <td>2023-02-16</td>\n",
       "      <td>POINT (680036.230 6158075.800)</td>\n",
       "    </tr>\n",
       "    <tr>\n",
       "      <th>2</th>\n",
       "      <td>3</td>\n",
       "      <td>619418</td>\n",
       "      <td>Vandrehjem</td>\n",
       "      <td>Danhostel Roskilde</td>\n",
       "      <td>GuideDanmark</td>\n",
       "      <td>2023-02-16</td>\n",
       "      <td>POINT (693634.460 6171401.650)</td>\n",
       "    </tr>\n",
       "  </tbody>\n",
       "</table>\n",
       "</div>"
      ],
      "text/plain": [
       "   tmp_id   refid        type                                     navn   \n",
       "0       1  801343       Hotel                              Rønne Hotel  \\\n",
       "1       2  955161       Hotel  Skjoldenæsholm Hotel & Konferencecenter   \n",
       "2       3  619418  Vandrehjem                       Danhostel Roskilde   \n",
       "\n",
       "          kilde  importeret                        geometry  \n",
       "0  GuideDanmark  2023-02-16  POINT (863477.000 6120880.140)  \n",
       "1  GuideDanmark  2023-02-16  POINT (680036.230 6158075.800)  \n",
       "2  GuideDanmark  2023-02-16  POINT (693634.460 6171401.650)  "
      ]
     },
     "execution_count": 89,
     "metadata": {},
     "output_type": "execute_result"
    }
   ],
   "source": [
    "fn = \"facilit_overnatning\"\n",
    "gdf = gpd.read_file(fpc + f\"/{fn}/{fn}.shp\")\n",
    "print(Counter(gdf.geometry.geom_type))\n",
    "gdf.head(3)"
   ]
  },
  {
   "cell_type": "code",
   "execution_count": 91,
   "metadata": {},
   "outputs": [
    {
     "data": {
      "text/plain": [
       "Counter({'Bed & Breakfast': 816,\n",
       "         'Hotel': 712,\n",
       "         'Campingplads': 438,\n",
       "         'Slot/Herregård': 214,\n",
       "         'Vandrehjem': 139,\n",
       "         'Feriecenter': 78,\n",
       "         'Kro': 70})"
      ]
     },
     "execution_count": 91,
     "metadata": {},
     "output_type": "execute_result"
    }
   ],
   "source": [
    "Counter(gdf[\"type\"])"
   ]
  },
  {
   "cell_type": "code",
   "execution_count": 92,
   "metadata": {},
   "outputs": [],
   "source": [
    "del(gdf)"
   ]
  },
  {
   "attachments": {},
   "cell_type": "markdown",
   "metadata": {},
   "source": [
    "facilit_indkoeb"
   ]
  },
  {
   "cell_type": "code",
   "execution_count": 93,
   "metadata": {},
   "outputs": [
    {
     "name": "stdout",
     "output_type": "stream",
     "text": [
      "Counter({'Point': 8690})\n"
     ]
    },
    {
     "data": {
      "text/html": [
       "<div>\n",
       "<style scoped>\n",
       "    .dataframe tbody tr th:only-of-type {\n",
       "        vertical-align: middle;\n",
       "    }\n",
       "\n",
       "    .dataframe tbody tr th {\n",
       "        vertical-align: top;\n",
       "    }\n",
       "\n",
       "    .dataframe thead th {\n",
       "        text-align: right;\n",
       "    }\n",
       "</style>\n",
       "<table border=\"1\" class=\"dataframe\">\n",
       "  <thead>\n",
       "    <tr style=\"text-align: right;\">\n",
       "      <th></th>\n",
       "      <th>tmp_id</th>\n",
       "      <th>refid</th>\n",
       "      <th>type</th>\n",
       "      <th>cvrnr</th>\n",
       "      <th>pnr</th>\n",
       "      <th>navn</th>\n",
       "      <th>kilde</th>\n",
       "      <th>imported</th>\n",
       "      <th>geometry</th>\n",
       "    </tr>\n",
       "  </thead>\n",
       "  <tbody>\n",
       "    <tr>\n",
       "      <th>0</th>\n",
       "      <td>1</td>\n",
       "      <td>923224</td>\n",
       "      <td>kiosk</td>\n",
       "      <td>40187804.0</td>\n",
       "      <td>1.024329e+09</td>\n",
       "      <td>Købmand Nk 11</td>\n",
       "      <td>FVST smiley</td>\n",
       "      <td>2023-02-17</td>\n",
       "      <td>POINT (720336.170 6172844.470)</td>\n",
       "    </tr>\n",
       "    <tr>\n",
       "      <th>1</th>\n",
       "      <td>2</td>\n",
       "      <td>975355</td>\n",
       "      <td>kiosk</td>\n",
       "      <td>41447435.0</td>\n",
       "      <td>1.026245e+09</td>\n",
       "      <td>Pizzakiosken</td>\n",
       "      <td>FVST smiley</td>\n",
       "      <td>2023-02-17</td>\n",
       "      <td>POINT (559572.430 6369812.700)</td>\n",
       "    </tr>\n",
       "    <tr>\n",
       "      <th>2</th>\n",
       "      <td>3</td>\n",
       "      <td>909223</td>\n",
       "      <td>kiosk</td>\n",
       "      <td>39116227.0</td>\n",
       "      <td>1.023068e+09</td>\n",
       "      <td>Strøg Kiosk</td>\n",
       "      <td>FVST smiley</td>\n",
       "      <td>2023-02-17</td>\n",
       "      <td>POINT (718975.342 6171433.187)</td>\n",
       "    </tr>\n",
       "  </tbody>\n",
       "</table>\n",
       "</div>"
      ],
      "text/plain": [
       "   tmp_id   refid   type       cvrnr           pnr           navn   \n",
       "0       1  923224  kiosk  40187804.0  1.024329e+09  Købmand Nk 11  \\\n",
       "1       2  975355  kiosk  41447435.0  1.026245e+09   Pizzakiosken   \n",
       "2       3  909223  kiosk  39116227.0  1.023068e+09    Strøg Kiosk   \n",
       "\n",
       "         kilde    imported                        geometry  \n",
       "0  FVST smiley  2023-02-17  POINT (720336.170 6172844.470)  \n",
       "1  FVST smiley  2023-02-17  POINT (559572.430 6369812.700)  \n",
       "2  FVST smiley  2023-02-17  POINT (718975.342 6171433.187)  "
      ]
     },
     "execution_count": 93,
     "metadata": {},
     "output_type": "execute_result"
    }
   ],
   "source": [
    "fn = \"facilit_indkoeb\"\n",
    "gdf = gpd.read_file(fpc + f\"/{fn}/{fn}.shp\")\n",
    "print(Counter(gdf.geometry.geom_type))\n",
    "gdf.head(3)"
   ]
  },
  {
   "cell_type": "code",
   "execution_count": 94,
   "metadata": {},
   "outputs": [
    {
     "data": {
      "text/plain": [
       "Counter({'supermarked': 2933,\n",
       "         'bager': 1572,\n",
       "         'kiosk': 1448,\n",
       "         'slagter': 1209,\n",
       "         'Lokale smagsoplevelser': 591,\n",
       "         'tankstation': 513,\n",
       "         'fisk': 423,\n",
       "         'Virkelig guf': 1})"
      ]
     },
     "execution_count": 94,
     "metadata": {},
     "output_type": "execute_result"
    }
   ],
   "source": [
    "Counter(gdf[\"type\"])"
   ]
  },
  {
   "cell_type": "code",
   "execution_count": 95,
   "metadata": {},
   "outputs": [],
   "source": [
    "del(gdf)"
   ]
  },
  {
   "attachments": {},
   "cell_type": "markdown",
   "metadata": {},
   "source": [
    "facilit_service"
   ]
  },
  {
   "cell_type": "code",
   "execution_count": 5,
   "metadata": {},
   "outputs": [
    {
     "name": "stdout",
     "output_type": "stream",
     "text": [
      "Counter({'MultiPoint': 6343})\n"
     ]
    },
    {
     "data": {
      "text/html": [
       "<div>\n",
       "<style scoped>\n",
       "    .dataframe tbody tr th:only-of-type {\n",
       "        vertical-align: middle;\n",
       "    }\n",
       "\n",
       "    .dataframe tbody tr th {\n",
       "        vertical-align: top;\n",
       "    }\n",
       "\n",
       "    .dataframe thead th {\n",
       "        text-align: right;\n",
       "    }\n",
       "</style>\n",
       "<table border=\"1\" class=\"dataframe\">\n",
       "  <thead>\n",
       "    <tr style=\"text-align: right;\">\n",
       "      <th></th>\n",
       "      <th>tmp_id</th>\n",
       "      <th>refid</th>\n",
       "      <th>gruppe</th>\n",
       "      <th>type</th>\n",
       "      <th>type_kode</th>\n",
       "      <th>navn</th>\n",
       "      <th>kilde</th>\n",
       "      <th>importeret</th>\n",
       "      <th>geometry</th>\n",
       "    </tr>\n",
       "  </thead>\n",
       "  <tbody>\n",
       "    <tr>\n",
       "      <th>0</th>\n",
       "      <td>1</td>\n",
       "      <td>ce01d63b-12b8-4ead-bb37-b834c7f50210</td>\n",
       "      <td>Standard</td>\n",
       "      <td>Vandpost</td>\n",
       "      <td>1222.0</td>\n",
       "      <td>Vandpost ved toilet Lynggårdsskoven</td>\n",
       "      <td>GeoFA</td>\n",
       "      <td>2023-02-21</td>\n",
       "      <td>MULTIPOINT (882931.376 6115083.745)</td>\n",
       "    </tr>\n",
       "    <tr>\n",
       "      <th>1</th>\n",
       "      <td>2</td>\n",
       "      <td>b36f2e6c-e244-4c4e-9984-e4af7cc01786</td>\n",
       "      <td>Standard</td>\n",
       "      <td>Vandpost</td>\n",
       "      <td>1222.0</td>\n",
       "      <td>Vandpost ved toiletter Chr. Høj</td>\n",
       "      <td>GeoFA</td>\n",
       "      <td>2023-02-21</td>\n",
       "      <td>MULTIPOINT (876412.893 6124305.078)</td>\n",
       "    </tr>\n",
       "    <tr>\n",
       "      <th>2</th>\n",
       "      <td>3</td>\n",
       "      <td>79f35201-c7ff-4991-9a0f-07fb2ff262b4</td>\n",
       "      <td>Standard</td>\n",
       "      <td>Vandpost</td>\n",
       "      <td>1222.0</td>\n",
       "      <td>Vandpost ved toilet i Blykobbe Plantage</td>\n",
       "      <td>GeoFA</td>\n",
       "      <td>2023-02-21</td>\n",
       "      <td>MULTIPOINT (863365.883 6122949.217)</td>\n",
       "    </tr>\n",
       "  </tbody>\n",
       "</table>\n",
       "</div>"
      ],
      "text/plain": [
       "   tmp_id                                 refid    gruppe      type   \n",
       "0       1  ce01d63b-12b8-4ead-bb37-b834c7f50210  Standard  Vandpost  \\\n",
       "1       2  b36f2e6c-e244-4c4e-9984-e4af7cc01786  Standard  Vandpost   \n",
       "2       3  79f35201-c7ff-4991-9a0f-07fb2ff262b4  Standard  Vandpost   \n",
       "\n",
       "   type_kode                                     navn  kilde  importeret   \n",
       "0     1222.0      Vandpost ved toilet Lynggårdsskoven  GeoFA  2023-02-21  \\\n",
       "1     1222.0          Vandpost ved toiletter Chr. Høj  GeoFA  2023-02-21   \n",
       "2     1222.0  Vandpost ved toilet i Blykobbe Plantage  GeoFA  2023-02-21   \n",
       "\n",
       "                              geometry  \n",
       "0  MULTIPOINT (882931.376 6115083.745)  \n",
       "1  MULTIPOINT (876412.893 6124305.078)  \n",
       "2  MULTIPOINT (863365.883 6122949.217)  "
      ]
     },
     "execution_count": 5,
     "metadata": {},
     "output_type": "execute_result"
    }
   ],
   "source": [
    "fn = \"facilit_service\"\n",
    "gdf = gpd.read_file(fpc + f\"/{fn}/{fn}.shp\")\n",
    "print(Counter(gdf.geometry.geom_type))\n",
    "gdf.head(3)"
   ]
  },
  {
   "cell_type": "code",
   "execution_count": 6,
   "metadata": {},
   "outputs": [
    {
     "data": {
      "text/plain": [
       "Counter({'Toilet': 4008,\n",
       "         'Drikkevand': 811,\n",
       "         'Cykelhandler': 704,\n",
       "         'Vandpost': 371,\n",
       "         'Cykeludlejere': 185,\n",
       "         'Cykelservice': 112,\n",
       "         'Cykelpumpestation/-servicepost': 104,\n",
       "         'Turistkontor': 48})"
      ]
     },
     "execution_count": 6,
     "metadata": {},
     "output_type": "execute_result"
    }
   ],
   "source": [
    "Counter(gdf[\"type\"])"
   ]
  },
  {
   "cell_type": "code",
   "execution_count": 97,
   "metadata": {},
   "outputs": [
    {
     "data": {
      "text/plain": [
       "Counter({'Supplement': 3964, 'Standard': 2379})"
      ]
     },
     "execution_count": 97,
     "metadata": {},
     "output_type": "execute_result"
    }
   ],
   "source": [
    "Counter(gdf[\"gruppe\"])"
   ]
  },
  {
   "cell_type": "code",
   "execution_count": 98,
   "metadata": {},
   "outputs": [
    {
     "data": {
      "text/plain": [
       "Counter({'Toilet': 2337,\n",
       "         'Drikkevand': 811,\n",
       "         'Cykelhandler': 704,\n",
       "         'Cykelservice': 112})"
      ]
     },
     "execution_count": 98,
     "metadata": {},
     "output_type": "execute_result"
    }
   ],
   "source": [
    "Counter(gdf[gdf[\"gruppe\"]==\"Supplement\"][\"type\"])"
   ]
  },
  {
   "cell_type": "code",
   "execution_count": 99,
   "metadata": {},
   "outputs": [
    {
     "data": {
      "text/plain": [
       "Counter({'Toilet': 1671,\n",
       "         'Vandpost': 371,\n",
       "         'Cykeludlejere': 185,\n",
       "         'Cykelpumpestation/-servicepost': 104,\n",
       "         'Turistkontor': 48})"
      ]
     },
     "execution_count": 99,
     "metadata": {},
     "output_type": "execute_result"
    }
   ],
   "source": [
    "Counter(gdf[gdf[\"gruppe\"]==\"Standard\"][\"type\"])"
   ]
  },
  {
   "cell_type": "code",
   "execution_count": 100,
   "metadata": {},
   "outputs": [
    {
     "data": {
      "text/plain": [
       "Counter({'Supplement': 2337, 'Standard': 1671})"
      ]
     },
     "execution_count": 100,
     "metadata": {},
     "output_type": "execute_result"
    }
   ],
   "source": [
    "Counter(gdf[gdf[\"type\"]==\"Toilet\"][\"gruppe\"])"
   ]
  },
  {
   "cell_type": "code",
   "execution_count": 7,
   "metadata": {},
   "outputs": [],
   "source": [
    "del(gdf)"
   ]
  },
  {
   "attachments": {},
   "cell_type": "markdown",
   "metadata": {},
   "source": [
    "facilit_rasteplads"
   ]
  },
  {
   "cell_type": "code",
   "execution_count": 8,
   "metadata": {},
   "outputs": [
    {
     "name": "stdout",
     "output_type": "stream",
     "text": [
      "Counter({'MultiPoint': 25391})\n"
     ]
    },
    {
     "data": {
      "text/html": [
       "<div>\n",
       "<style scoped>\n",
       "    .dataframe tbody tr th:only-of-type {\n",
       "        vertical-align: middle;\n",
       "    }\n",
       "\n",
       "    .dataframe tbody tr th {\n",
       "        vertical-align: top;\n",
       "    }\n",
       "\n",
       "    .dataframe thead th {\n",
       "        text-align: right;\n",
       "    }\n",
       "</style>\n",
       "<table border=\"1\" class=\"dataframe\">\n",
       "  <thead>\n",
       "    <tr style=\"text-align: right;\">\n",
       "      <th></th>\n",
       "      <th>tmp_id</th>\n",
       "      <th>refid</th>\n",
       "      <th>gruppe</th>\n",
       "      <th>type</th>\n",
       "      <th>type_kode</th>\n",
       "      <th>navn</th>\n",
       "      <th>kilde</th>\n",
       "      <th>importeret</th>\n",
       "      <th>geometry</th>\n",
       "    </tr>\n",
       "  </thead>\n",
       "  <tbody>\n",
       "    <tr>\n",
       "      <th>0</th>\n",
       "      <td>1</td>\n",
       "      <td>355547cf-2989-4efb-8bb1-94b009bd29a7</td>\n",
       "      <td>Standard</td>\n",
       "      <td>Tørvejrsrum/Madpakkehus</td>\n",
       "      <td>1132.0</td>\n",
       "      <td>Sønderskoven, Als v. Kryb i ly</td>\n",
       "      <td>GeoFA</td>\n",
       "      <td>2023-02-21</td>\n",
       "      <td>MULTIPOINT (553545.000 6084272.000)</td>\n",
       "    </tr>\n",
       "    <tr>\n",
       "      <th>1</th>\n",
       "      <td>2</td>\n",
       "      <td>12087f71-4b89-439c-99c8-5aac312088f3</td>\n",
       "      <td>Standard</td>\n",
       "      <td>Tørvejrsrum/Madpakkehus</td>\n",
       "      <td>1132.0</td>\n",
       "      <td>Sønderskoven, Als v. Egetofte</td>\n",
       "      <td>GeoFA</td>\n",
       "      <td>2023-02-21</td>\n",
       "      <td>MULTIPOINT (553947.000 6084113.000)</td>\n",
       "    </tr>\n",
       "    <tr>\n",
       "      <th>2</th>\n",
       "      <td>3</td>\n",
       "      <td>b6a60a2e-0d26-46cf-9c50-a2296bb6f155</td>\n",
       "      <td>Standard</td>\n",
       "      <td>Legeplads</td>\n",
       "      <td>1031.0</td>\n",
       "      <td>Legeplads i Agerbæk</td>\n",
       "      <td>GeoFA</td>\n",
       "      <td>2023-02-21</td>\n",
       "      <td>MULTIPOINT (487172.856 6161448.125)</td>\n",
       "    </tr>\n",
       "  </tbody>\n",
       "</table>\n",
       "</div>"
      ],
      "text/plain": [
       "   tmp_id                                 refid    gruppe   \n",
       "0       1  355547cf-2989-4efb-8bb1-94b009bd29a7  Standard  \\\n",
       "1       2  12087f71-4b89-439c-99c8-5aac312088f3  Standard   \n",
       "2       3  b6a60a2e-0d26-46cf-9c50-a2296bb6f155  Standard   \n",
       "\n",
       "                      type  type_kode                            navn  kilde   \n",
       "0  Tørvejrsrum/Madpakkehus     1132.0  Sønderskoven, Als v. Kryb i ly  GeoFA  \\\n",
       "1  Tørvejrsrum/Madpakkehus     1132.0   Sønderskoven, Als v. Egetofte  GeoFA   \n",
       "2                Legeplads     1031.0             Legeplads i Agerbæk  GeoFA   \n",
       "\n",
       "   importeret                             geometry  \n",
       "0  2023-02-21  MULTIPOINT (553545.000 6084272.000)  \n",
       "1  2023-02-21  MULTIPOINT (553947.000 6084113.000)  \n",
       "2  2023-02-21  MULTIPOINT (487172.856 6161448.125)  "
      ]
     },
     "execution_count": 8,
     "metadata": {},
     "output_type": "execute_result"
    }
   ],
   "source": [
    "fn = \"facilit_rasteplads\"\n",
    "gdf = gpd.read_file(fpc + f\"/{fn}/{fn}.shp\")\n",
    "print(Counter(gdf.geometry.geom_type))\n",
    "gdf.head(3)"
   ]
  },
  {
   "cell_type": "code",
   "execution_count": 10,
   "metadata": {},
   "outputs": [
    {
     "data": {
      "text/plain": [
       "Counter({'Bænk': 14692,\n",
       "         'Picnicbord': 6544,\n",
       "         'Legeplads': 2224,\n",
       "         'Borde-bænke/Picnic': 1235,\n",
       "         'Tørvejrsrum/Madpakkehus': 536,\n",
       "         'Naturlegeplads': 156,\n",
       "         'Vandlegeplads': 4})"
      ]
     },
     "execution_count": 10,
     "metadata": {},
     "output_type": "execute_result"
    }
   ],
   "source": [
    "Counter(gdf[\"type\"])"
   ]
  },
  {
   "cell_type": "code",
   "execution_count": 9,
   "metadata": {},
   "outputs": [
    {
     "data": {
      "text/plain": [
       "Counter({'Supplement': 22871, 'Standard': 2520})"
      ]
     },
     "execution_count": 9,
     "metadata": {},
     "output_type": "execute_result"
    }
   ],
   "source": [
    "Counter(gdf[\"gruppe\"])"
   ]
  },
  {
   "attachments": {},
   "cell_type": "markdown",
   "metadata": {},
   "source": [
    "**Attraktioner**"
   ]
  },
  {
   "cell_type": "code",
   "execution_count": 11,
   "metadata": {},
   "outputs": [
    {
     "data": {
      "text/plain": [
       "['land_besoegs', 'land_landemaerke', 'land_fortid', 'land_udflugt']"
      ]
     },
     "execution_count": 11,
     "metadata": {},
     "output_type": "execute_result"
    }
   ],
   "source": [
    "fpc = fp + \"Attraktioner\"\n",
    "os.listdir(fpc)"
   ]
  },
  {
   "attachments": {},
   "cell_type": "markdown",
   "metadata": {},
   "source": [
    "land_besoegs"
   ]
  },
  {
   "cell_type": "code",
   "execution_count": 12,
   "metadata": {},
   "outputs": [
    {
     "name": "stdout",
     "output_type": "stream",
     "text": [
      "Counter({'Point': 2015})\n"
     ]
    },
    {
     "data": {
      "text/html": [
       "<div>\n",
       "<style scoped>\n",
       "    .dataframe tbody tr th:only-of-type {\n",
       "        vertical-align: middle;\n",
       "    }\n",
       "\n",
       "    .dataframe tbody tr th {\n",
       "        vertical-align: top;\n",
       "    }\n",
       "\n",
       "    .dataframe thead th {\n",
       "        text-align: right;\n",
       "    }\n",
       "</style>\n",
       "<table border=\"1\" class=\"dataframe\">\n",
       "  <thead>\n",
       "    <tr style=\"text-align: right;\">\n",
       "      <th></th>\n",
       "      <th>tmp_id</th>\n",
       "      <th>refid</th>\n",
       "      <th>gruppe</th>\n",
       "      <th>type</th>\n",
       "      <th>type_kode</th>\n",
       "      <th>navn</th>\n",
       "      <th>kilde</th>\n",
       "      <th>importeret</th>\n",
       "      <th>geometry</th>\n",
       "    </tr>\n",
       "  </thead>\n",
       "  <tbody>\n",
       "    <tr>\n",
       "      <th>0</th>\n",
       "      <td>1</td>\n",
       "      <td>614583</td>\n",
       "      <td>Standard</td>\n",
       "      <td>Museum</td>\n",
       "      <td>NaN</td>\n",
       "      <td>Landbrugsmuseet Melstedgaard</td>\n",
       "      <td>GuideDanmark</td>\n",
       "      <td>2023-02-16</td>\n",
       "      <td>POINT (880310.340 6133651.240)</td>\n",
       "    </tr>\n",
       "    <tr>\n",
       "      <th>1</th>\n",
       "      <td>2</td>\n",
       "      <td>614927</td>\n",
       "      <td>Standard</td>\n",
       "      <td>Museum</td>\n",
       "      <td>NaN</td>\n",
       "      <td>Oluf Høst Museet</td>\n",
       "      <td>GuideDanmark</td>\n",
       "      <td>2023-02-16</td>\n",
       "      <td>POINT (879402.740 6134822.770)</td>\n",
       "    </tr>\n",
       "    <tr>\n",
       "      <th>2</th>\n",
       "      <td>3</td>\n",
       "      <td>1080523</td>\n",
       "      <td>Standard</td>\n",
       "      <td>Museum</td>\n",
       "      <td>NaN</td>\n",
       "      <td>Danmarks Busmuseum</td>\n",
       "      <td>GuideDanmark</td>\n",
       "      <td>2023-02-16</td>\n",
       "      <td>POINT (647220.480 6125345.020)</td>\n",
       "    </tr>\n",
       "  </tbody>\n",
       "</table>\n",
       "</div>"
      ],
      "text/plain": [
       "   tmp_id    refid    gruppe    type  type_kode                          navn   \n",
       "0       1   614583  Standard  Museum        NaN  Landbrugsmuseet Melstedgaard  \\\n",
       "1       2   614927  Standard  Museum        NaN              Oluf Høst Museet   \n",
       "2       3  1080523  Standard  Museum        NaN            Danmarks Busmuseum   \n",
       "\n",
       "          kilde  importeret                        geometry  \n",
       "0  GuideDanmark  2023-02-16  POINT (880310.340 6133651.240)  \n",
       "1  GuideDanmark  2023-02-16  POINT (879402.740 6134822.770)  \n",
       "2  GuideDanmark  2023-02-16  POINT (647220.480 6125345.020)  "
      ]
     },
     "execution_count": 12,
     "metadata": {},
     "output_type": "execute_result"
    }
   ],
   "source": [
    "fn = \"land_besoegs\"\n",
    "gdf = gpd.read_file(fpc + f\"/{fn}/{fn}.shp\")\n",
    "print(Counter(gdf.geometry.geom_type))\n",
    "gdf.head(3)"
   ]
  },
  {
   "cell_type": "code",
   "execution_count": 13,
   "metadata": {},
   "outputs": [
    {
     "data": {
      "text/plain": [
       "Counter({'Standard': 1069, 'Supplement': 946})"
      ]
     },
     "execution_count": 13,
     "metadata": {},
     "output_type": "execute_result"
    }
   ],
   "source": [
    "Counter(gdf[\"gruppe\"])"
   ]
  },
  {
   "cell_type": "code",
   "execution_count": 14,
   "metadata": {},
   "outputs": [
    {
     "data": {
      "text/plain": [
       "Counter({'Museum': 895,\n",
       "         'Anden seværdighed': 818,\n",
       "         'Forlystelsespark': 127,\n",
       "         'Dyrepark': 67,\n",
       "         'Aboret, blomsterpark o.l.': 49,\n",
       "         'Dyrepark, zoo': 38,\n",
       "         'Frilandsmuseum': 21})"
      ]
     },
     "execution_count": 14,
     "metadata": {},
     "output_type": "execute_result"
    }
   ],
   "source": [
    "Counter(gdf[\"type\"])"
   ]
  },
  {
   "attachments": {},
   "cell_type": "markdown",
   "metadata": {},
   "source": [
    "land_landemaerke"
   ]
  },
  {
   "cell_type": "code",
   "execution_count": 15,
   "metadata": {},
   "outputs": [
    {
     "name": "stdout",
     "output_type": "stream",
     "text": [
      "Counter({'Point': 3470})\n"
     ]
    },
    {
     "data": {
      "text/html": [
       "<div>\n",
       "<style scoped>\n",
       "    .dataframe tbody tr th:only-of-type {\n",
       "        vertical-align: middle;\n",
       "    }\n",
       "\n",
       "    .dataframe tbody tr th {\n",
       "        vertical-align: top;\n",
       "    }\n",
       "\n",
       "    .dataframe thead th {\n",
       "        text-align: right;\n",
       "    }\n",
       "</style>\n",
       "<table border=\"1\" class=\"dataframe\">\n",
       "  <thead>\n",
       "    <tr style=\"text-align: right;\">\n",
       "      <th></th>\n",
       "      <th>tmp_id</th>\n",
       "      <th>refid</th>\n",
       "      <th>type</th>\n",
       "      <th>navn</th>\n",
       "      <th>kilde</th>\n",
       "      <th>importeret</th>\n",
       "      <th>geometry</th>\n",
       "    </tr>\n",
       "  </thead>\n",
       "  <tbody>\n",
       "    <tr>\n",
       "      <th>0</th>\n",
       "      <td>1</td>\n",
       "      <td>5024</td>\n",
       "      <td>Kirke</td>\n",
       "      <td>Kildevældskirken</td>\n",
       "      <td>Sogn</td>\n",
       "      <td>2023-02-16</td>\n",
       "      <td>POINT (724064.919 6179980.157)</td>\n",
       "    </tr>\n",
       "    <tr>\n",
       "      <th>1</th>\n",
       "      <td>2</td>\n",
       "      <td>5061</td>\n",
       "      <td>Kirke</td>\n",
       "      <td>Flintholm Kirke</td>\n",
       "      <td>Sogn</td>\n",
       "      <td>2023-02-16</td>\n",
       "      <td>POINT (719980.489 6175904.551)</td>\n",
       "    </tr>\n",
       "    <tr>\n",
       "      <th>2</th>\n",
       "      <td>3</td>\n",
       "      <td>5071</td>\n",
       "      <td>Kirke</td>\n",
       "      <td>Sankt Markus Kirke</td>\n",
       "      <td>Sogn</td>\n",
       "      <td>2023-02-16</td>\n",
       "      <td>POINT (723345.987 6176165.127)</td>\n",
       "    </tr>\n",
       "  </tbody>\n",
       "</table>\n",
       "</div>"
      ],
      "text/plain": [
       "   tmp_id refid   type                navn kilde  importeret   \n",
       "0       1  5024  Kirke    Kildevældskirken  Sogn  2023-02-16  \\\n",
       "1       2  5061  Kirke     Flintholm Kirke  Sogn  2023-02-16   \n",
       "2       3  5071  Kirke  Sankt Markus Kirke  Sogn  2023-02-16   \n",
       "\n",
       "                         geometry  \n",
       "0  POINT (724064.919 6179980.157)  \n",
       "1  POINT (719980.489 6175904.551)  \n",
       "2  POINT (723345.987 6176165.127)  "
      ]
     },
     "execution_count": 15,
     "metadata": {},
     "output_type": "execute_result"
    }
   ],
   "source": [
    "fn = \"land_landemaerke\"\n",
    "gdf = gpd.read_file(fpc + f\"/{fn}/{fn}.shp\")\n",
    "print(Counter(gdf.geometry.geom_type))\n",
    "gdf.head(3)"
   ]
  },
  {
   "cell_type": "code",
   "execution_count": 16,
   "metadata": {},
   "outputs": [
    {
     "data": {
      "text/plain": [
       "Counter({'Kirke': 2420,\n",
       "         'Herregård': 695,\n",
       "         'Vejrmølle': 255,\n",
       "         'Fyrtårn': 72,\n",
       "         'Slot': 28})"
      ]
     },
     "execution_count": 16,
     "metadata": {},
     "output_type": "execute_result"
    }
   ],
   "source": [
    "Counter(gdf[\"type\"])"
   ]
  },
  {
   "cell_type": "code",
   "execution_count": 17,
   "metadata": {},
   "outputs": [],
   "source": [
    "del(gdf)"
   ]
  },
  {
   "attachments": {},
   "cell_type": "markdown",
   "metadata": {},
   "source": [
    "land_fortid"
   ]
  },
  {
   "cell_type": "code",
   "execution_count": 18,
   "metadata": {},
   "outputs": [
    {
     "name": "stdout",
     "output_type": "stream",
     "text": [
      "Counter({'MultiPoint': 5414})\n"
     ]
    },
    {
     "data": {
      "text/html": [
       "<div>\n",
       "<style scoped>\n",
       "    .dataframe tbody tr th:only-of-type {\n",
       "        vertical-align: middle;\n",
       "    }\n",
       "\n",
       "    .dataframe tbody tr th {\n",
       "        vertical-align: top;\n",
       "    }\n",
       "\n",
       "    .dataframe thead th {\n",
       "        text-align: right;\n",
       "    }\n",
       "</style>\n",
       "<table border=\"1\" class=\"dataframe\">\n",
       "  <thead>\n",
       "    <tr style=\"text-align: right;\">\n",
       "      <th></th>\n",
       "      <th>tmp_id</th>\n",
       "      <th>refid</th>\n",
       "      <th>gruppe</th>\n",
       "      <th>type</th>\n",
       "      <th>navn</th>\n",
       "      <th>kilde</th>\n",
       "      <th>importeret</th>\n",
       "      <th>geometry</th>\n",
       "    </tr>\n",
       "  </thead>\n",
       "  <tbody>\n",
       "    <tr>\n",
       "      <th>0</th>\n",
       "      <td>1</td>\n",
       "      <td>1120283</td>\n",
       "      <td>supplement</td>\n",
       "      <td>Fortidsminde/ruin</td>\n",
       "      <td>Borum Eshøj - kopi</td>\n",
       "      <td>GuideDanmark</td>\n",
       "      <td>2023-02-16</td>\n",
       "      <td>MULTIPOINT (561758.168 6228993.713)</td>\n",
       "    </tr>\n",
       "    <tr>\n",
       "      <th>1</th>\n",
       "      <td>2</td>\n",
       "      <td>953026</td>\n",
       "      <td>supplement</td>\n",
       "      <td>Fortidsminde/ruin</td>\n",
       "      <td>Marslev | Vikingefund</td>\n",
       "      <td>GuideDanmark</td>\n",
       "      <td>2023-02-16</td>\n",
       "      <td>MULTIPOINT (592592.858 6143367.286)</td>\n",
       "    </tr>\n",
       "    <tr>\n",
       "      <th>2</th>\n",
       "      <td>3</td>\n",
       "      <td>1106338</td>\n",
       "      <td>supplement</td>\n",
       "      <td>Fortidsminde/ruin</td>\n",
       "      <td>Østerholm Slotsruin</td>\n",
       "      <td>GuideDanmark</td>\n",
       "      <td>2023-02-16</td>\n",
       "      <td>MULTIPOINT (559635.420 6095845.710)</td>\n",
       "    </tr>\n",
       "  </tbody>\n",
       "</table>\n",
       "</div>"
      ],
      "text/plain": [
       "   tmp_id    refid      gruppe               type                   navn   \n",
       "0       1  1120283  supplement  Fortidsminde/ruin     Borum Eshøj - kopi  \\\n",
       "1       2   953026  supplement  Fortidsminde/ruin  Marslev | Vikingefund   \n",
       "2       3  1106338  supplement  Fortidsminde/ruin    Østerholm Slotsruin   \n",
       "\n",
       "          kilde  importeret                             geometry  \n",
       "0  GuideDanmark  2023-02-16  MULTIPOINT (561758.168 6228993.713)  \n",
       "1  GuideDanmark  2023-02-16  MULTIPOINT (592592.858 6143367.286)  \n",
       "2  GuideDanmark  2023-02-16  MULTIPOINT (559635.420 6095845.710)  "
      ]
     },
     "execution_count": 18,
     "metadata": {},
     "output_type": "execute_result"
    }
   ],
   "source": [
    "fn = \"land_fortid\"\n",
    "gdf = gpd.read_file(fpc + f\"/{fn}/{fn}.shp\")\n",
    "print(Counter(gdf.geometry.geom_type))\n",
    "gdf.head(3)"
   ]
  },
  {
   "cell_type": "code",
   "execution_count": 19,
   "metadata": {},
   "outputs": [
    {
     "data": {
      "text/plain": [
       "Counter({'Gravhøj': 3875,\n",
       "         'Vold eller voldsted': 587,\n",
       "         'Fortidsminde/ruin': 369,\n",
       "         'Dysse': 177,\n",
       "         'Jættestue': 101,\n",
       "         'Ruin': 82,\n",
       "         'Skanse': 75,\n",
       "         'Langdysse': 57,\n",
       "         'Andet historisk anlæg': 49,\n",
       "         'Batteri': 18,\n",
       "         'Fæstningsanlæg': 7,\n",
       "         'Runddysse': 7,\n",
       "         'Vikingeborg': 5,\n",
       "         'Oldtidsvej': 3,\n",
       "         'Oldtidsminde': 2})"
      ]
     },
     "execution_count": 19,
     "metadata": {},
     "output_type": "execute_result"
    }
   ],
   "source": [
    "Counter(gdf[\"type\"])"
   ]
  },
  {
   "cell_type": "code",
   "execution_count": 20,
   "metadata": {},
   "outputs": [],
   "source": [
    "del(gdf)"
   ]
  },
  {
   "attachments": {},
   "cell_type": "markdown",
   "metadata": {},
   "source": [
    "land_udflugt"
   ]
  },
  {
   "cell_type": "code",
   "execution_count": 21,
   "metadata": {},
   "outputs": [
    {
     "name": "stdout",
     "output_type": "stream",
     "text": [
      "Counter({'MultiPoint': 3883})\n"
     ]
    },
    {
     "data": {
      "text/html": [
       "<div>\n",
       "<style scoped>\n",
       "    .dataframe tbody tr th:only-of-type {\n",
       "        vertical-align: middle;\n",
       "    }\n",
       "\n",
       "    .dataframe tbody tr th {\n",
       "        vertical-align: top;\n",
       "    }\n",
       "\n",
       "    .dataframe thead th {\n",
       "        text-align: right;\n",
       "    }\n",
       "</style>\n",
       "<table border=\"1\" class=\"dataframe\">\n",
       "  <thead>\n",
       "    <tr style=\"text-align: right;\">\n",
       "      <th></th>\n",
       "      <th>tmp_id</th>\n",
       "      <th>refid</th>\n",
       "      <th>gruppe</th>\n",
       "      <th>type</th>\n",
       "      <th>type_kode</th>\n",
       "      <th>navn</th>\n",
       "      <th>kilde</th>\n",
       "      <th>importeret</th>\n",
       "      <th>geometry</th>\n",
       "    </tr>\n",
       "  </thead>\n",
       "  <tbody>\n",
       "    <tr>\n",
       "      <th>0</th>\n",
       "      <td>1</td>\n",
       "      <td>bdd0be3a-b0a7-4c8e-b568-45a16f02b357</td>\n",
       "      <td>Standard</td>\n",
       "      <td>Blå Flag strand</td>\n",
       "      <td>1061.0</td>\n",
       "      <td>Kerteminde Nordstrand</td>\n",
       "      <td>GeoFA</td>\n",
       "      <td>2023-02-21</td>\n",
       "      <td>MULTIPOINT (605274.840 6146822.739)</td>\n",
       "    </tr>\n",
       "    <tr>\n",
       "      <th>1</th>\n",
       "      <td>2</td>\n",
       "      <td>4e431428-d591-4f12-a6f9-edb314eeba49</td>\n",
       "      <td>Standard</td>\n",
       "      <td>Blå Flag strand</td>\n",
       "      <td>1061.0</td>\n",
       "      <td>Kerteminde Sydstrand</td>\n",
       "      <td>GeoFA</td>\n",
       "      <td>2023-02-21</td>\n",
       "      <td>MULTIPOINT (605413.260 6146046.655)</td>\n",
       "    </tr>\n",
       "    <tr>\n",
       "      <th>2</th>\n",
       "      <td>3</td>\n",
       "      <td>1d392d5b-033e-4aad-b81e-01922eb19e85</td>\n",
       "      <td>Standard</td>\n",
       "      <td>Udsigtspunkt</td>\n",
       "      <td>2022.0</td>\n",
       "      <td>Udsigten mod Rubjerg Knude</td>\n",
       "      <td>GeoFA</td>\n",
       "      <td>2023-02-21</td>\n",
       "      <td>MULTIPOINT (549225.581 6368875.990)</td>\n",
       "    </tr>\n",
       "  </tbody>\n",
       "</table>\n",
       "</div>"
      ],
      "text/plain": [
       "   tmp_id                                 refid    gruppe             type   \n",
       "0       1  bdd0be3a-b0a7-4c8e-b568-45a16f02b357  Standard  Blå Flag strand  \\\n",
       "1       2  4e431428-d591-4f12-a6f9-edb314eeba49  Standard  Blå Flag strand   \n",
       "2       3  1d392d5b-033e-4aad-b81e-01922eb19e85  Standard     Udsigtspunkt   \n",
       "\n",
       "   type_kode                        navn  kilde  importeret   \n",
       "0     1061.0       Kerteminde Nordstrand  GeoFA  2023-02-21  \\\n",
       "1     1061.0        Kerteminde Sydstrand  GeoFA  2023-02-21   \n",
       "2     2022.0  Udsigten mod Rubjerg Knude  GeoFA  2023-02-21   \n",
       "\n",
       "                              geometry  \n",
       "0  MULTIPOINT (605274.840 6146822.739)  \n",
       "1  MULTIPOINT (605413.260 6146046.655)  \n",
       "2  MULTIPOINT (549225.581 6368875.990)  "
      ]
     },
     "execution_count": 21,
     "metadata": {},
     "output_type": "execute_result"
    }
   ],
   "source": [
    "fn = \"land_udflugt\"\n",
    "gdf = gpd.read_file(fpc + f\"/{fn}/{fn}.shp\")\n",
    "print(Counter(gdf.geometry.geom_type))\n",
    "gdf.head(3)"
   ]
  },
  {
   "cell_type": "code",
   "execution_count": 22,
   "metadata": {},
   "outputs": [
    {
     "data": {
      "text/plain": [
       "Counter({'Naturområde': 1518,\n",
       "         'Udsigtspunkt': 1470,\n",
       "         'Badestrand/-sted': 423,\n",
       "         'Fugletårn/Udsigtstårn': 322,\n",
       "         'Blå Flag strand': 111,\n",
       "         'Badepunkt': 38,\n",
       "         'Badevandsflag': 1})"
      ]
     },
     "execution_count": 22,
     "metadata": {},
     "output_type": "execute_result"
    }
   ],
   "source": [
    "Counter(gdf[\"type\"])"
   ]
  },
  {
   "attachments": {},
   "cell_type": "markdown",
   "metadata": {},
   "source": [
    "**Skiltede ruter**"
   ]
  },
  {
   "cell_type": "code",
   "execution_count": 23,
   "metadata": {},
   "outputs": [
    {
     "data": {
      "text/plain": [
       "['rute_vandre', 'rute_anden', 'rute_cykel']"
      ]
     },
     "execution_count": 23,
     "metadata": {},
     "output_type": "execute_result"
    }
   ],
   "source": [
    "fpc = fp + \"Skiltede Ruter\"\n",
    "os.listdir(fpc)"
   ]
  },
  {
   "attachments": {},
   "cell_type": "markdown",
   "metadata": {},
   "source": [
    "rute_vandre "
   ]
  },
  {
   "cell_type": "code",
   "execution_count": 24,
   "metadata": {},
   "outputs": [
    {
     "name": "stdout",
     "output_type": "stream",
     "text": [
      "Counter({'LineString': 3508, 'MultiLineString': 1092})\n"
     ]
    },
    {
     "data": {
      "text/html": [
       "<div>\n",
       "<style scoped>\n",
       "    .dataframe tbody tr th:only-of-type {\n",
       "        vertical-align: middle;\n",
       "    }\n",
       "\n",
       "    .dataframe tbody tr th {\n",
       "        vertical-align: top;\n",
       "    }\n",
       "\n",
       "    .dataframe thead th {\n",
       "        text-align: right;\n",
       "    }\n",
       "</style>\n",
       "<table border=\"1\" class=\"dataframe\">\n",
       "  <thead>\n",
       "    <tr style=\"text-align: right;\">\n",
       "      <th></th>\n",
       "      <th>tmp_id</th>\n",
       "      <th>refid</th>\n",
       "      <th>type</th>\n",
       "      <th>type_kode</th>\n",
       "      <th>navn</th>\n",
       "      <th>bemaerknin</th>\n",
       "      <th>kilde</th>\n",
       "      <th>importeret</th>\n",
       "      <th>geometry</th>\n",
       "    </tr>\n",
       "  </thead>\n",
       "  <tbody>\n",
       "    <tr>\n",
       "      <th>0</th>\n",
       "      <td>1</td>\n",
       "      <td>32858c3b-741f-4454-aef6-dc0f95e383e9</td>\n",
       "      <td>Vandrerute</td>\n",
       "      <td>5.0</td>\n",
       "      <td>Odder Vest</td>\n",
       "      <td>NaN</td>\n",
       "      <td>GeoFA</td>\n",
       "      <td>2023-02-21</td>\n",
       "      <td>LINESTRING (569506.297 6205312.574, 569506.386...</td>\n",
       "    </tr>\n",
       "    <tr>\n",
       "      <th>1</th>\n",
       "      <td>2</td>\n",
       "      <td>d30acca7-dc97-49da-9043-f2d759b3ee4b</td>\n",
       "      <td>Vandrerute</td>\n",
       "      <td>5.0</td>\n",
       "      <td>Stampmølledalen</td>\n",
       "      <td>NaN</td>\n",
       "      <td>GeoFA</td>\n",
       "      <td>2023-02-21</td>\n",
       "      <td>LINESTRING (571105.670 6204827.142, 571092.392...</td>\n",
       "    </tr>\n",
       "    <tr>\n",
       "      <th>2</th>\n",
       "      <td>3</td>\n",
       "      <td>247c4556-ae55-11eb-9106-06d09fa510f4</td>\n",
       "      <td>Vandrerute</td>\n",
       "      <td>5.0</td>\n",
       "      <td>Rundtur i Himmelev Skov</td>\n",
       "      <td>NaN</td>\n",
       "      <td>GeoFA</td>\n",
       "      <td>2023-02-21</td>\n",
       "      <td>LINESTRING (695817.000 6173414.000, 695831.000...</td>\n",
       "    </tr>\n",
       "  </tbody>\n",
       "</table>\n",
       "</div>"
      ],
      "text/plain": [
       "   tmp_id                                 refid        type  type_kode   \n",
       "0       1  32858c3b-741f-4454-aef6-dc0f95e383e9  Vandrerute        5.0  \\\n",
       "1       2  d30acca7-dc97-49da-9043-f2d759b3ee4b  Vandrerute        5.0   \n",
       "2       3  247c4556-ae55-11eb-9106-06d09fa510f4  Vandrerute        5.0   \n",
       "\n",
       "                      navn bemaerknin  kilde  importeret   \n",
       "0               Odder Vest        NaN  GeoFA  2023-02-21  \\\n",
       "1          Stampmølledalen        NaN  GeoFA  2023-02-21   \n",
       "2  Rundtur i Himmelev Skov        NaN  GeoFA  2023-02-21   \n",
       "\n",
       "                                            geometry  \n",
       "0  LINESTRING (569506.297 6205312.574, 569506.386...  \n",
       "1  LINESTRING (571105.670 6204827.142, 571092.392...  \n",
       "2  LINESTRING (695817.000 6173414.000, 695831.000...  "
      ]
     },
     "execution_count": 24,
     "metadata": {},
     "output_type": "execute_result"
    }
   ],
   "source": [
    "fn = \"rute_vandre\"\n",
    "gdf = gpd.read_file(fpc + f\"/{fn}/{fn}.shp\")\n",
    "print(Counter(gdf.geometry.geom_type))\n",
    "gdf.head(3)"
   ]
  },
  {
   "cell_type": "code",
   "execution_count": 25,
   "metadata": {},
   "outputs": [
    {
     "data": {
      "text/plain": [
       "Counter({'Vandrerute': 4600})"
      ]
     },
     "execution_count": 25,
     "metadata": {},
     "output_type": "execute_result"
    }
   ],
   "source": [
    "Counter(gdf[\"type\"])"
   ]
  },
  {
   "cell_type": "code",
   "execution_count": 26,
   "metadata": {},
   "outputs": [],
   "source": [
    "del(gdf)"
   ]
  },
  {
   "attachments": {},
   "cell_type": "markdown",
   "metadata": {},
   "source": [
    "rute_anden"
   ]
  },
  {
   "cell_type": "code",
   "execution_count": 27,
   "metadata": {},
   "outputs": [
    {
     "name": "stdout",
     "output_type": "stream",
     "text": [
      "Counter({'MultiLineString': 1})\n"
     ]
    },
    {
     "data": {
      "text/html": [
       "<div>\n",
       "<style scoped>\n",
       "    .dataframe tbody tr th:only-of-type {\n",
       "        vertical-align: middle;\n",
       "    }\n",
       "\n",
       "    .dataframe tbody tr th {\n",
       "        vertical-align: top;\n",
       "    }\n",
       "\n",
       "    .dataframe thead th {\n",
       "        text-align: right;\n",
       "    }\n",
       "</style>\n",
       "<table border=\"1\" class=\"dataframe\">\n",
       "  <thead>\n",
       "    <tr style=\"text-align: right;\">\n",
       "      <th></th>\n",
       "      <th>tmp_id</th>\n",
       "      <th>refid</th>\n",
       "      <th>type</th>\n",
       "      <th>type_kode</th>\n",
       "      <th>navn</th>\n",
       "      <th>bemaerknin</th>\n",
       "      <th>kilde</th>\n",
       "      <th>importeret</th>\n",
       "      <th>geometry</th>\n",
       "    </tr>\n",
       "  </thead>\n",
       "  <tbody>\n",
       "    <tr>\n",
       "      <th>0</th>\n",
       "      <td>1</td>\n",
       "      <td>c9eae256-eefe-4e1d-9116-0f6457543dd2</td>\n",
       "      <td>Bilrute</td>\n",
       "      <td>13</td>\n",
       "      <td>Margueritruten</td>\n",
       "      <td>NaN</td>\n",
       "      <td>GeoFA</td>\n",
       "      <td>2023-02-21</td>\n",
       "      <td>MULTILINESTRING ((537574.000 6345160.000, 5375...</td>\n",
       "    </tr>\n",
       "  </tbody>\n",
       "</table>\n",
       "</div>"
      ],
      "text/plain": [
       "   tmp_id                                 refid     type  type_kode   \n",
       "0       1  c9eae256-eefe-4e1d-9116-0f6457543dd2  Bilrute         13  \\\n",
       "\n",
       "             navn  bemaerknin  kilde  importeret   \n",
       "0  Margueritruten         NaN  GeoFA  2023-02-21  \\\n",
       "\n",
       "                                            geometry  \n",
       "0  MULTILINESTRING ((537574.000 6345160.000, 5375...  "
      ]
     },
     "execution_count": 27,
     "metadata": {},
     "output_type": "execute_result"
    }
   ],
   "source": [
    "fn = \"rute_anden\"\n",
    "gdf = gpd.read_file(fpc + f\"/{fn}/{fn}.shp\")\n",
    "print(Counter(gdf.geometry.geom_type))\n",
    "gdf.head(3)"
   ]
  },
  {
   "attachments": {},
   "cell_type": "markdown",
   "metadata": {},
   "source": [
    "rute_cykel"
   ]
  },
  {
   "cell_type": "code",
   "execution_count": 28,
   "metadata": {},
   "outputs": [
    {
     "name": "stdout",
     "output_type": "stream",
     "text": [
      "Counter({'LineString': 560, 'MultiLineString': 474})\n"
     ]
    },
    {
     "data": {
      "text/html": [
       "<div>\n",
       "<style scoped>\n",
       "    .dataframe tbody tr th:only-of-type {\n",
       "        vertical-align: middle;\n",
       "    }\n",
       "\n",
       "    .dataframe tbody tr th {\n",
       "        vertical-align: top;\n",
       "    }\n",
       "\n",
       "    .dataframe thead th {\n",
       "        text-align: right;\n",
       "    }\n",
       "</style>\n",
       "<table border=\"1\" class=\"dataframe\">\n",
       "  <thead>\n",
       "    <tr style=\"text-align: right;\">\n",
       "      <th></th>\n",
       "      <th>tmp_id</th>\n",
       "      <th>refid</th>\n",
       "      <th>type</th>\n",
       "      <th>type_kode</th>\n",
       "      <th>navn</th>\n",
       "      <th>bemaerknin</th>\n",
       "      <th>kilde</th>\n",
       "      <th>importeret</th>\n",
       "      <th>geometry</th>\n",
       "    </tr>\n",
       "  </thead>\n",
       "  <tbody>\n",
       "    <tr>\n",
       "      <th>0</th>\n",
       "      <td>1</td>\n",
       "      <td>13fb736c-ae57-11eb-84e3-06d09fa510f4</td>\n",
       "      <td>Cykelrute</td>\n",
       "      <td>3.0</td>\n",
       "      <td>Romantik på cykel</td>\n",
       "      <td>NaN</td>\n",
       "      <td>GeoFA</td>\n",
       "      <td>2023-02-21</td>\n",
       "      <td>LINESTRING (693599.000 6171448.000, 693596.000...</td>\n",
       "    </tr>\n",
       "    <tr>\n",
       "      <th>1</th>\n",
       "      <td>2</td>\n",
       "      <td>135f9622-ae57-11eb-84e1-06d09fa510f4</td>\n",
       "      <td>Cykelrute</td>\n",
       "      <td>3.0</td>\n",
       "      <td>Jyllingesløjfen</td>\n",
       "      <td>NaN</td>\n",
       "      <td>GeoFA</td>\n",
       "      <td>2023-02-21</td>\n",
       "      <td>LINESTRING (694516.000 6182181.000, 694497.000...</td>\n",
       "    </tr>\n",
       "    <tr>\n",
       "      <th>2</th>\n",
       "      <td>3</td>\n",
       "      <td>35213b30-ae57-11eb-84f3-06d09fa510f4</td>\n",
       "      <td>Cykelrute</td>\n",
       "      <td>3.0</td>\n",
       "      <td>Gl.Lejre - Greve</td>\n",
       "      <td>NaN</td>\n",
       "      <td>GeoFA</td>\n",
       "      <td>2023-02-21</td>\n",
       "      <td>LINESTRING (686951.000 6167246.000, 686978.000...</td>\n",
       "    </tr>\n",
       "  </tbody>\n",
       "</table>\n",
       "</div>"
      ],
      "text/plain": [
       "   tmp_id                                 refid       type  type_kode   \n",
       "0       1  13fb736c-ae57-11eb-84e3-06d09fa510f4  Cykelrute        3.0  \\\n",
       "1       2  135f9622-ae57-11eb-84e1-06d09fa510f4  Cykelrute        3.0   \n",
       "2       3  35213b30-ae57-11eb-84f3-06d09fa510f4  Cykelrute        3.0   \n",
       "\n",
       "                navn bemaerknin  kilde  importeret   \n",
       "0  Romantik på cykel        NaN  GeoFA  2023-02-21  \\\n",
       "1    Jyllingesløjfen        NaN  GeoFA  2023-02-21   \n",
       "2   Gl.Lejre - Greve        NaN  GeoFA  2023-02-21   \n",
       "\n",
       "                                            geometry  \n",
       "0  LINESTRING (693599.000 6171448.000, 693596.000...  \n",
       "1  LINESTRING (694516.000 6182181.000, 694497.000...  \n",
       "2  LINESTRING (686951.000 6167246.000, 686978.000...  "
      ]
     },
     "execution_count": 28,
     "metadata": {},
     "output_type": "execute_result"
    }
   ],
   "source": [
    "fn = \"rute_cykel\"\n",
    "gdf = gpd.read_file(fpc + f\"/{fn}/{fn}.shp\")\n",
    "print(Counter(gdf.geometry.geom_type))\n",
    "gdf.head(3)"
   ]
  },
  {
   "cell_type": "code",
   "execution_count": 31,
   "metadata": {},
   "outputs": [
    {
     "data": {
      "text/plain": [
       "Counter({nan: 75,\n",
       "         'Panoramarute': 14,\n",
       "         'Limfjordsruten - Cykelrute 12': 8,\n",
       "         'Fjordstien': 8,\n",
       "         'Vestkystruten': 6,\n",
       "         'Limfjordsruten': 6,\n",
       "         'Østeråstien': 6,\n",
       "         'Hedebostien': 5,\n",
       "         'Østkystruten': 5,\n",
       "         'Tannisbugtruten': 5,\n",
       "         'Rødhusruten': 4,\n",
       "         'Munkevejen': 4,\n",
       "         'Jyderupstien': 3,\n",
       "         'Bollerruten': 3,\n",
       "         'Bjergbanestien': 3,\n",
       "         'Grøn Tur - Mellem Etapen': 3,\n",
       "         'Tolneruten': 3,\n",
       "         'Mølleådalen': 3,\n",
       "         'Gl.Lejre - Greve': 2,\n",
       "         'Vendsysselruten': 2,\n",
       "         'Østkystruten - Cykelrute 5': 2,\n",
       "         'Aalborg Fjordland': 2,\n",
       "         'Aalborg Fjordland Huul Mølle ruten (101)': 2,\n",
       "         'Naturstien': 2,\n",
       "         'Fjordstien, rute 40': 2,\n",
       "         'Reservatruten': 2,\n",
       "         'Istidsruten': 2,\n",
       "         'Regional cykelrute 30': 2,\n",
       "         'Asdalruten': 2,\n",
       "         'Hærvejen': 2,\n",
       "         'Grænseruten': 2,\n",
       "         'Banestien': 2,\n",
       "         'Østersøruten': 2,\n",
       "         'Ajstrup Ruten': 2,\n",
       "         'Hadsundruten': 2,\n",
       "         'Hvalpsundruten': 2,\n",
       "         'Panoramarute 404': 2,\n",
       "         'Skivumruten': 2,\n",
       "         'Himmerlandsstien': 2,\n",
       "         'Alhedestien': 2,\n",
       "         'Lammefjordstien': 2,\n",
       "         'Alternativ route': 2,\n",
       "         'Romantik på cykel': 1,\n",
       "         'Jyllingesløjfen': 1,\n",
       "         'Himmelsøen rundt': 1,\n",
       "         'Aktivitetsområde Hedeland': 1,\n",
       "         'Hedelandsløjfen': 1,\n",
       "         'Vibysløjfen': 1,\n",
       "         'Cykling: Søby - Ærøskøbing': 1,\n",
       "         'Cykling: Tranekærruten': 1,\n",
       "         'Cykling: Søren Lolk ruten': 1,\n",
       "         'Cykling: Svendborg rundt': 1,\n",
       "         'Cykling: Svanninge Bakker ruten': 1,\n",
       "         'Cykling: Søfartsruten': 1,\n",
       "         'Cykling: Slotsruten': 1,\n",
       "         'Cykling: Rudkøbingruten': 1,\n",
       "         'Cykling: Rantzausminderuten': 1,\n",
       "         'Cykling: Lyø': 1,\n",
       "         'Cykling: Avernakø': 1,\n",
       "         'Cykling: Øhavet rundt Svendborg - Faaborg': 1,\n",
       "         'Cykling: Kystruten Faaborg - Svendborg': 1,\n",
       "         'Cykling: Hesselagergårdløbet': 1,\n",
       "         'Cykling: Langeland rundt': 1,\n",
       "         'Cykling: Tåsinge rundt': 1,\n",
       "         'Cykling: Herregårdsruten': 1,\n",
       "         'Cykling: Gudmeruten': 1,\n",
       "         'Cykling: Frugtruten': 1,\n",
       "         'Cykling: Fjellebroruten': 1,\n",
       "         'Cykling: Elviraruten': 1,\n",
       "         'Cykling: Dageløkkeruten': 1,\n",
       "         'Cykling: Bagenkopruten': 1,\n",
       "         'Cykling: Alpetramp': 1,\n",
       "         'Cykling: Ærøruten': 1,\n",
       "         'Skelby - Sorø': 1,\n",
       "         'Næstved - Skelby': 1,\n",
       "         'Præstø - Næstved': 1,\n",
       "         'Østersøruten - Rute 8': 1,\n",
       "         'Panoramaruten': 1,\n",
       "         'Bike Island Ruten - Langeland': 1,\n",
       "         'Herregårdsruten: Lohals - Spodsbjerg': 1,\n",
       "         'Rute R8 (Ry og Randers)': 1,\n",
       "         'Cykelrundtur - Silkeborg - Resenbro (16 km)': 1,\n",
       "         'Rute R29: Randers-Silkeborg (56 km)': 1,\n",
       "         'Lohalsruten': 1,\n",
       "         'Køge Ås turen 15 km': 1,\n",
       "         'Den lille korte 6 km': 1,\n",
       "         'Køge Nord mod vandet 15 km': 1,\n",
       "         'Rundt om Vallø Slot 15 km': 1,\n",
       "         'Bagenkopruten': 1,\n",
       "         'Roskilde - Hove': 1,\n",
       "         'Borup - Roskilde': 1,\n",
       "         'Vigen Strandpark til Marbjerg Byvej': 1,\n",
       "         'Hedeland på langs': 1,\n",
       "         'Rundtur i Himmelev Skov': 1,\n",
       "         'Ågerup - Gundsølille': 1,\n",
       "         'Universitetsstien': 1,\n",
       "         'Ringstedvej-Svogerslev': 1,\n",
       "         'Kildemosestien': 1,\n",
       "         'N6 - Roskilde - Ishøj Strand': 1,\n",
       "         'N4 - Roskilde - Ishøj Strand': 1,\n",
       "         'BirkerødRuten': 1,\n",
       "         'NærumRuten': 1,\n",
       "         'ForskerRuten': 1,\n",
       "         'Birkerødturen': 1,\n",
       "         'KulturSlangen i Rudersdal (ca 32 km)': 1,\n",
       "         'RudersdalRuten': 1,\n",
       "         'Cykelrute 80 og 81 - Nordlangeland': 1,\n",
       "         'HolteRuten': 1,\n",
       "         'FamilieRuten': 1,\n",
       "         'SandbjergRuten': 1,\n",
       "         'KongeRuten': 1,\n",
       "         'Herregårdsruten: Rudkøbing - Lohals': 1,\n",
       "         'VedbækRuten': 1,\n",
       "         'Cykelrute 8, 82 og 83 - Sydlangeland': 1,\n",
       "         'Spodsbjergruten': 1,\n",
       "         'Humbleruten': 1,\n",
       "         'Ristingeruten': 1,\n",
       "         'Herregårdsruten: Bagenkop - Rudkøbing': 1,\n",
       "         'Østersøruten: Langeland': 1,\n",
       "         'Cykelrute Strynø': 1,\n",
       "         'FamilieRuten i Rudersdal (21,5 km)': 1,\n",
       "         'Kystsporet': 1,\n",
       "         'Hamlet-ruten (36 km)': 1,\n",
       "         'Fussingø og Læsten Bakker (52 km)': 1,\n",
       "         'Rundt om Randers (79 km)': 1,\n",
       "         'Børnetur rundt om Randers (18 km)': 1,\n",
       "         'Rute R31: Banestien Silkeborg-Horsens (61 km)': 1,\n",
       "         'Rute R23 \"Den Skæve Bane\" (28 km)': 1,\n",
       "         'N9 Ishøj Strand - Køge': 1,\n",
       "         'Albertslund - Store Vejleå - Strandparken': 1,\n",
       "         'Strandparken - fra havn til havn': 1,\n",
       "         'Rundt om Bygholm Sø.': 1,\n",
       "         'Fjorden rundt (85/49 km)': 1,\n",
       "         'Vesterlyng-Alleshave rundtur': 1,\n",
       "         'Skælskør - Stigsnæsruten': 1,\n",
       "         'Vesterlyng-Føllenslev rundtur': 1,\n",
       "         'N4 - Kalundborg - Mørkøv': 1,\n",
       "         'Cykeltur til Flasken': 1,\n",
       "         'På cykel i Bjergene': 1,\n",
       "         'Ad den gamle bane (32 km)': 1,\n",
       "         'Rød Kaninrute': 1,\n",
       "         'Cykelsti ved Tyrsted': 1,\n",
       "         'Hærvejens cykelrute': 1,\n",
       "         'Mariager Fjord Ruten (Cykelrute 32)': 1,\n",
       "         'Langstrupstien, Fredensborg - Nivå tur/retur': 1,\n",
       "         'Fra Gudenådal til badesø (44 km)': 1,\n",
       "         'Gudenåstien i Favrskov Kommune 20 km': 1,\n",
       "         'Rute N2 Hanstholm-København (380 km)': 1,\n",
       "         'Bjerg- og bakkeruten (47/50 km)': 1,\n",
       "         'Østkystruten  Sæby - Hals': 1,\n",
       "         'Husby Holeruten': 1,\n",
       "         'Nørlev Strand- ruten': 1,\n",
       "         'Cykelrute 18': 1,\n",
       "         'Geraaruten': 1,\n",
       "         'Hanherredruten': 1,\n",
       "         'Madum Sø Ruten': 1,\n",
       "         'Johannes V. Jensen': 1,\n",
       "         'Cykelrute 45: Kerteminde - Odense': 1,\n",
       "         'Cykelrute 40: Nyborg - Kerteminde': 1,\n",
       "         'Cykelrute 41: Kerteminde - Korshavn': 1,\n",
       "         'Grøn Tur - Bjerg Etapen': 1,\n",
       "         'Daugård Strand - Ørum': 1,\n",
       "         'Nørhald-ruten (34 km)': 1,\n",
       "         'Hvidsten Gruppen (63 km)': 1,\n",
       "         'Runesten og andre fortidsminder (61 km)': 1,\n",
       "         'Rute R15': 1,\n",
       "         'Rute R51: Gl.Rye-Horsens (30 km)': 1,\n",
       "         '\"Tørringbanen\" 9. etape - ca. 13 km': 1,\n",
       "         'Hammel opland 23 km': 1,\n",
       "         'Rute N12 Limfjorden Rundt (610 km)': 1,\n",
       "         'Rute R20 Skive-egnen (240 km)': 1,\n",
       "         'Rute Rute R35 Himmerlandsstien (69 km)': 1,\n",
       "         'Rute 800 Viborg Rundt (27 km)': 1,\n",
       "         'Rute 803 Vammen Ruten (15 km)': 1,\n",
       "         'Rute 807 Nørreå Ruten': 1,\n",
       "         'Rute R25 Grathe Hede Ruten (45 km)': 1,\n",
       "         'Hammel opland 35 km': 1,\n",
       "         'VM-Ruten i Rudersdal (14 km)': 1,\n",
       "         'SandbjergRuten i Rudersdal (23 km)': 1,\n",
       "         'Grøn Tur': 1,\n",
       "         'Cykelrute 43: Tårup - Vesterskov': 1,\n",
       "         'Cykelrute 42: Kerteminde - Martofte.': 1,\n",
       "         '\"Tørringbanen\" 8. etape - ca. 12 km': 1,\n",
       "         'Panoramarute \"Højt over havet\"': 1,\n",
       "         'Panoramarute \"I fiskens tegn\"': 1,\n",
       "         'Rute R33: Gudenåens kilde til Gl. Rye (45 km)': 1,\n",
       "         'Rute R32 (50 km)': 1,\n",
       "         'Barrit Sønderskov': 1,\n",
       "         'Tørringbanen 5. etape - ca. 10 km': 1,\n",
       "         'Tørringbanen 6. etape - ca. 10 km': 1,\n",
       "         'Tørringbanen 4. etape - ca. 10 km': 1,\n",
       "         'Staksrode - Barrit': 1,\n",
       "         'På cykel langs et stykke af Juelsmindebanen': 1,\n",
       "         'Tørringbanen 7. etape - ca. 17 km': 1,\n",
       "         'Landbrugslandet - Hornum, Vrigsted, Barrit - ca. 1': 1,\n",
       "         'Smukke dale og flotte udsigter - ca. 19 km': 1,\n",
       "         'Skovtur ved Rohden': 1,\n",
       "         'Tørringbanen 3. etape - ca. 8 km': 1,\n",
       "         'Rute 805 Foulum Ruten': 1,\n",
       "         'Rute 786 Stoholm Motionsrute': 1,\n",
       "         'Rute R18: Randers-Aarhus': 1,\n",
       "         'Rute R14: Hornslet - Rude Strand': 1,\n",
       "         'Rute R11 Funder - Aarhus (53 km)': 1,\n",
       "         'Læsø Klitplantage': 1,\n",
       "         'Vrå-ruten': 1,\n",
       "         'Naturlandet Rundt': 1,\n",
       "         'Blokhus klitplantage - Vestkystruten': 1,\n",
       "         'Cykel rundtur - Silkeborg, Hjøllund og Vrads': 1,\n",
       "         'Tranum Klitplantage - Vestkystruten': 1,\n",
       "         'Nibe-Hvalpsund Naturstien, cykelrute 30km': 1,\n",
       "         'Cykel rundtur - Salten Langsø rundt (23 km)': 1,\n",
       "         'Cykel rundtur - Bøllingsø og Hærvejen': 1,\n",
       "         'Hadsundbanen, Cykelsti': 1,\n",
       "         'Tornby Klitplantage - cykelruten Vestkystruten': 1,\n",
       "         'Tversted Klitplantage - Vestkystruten': 1,\n",
       "         'Banestien mod Odense': 1,\n",
       "         'Bunken Klitplantage - cykelrute Vestkystruten': 1,\n",
       "         'Alhede Stien': 1,\n",
       "         'Kløversti grøn rute 2,3 km': 1,\n",
       "         'Kløversti blå  rute 5,6 km': 1,\n",
       "         'Kløversti sort rute på Kalvebod Fælled 11,8 km': 1,\n",
       "         'Tisvildestien, Hillerød - Tisvilde': 1,\n",
       "         'Nordkyststien, rute 47': 1,\n",
       "         'Gillelejestien, Hillerød-Gilleleje': 1,\n",
       "         'Naturstien, Stensballe Sund - Haldrup': 1,\n",
       "         'Kløversti rød rute 8,6 km': 1,\n",
       "         'Kongsøre skov': 1,\n",
       "         'Cykelrute 88, Munkevejen': 1,\n",
       "         'Fodsporet Dalmose - Slagelse': 1,\n",
       "         'Fodsporet Dalmose - Skælskør': 1,\n",
       "         'Testcenterruten': 1,\n",
       "         '411 Panoramarute': 1,\n",
       "         '410 Panoramarute': 1,\n",
       "         'Vandet Sø Ruten': 1,\n",
       "         'Testcenterstien': 1,\n",
       "         'Vangså Ruten': 1,\n",
       "         'Faddersbøl Ruten': 1,\n",
       "         'Ud i skoven - Naturlandets oplevelsesruter': 1,\n",
       "         'Sundruten - Naturlandets oplevelsesruter': 1,\n",
       "         'Skov, kyst og vin - Naturlandets oplevelsesruter': 1,\n",
       "         'Møns Klint Kridtstien': 1,\n",
       "         'Grøn Tur - Den Flade Etape': 1,\n",
       "         'Vilsted Sø, Cykelsti 24 km': 1,\n",
       "         'HH-Kulturruten': 1,\n",
       "         'HH-Naturruten': 1,\n",
       "         'HH-Sportsruten': 1,\n",
       "         'HH-Familierute': 1,\n",
       "         'HH-Sportsruten Alternativ': 1,\n",
       "         'Øst-sporet, Favrskov Kommune (54km)': 1,\n",
       "         'Ulstrup-ruten 31 km': 1,\n",
       "         'Afmærket cykelrute i Feldborg Nørreskov': 1,\n",
       "         'Cykelruter på Bornholm': 1,\n",
       "         'Husby Klit': 1,\n",
       "         'Cykelrute nr. 94 Ilskov - Sinding': 1,\n",
       "         'Hinnerup opland 31 km': 1,\n",
       "         'Hinnerup opland 19 km': 1,\n",
       "         'Cykelrute nr. 91 Herning - Ørre': 1,\n",
       "         'Hadsten opland 25 km': 1,\n",
       "         'Cykelrute nr. 81 Vind kirkeby - Gødstrup': 1,\n",
       "         'Cykelrute nr. 97 Herning - Fasteholt': 1,\n",
       "         'Cykelrute nr. 50 Aulum - Haderup': 1,\n",
       "         'Cykelrute nr. 51 Haderup - Fårbæk - Feldborg': 1,\n",
       "         'Cykelrute nr. 32  Harboøre - Brande': 1,\n",
       "         'Kløversti - Sort rute': 1,\n",
       "         'Regional cykelrute 32': 1,\n",
       "         'Regional cykelrute 31': 1,\n",
       "         'Cykelruten Vestkyststien': 1,\n",
       "         'Kjællinghøl Ruten': 1,\n",
       "         'Vest-sporet, Favrskov Kommune (67km)': 1,\n",
       "         'Sort Kløversti - Dyrehaven': 1,\n",
       "         'Rute R16: Fra Viborg til Aarhus': 1,\n",
       "         'Rute R9 (30 km)': 1,\n",
       "         'Rute R25 (Grathe Hederuten)': 1,\n",
       "         'Rute R3': 1,\n",
       "         'Rute N5 Østkystruten (650km)': 1,\n",
       "         'Kulturringen - kultur på cykel': 1,\n",
       "         'Lokal cykelrute, LC 1': 1,\n",
       "         'Lokal cykelrute, LC 2': 1,\n",
       "         'Lokal cykelrute, LC 3': 1,\n",
       "         'Lokal cykelrute, LC 5': 1,\n",
       "         'Lokal cykelrute, LC 4': 1,\n",
       "         'Lokal cykelrute, LC 7': 1,\n",
       "         'Lokal cykelrute, LC 8': 1,\n",
       "         'Lokal cykelrute, LC 9': 1,\n",
       "         'Nakskov Ringsti': 1,\n",
       "         'Lokal cykelrute, LC 10': 1,\n",
       "         'National cykelrute 9 - Berlin - København': 1,\n",
       "         'National cykelrute 8 - Østersøruten': 1,\n",
       "         'National cykelrute 7 - \\tSjællands Odde - Rødbyhavn': 1,\n",
       "         'Folkeparkruten': 1,\n",
       "         'Fodsporet Næstved-Dalmose': 1,\n",
       "         'Cykel rundtur - Julsø rundt (41 km)': 1,\n",
       "         'Rute R7 (Silkeborg ? Hov)': 1,\n",
       "         'Cykel rundtur-Hinge Sø og Krabbes Gr. Ring (25 km)': 1,\n",
       "         'Cykel rundtur - Nordskoven, Gjernbanen og Bakker': 1,\n",
       "         'Cykel rundtur - Silkeborg rundt (10 km)': 1,\n",
       "         'Lokal cykelrute, LC 11': 1,\n",
       "         'Lokal cykelrute, LC 13': 1,\n",
       "         'Lokal cykelrute, LC 14': 1,\n",
       "         'Lokal cykelrute, LC 16': 1,\n",
       "         'Regional cykelrute, RC12': 1,\n",
       "         'Regional cykelrute, RC19': 1,\n",
       "         'Lokal cykelrute, LC 6': 1,\n",
       "         'Lokal cykelrute, LC 12': 1,\n",
       "         'Lokal cykelrute, LC 15': 1,\n",
       "         'Lokal cykelrute, LC 17': 1,\n",
       "         'Lokal cykelrute, LC 18': 1,\n",
       "         'Nordsø - Østersøruten, RC NØR': 1,\n",
       "         'Regional cykelrute, RC6': 1,\n",
       "         'Cykel rundtur - Silkeborg Langsø rundt (10,5 km)': 1,\n",
       "         'Cykel rundtur - Lysbro-Odden-Lunden (7,5 km)': 1,\n",
       "         'Cykel rundtur - Vejlbo Mose (8,4 km)': 1,\n",
       "         'Vejle Ådal på to hjul': 1,\n",
       "         'Give ? Thyregod rundt': 1,\n",
       "         'Jellings Kongeetape - Jelling og Åst Bjerge': 1,\n",
       "         'Danmarks ubestridte hårdeste cykelrute': 1,\n",
       "         'The Tough 100 mile Grand Fondos': 1,\n",
       "         'Firkløveret': 1,\n",
       "         'Egtvedpigen': 1,\n",
       "         'Lading Sø cykelrundtur': 1,\n",
       "         'N9 Rødvig-Præstø': 1,\n",
       "         'Jyderupsti  Kongskilde-Ødemark': 1,\n",
       "         'Kongskilde - Ødemark (lejrpladsen)': 1,\n",
       "         'Hare-ruten - Den hurtige rute': 1,\n",
       "         'lejrpladsen ved Ødemark - Skellebjerg (kommunegrænsen)': 1,\n",
       "         'N6 - Kongskilde Friluftsgård  - Sigersted': 1,\n",
       "         'N7 Kongskilde Friluftsgård - Næstved': 1,\n",
       "         'Skellebjerg - Kongskilde Frilfutsgård': 1,\n",
       "         'Snegle-ruten - Den forsigtige rute': 1,\n",
       "         'Ugle-ruten - Den fornuftlige rute': 1,\n",
       "         'testes': 1,\n",
       "         'Den Kongelige Marskrute': 1,\n",
       "         'Nordens drue - Naturlandets oplevelsesruter': 1,\n",
       "         'Vilde Heste - Naturlandets oplevelsesruter': 1,\n",
       "         'Sjov i pedalerne - Naturlandets oplevelsesruter': 1,\n",
       "         'Moser, mølle og motion - Naturlandets oplevelser': 1,\n",
       "         'Rundt om Sakskøbing - Naturlandets oplevelsesruter': 1,\n",
       "         'Oldtidsruten - Naturlandets oplevelsesruter': 1,\n",
       "         'Langs fjorden - Naturlandets oplevelsesruter': 1,\n",
       "         'Kyst til kyst - Naturlandets oplevelsesruter': 1,\n",
       "         'I havørnenes land - Naturlandets oplevelsesruter': 1,\n",
       "         'Fuglenes fristeder - Naturlandets oplevelsesruter': 1,\n",
       "         'Fra købstad til fiskerleje - Naturlandets': 1,\n",
       "         'De lollandske alper - Naturlandets oplevelsesruter': 1,\n",
       "         'Det sydligste Danmark - Naturlandets oplevelser': 1,\n",
       "         'Det flade Lolland - Naturlandets oplevelsesruter': 1,\n",
       "         'Cykeløerne - Naturlandets oplevelsesruter': 1,\n",
       "         'Aalborg Fjordland Halkærruten (102)': 1,\n",
       "         'Aalborg Fjordland Kølbyruten (103)': 1,\n",
       "         'Hadsundruten - Cykelrute 21': 1,\n",
       "         'Sejlflod Banesti': 1,\n",
       "         'Cykelturforslag - Ringkøbing-Velling-Lem  - 33 km': 1,\n",
       "         'Safari på cykel - Naturlandets oplevelsesruter': 1,\n",
       "         'Køges grønne landskaber 45 km': 1,\n",
       "         'Tryggevældeåens opland 25 km': 1,\n",
       "         'Idylliske landsbyer 25 km': 1,\n",
       "         'Kontrasternes møde 25 km': 1,\n",
       "         'LC88': 1,\n",
       "         'RC12': 1,\n",
       "         'LC75': 1,\n",
       "         'LC86': 1,\n",
       "         'LC80 Branderup-Bovlund': 1,\n",
       "         'LC81 Tønder-Møgeltønder-Abild': 1,\n",
       "         'LC82 Tønder-Travsted-Lydersholm': 1,\n",
       "         'LC83 Løgumkloster-Øster Højst-Ellehus': 1,\n",
       "         'LC84': 1,\n",
       "         'LC85': 1,\n",
       "         'LC87': 1,\n",
       "         'LC90': 1,\n",
       "         'NC1 Rudbøl-Rejsby': 1,\n",
       "         'NC8 Rudbøl-Lydersholm': 1,\n",
       "         'N6 Skærbæk-Hellevad': 1,\n",
       "         'NC9 Tønder-Arrild': 1,\n",
       "         'LC73 Roost-Lindet': 1,\n",
       "         'LC74 Arrild': 1,\n",
       "         'LC79 Agerskov': 1,\n",
       "         'Køge Å stien': 1,\n",
       "         '9': 1,\n",
       "         'Kommandøren og Kaskelotten': 1,\n",
       "         '12': 1,\n",
       "         '19': 1,\n",
       "         'Nordsøruten, N1': 1,\n",
       "         '6': 1,\n",
       "         'Cykelsti mellem Harndrup og skolen': 1,\n",
       "         'Marsvinruten': 1,\n",
       "         'National cykelrute 6': 1,\n",
       "         'Torsdagsruten': 1,\n",
       "         'Regional cykelrute 71': 1,\n",
       "         'Horne - Linding Mølle - Olling - 12 km': 1,\n",
       "         'Ansager - Skovlund - 12 km': 1,\n",
       "         'Ansager Å - Ansager Plantage - 13 km': 1,\n",
       "         'Agerbæk - Klelund - 22 km': 1,\n",
       "         'Rundt om Outrup - 14 km': 1,\n",
       "         'Letbæk Mølle - Assenbæk Mølle - 14 km': 1,\n",
       "         'Starup - Tofterup - 12 km': 1,\n",
       "         'Årre - 22 km': 1,\n",
       "         'Næsbjerg - Rousthøje - Gellerup - 20 km': 1,\n",
       "         'Karlsgårde Sø - Biltoft - 17 km': 1,\n",
       "         'Nørholm Hede - 18 km': 1,\n",
       "         'Panoramarute Naturpark Vesterhavet, nr. 405 - 26 km': 1,\n",
       "         'Nymindegab, Sdr. Bork og Nørre Nebel - 29 km': 1,\n",
       "         'Lønne, Kløvbakke og Blåbjerg - 22 km': 1,\n",
       "         'Blåbjerg Klitplantage - 17 km': 1,\n",
       "         'Blåvand og Hvidbjerg - 9 km': 1,\n",
       "         'Houstrup, Henne Mølle Å og Lyngbos hede - 19 km': 1,\n",
       "         'Mølleåstien (Øvre Mølleå)': 1,\n",
       "         'Henne Strand - 15 km': 1,\n",
       "         'Rundt om Vejers og Kærgård Klitplantage': 1,\n",
       "         'Rundt om Vrøgum Klitplantage - 19 km': 1,\n",
       "         'Vejers og rundt om Aal Plantage - 25 km': 1,\n",
       "         'Billum og Broeng - 13 km': 1,\n",
       "         'Ho, Tavlbjerg og Jens Jessens Sande - 22 km': 1,\n",
       "         'Varde - Sig - 24 km': 1,\n",
       "         'Alslev Ådal - 8 km': 1,\n",
       "         'Varde Å, Broeng og Vrøgum - 24 km': 1,\n",
       "         'Orten og Isbjerg - 19 km': 1,\n",
       "         'Mejls - Udmarken - Lykkebjerg - 17 km': 1,\n",
       "         'Ølgod Plantage - 16 km': 1,\n",
       "         'Varde By - 17 km': 1,\n",
       "         'Panoramarute nr. 406 \"En cykeltur på søen\" - 21 km': 1,\n",
       "         'Cykelsti Ejby-Gelsted': 1,\n",
       "         'Solruten Mors': 1,\n",
       "         'Villestrup Å Ruten (Cykelrute 117)': 1,\n",
       "         'Kvie Sø - 13 km': 1,\n",
       "         'Regional cykelrute 35': 1,\n",
       "         'Ølgod - Strellev - Tinghøjene - 20 km': 1,\n",
       "         'N9 Nivå - Charlottenlund': 1,\n",
       "         'R31 - Hillerød - Farum': 1,\n",
       "         'Ertebølleruten': 1,\n",
       "         'Plantagestien': 1,\n",
       "         'Cykelrute - Fjorden Rundt, rute 760, 90 km': 1,\n",
       "         'Fjordruten': 1,\n",
       "         'Kirke - og historieruten': 1,\n",
       "         'Landsbyruten': 1,\n",
       "         'Moseturen': 1,\n",
       "         'Højderuten': 1,\n",
       "         'Naturruten': 1,\n",
       "         'Tunøruten': 1,\n",
       "         'Cykelturforslag - Tim-Sørup 12,4 km': 1,\n",
       "         'Cykelrute - Panoramarute Fuglenes Fjord, nr 408, 27 km': 1,\n",
       "         'Cykelrute - Panoramarute Mellem Hav og Fjord, nr 407, 43 km': 1,\n",
       "         'Cykelrute 703': 1,\n",
       "         'Cykelrute 702': 1,\n",
       "         'Cykelrute 701': 1,\n",
       "         'Arnbjergruten': 1,\n",
       "         'Cykelturforslag - Skjern-Borris 25 km': 1,\n",
       "         'Cykelturforslag - Ringkøbing-Velling 14 km': 1,\n",
       "         'Vilstedruten': 1,\n",
       "         'Cykelturforslag - Søndervig -Røjklit Havn Kloster 14,5 km': 1,\n",
       "         'Cykelturforslag - Værnenge-turen 27 km': 1,\n",
       "         'Cykelturforslag - Skjern-Stauning 22 km': 1,\n",
       "         'Cykelturforslag - Hvide Sande lyngvig fyr 12 km': 1,\n",
       "         'Cykelturforslag - Skaven-Skjern enge 16,6 km': 1,\n",
       "         'Kør-selv-cykeltur i fortidens fodspor - rundt om Silkeborg Langsø': 1,\n",
       "         'Cykelturforslag - Skern enge sløjfe 5,2 km': 1,\n",
       "         'Cykelturforslag - Skjern enge 25,5 km': 1,\n",
       "         'Rundt om Gudenåen (33 km)': 1,\n",
       "         'Grønninghoved Strand-Skamlingvejen V': 1,\n",
       "         'Grønninghoved Strand-Skamlingvejen Ø': 1,\n",
       "         'Mini-Kaninoen': 1,\n",
       "         'Strandhuse': 1,\n",
       "         'Vandmølleruten': 1,\n",
       "         'Rute N4 Søndervig - København (380 km)': 1,\n",
       "         'Rute 60': 1,\n",
       "         'Kultur og natur - 26,7 km': 1,\n",
       "         'Rute 79': 1,\n",
       "         'Rute 75': 1,\n",
       "         'Historiske oplevelser - 26,5 km': 1,\n",
       "         'Kulturelle oplevelser - 45 km': 1,\n",
       "         'Turen går til Helnæs - 47 km': 1,\n",
       "         'Vissenbjerg området - 35 km': 1,\n",
       "         'Øhop til Baagø': 1,\n",
       "         'Rute 70': 1,\n",
       "         'Lilleå ruten 43 km': 1,\n",
       "         'National Cykelrute: Vestkystruten': 1,\n",
       "         'Sønder Vilstrup': 1,\n",
       "         'Tørringbanen 1. etape - ca. 17 km': 1,\n",
       "         'Tørringbanen 2. etape - ca. 8 km': 1,\n",
       "         'Rute R30: Langs Gudenåen fra Randers til Gl. Rye': 1,\n",
       "         'Vester Nebel-Almind': 1,\n",
       "         'Stubdrupvej (Stallerup Sø)': 1,\n",
       "         'Verdensarv Vadehavet': 1,\n",
       "         'Atlantvolden': 1,\n",
       "         'Aller-Slusen Hejls': 1,\n",
       "         'The Big Five': 1,\n",
       "         'Aller-Aller Kirke': 1,\n",
       "         'Aller Kirke-Vejstruprød': 1,\n",
       "         'Kær Mølle': 1,\n",
       "         'Grønninghoved-Vejstruprød': 1,\n",
       "         'Svanemosen-Kobbelskov': 1,\n",
       "         'Ødis Kroge-Fovslet Mark': 1,\n",
       "         'Svanemosen-Gelting Skov': 1,\n",
       "         'Struer-Humlum-Toftum-Gudum': 1,\n",
       "         'Struer - Venø rundt - Struer': 1,\n",
       "         'Struer -Klosterhede-Remerstrand': 1,\n",
       "         'Struer_Hjerm_Vejrum': 1,\n",
       "         'Kjærgårdsmølle': 1,\n",
       "         'Thyholm cykelrute': 1,\n",
       "         'Rundt i Struer': 1,\n",
       "         'Kløversti ved Bogense (Cykelrute)': 1,\n",
       "         'Industri i land og by (rød rute)': 1,\n",
       "         'Kulturruten (sort rute)': 1,\n",
       "         'Cykelruter omkring golfbanen på Kalvebod Fælled': 1,\n",
       "         'Christiansfeld-Bøllemose': 1,\n",
       "         'Ødis-Ødis Kroge': 1,\n",
       "         'Vranderup-Seest Vesterskov': 1,\n",
       "         'Almind-Viuf Vestermark': 1,\n",
       "         'Vester Nebel-Dybvad Bro': 1,\n",
       "         'Vester Nebel-Ågård': 1,\n",
       "         'Skærsø SØ': 1,\n",
       "         'Dons Søndersø-Påby': 1,\n",
       "         'Vonsild-Høkkelbjerg': 1,\n",
       "         'Elkærholm-Dons Mølle': 1,\n",
       "         'Grønninghoved-Binderup': 1,\n",
       "         'Sønderskov': 1,\n",
       "         'Midtskov': 1,\n",
       "         'Gammel Ålbo': 1,\n",
       "         'R47': 1,\n",
       "         'Løver Odde': 1,\n",
       "         'Mads Kehlets Vej (Agtrupvig)': 1,\n",
       "         'Kløvkærvej-Seest Præstegård': 1,\n",
       "         'Lunderskov': 1,\n",
       "         'R55 - Tiufkær': 1,\n",
       "         'R35 - Middelalderruten': 1,\n",
       "         'R48': 1,\n",
       "         'Vandvejen': 1,\n",
       "         'Slotsø V': 1,\n",
       "         'R62': 1,\n",
       "         'R10': 1,\n",
       "         'R64 - Kongeådalen': 1,\n",
       "         'Hovens Skov-Eltang Vig': 1,\n",
       "         'Fjorddalen (Drejens)': 1,\n",
       "         'Elvig Høj': 1,\n",
       "         'Stenderup Hage': 1,\n",
       "         'Drejens Odde': 1,\n",
       "         'Binderup Strand-Skamlingvejen': 1,\n",
       "         'Hvilested-Vester Nebel Å': 1,\n",
       "         'Vamdrup-Lunderskov': 1,\n",
       "         'Vamdrup-Ødis': 1,\n",
       "         'Fovslet Skov': 1,\n",
       "         'Hoppeshuse-Svanemosen': 1,\n",
       "         'Christiansfeldruten': 1,\n",
       "         'Den Grønne Ring': 1,\n",
       "         'Cykeltur - Kjellerup Banesti ( 11,5 km).': 1,\n",
       "         'Regional rute 37. Tour de France etape 3. Vejle - Sønderborg': 1,\n",
       "         'Regional rute 27. Tour de France etape 2. Roskilde - Nyborg': 1,\n",
       "         'Tour de France etape 1. København - København': 1,\n",
       "         'Hurtigruten: Vestvolden, Avedøre - Kastrupfortet': 1,\n",
       "         'Vestvolden, Avedøre - Dragørfortet': 1,\n",
       "         'Kløversti - sort rute 15 km': 1,\n",
       "         'Sdr. Vissingruten': 1,\n",
       "         'Østersøruten NC8': 1,\n",
       "         'Herregårdsruten: Spodsbjerg - Bagenkop': 1,\n",
       "         'VM cykelruten': 1,\n",
       "         'Rundt om resterne af Gudenådeltaet (8 km)': 1,\n",
       "         'Skovkanten': 1,\n",
       "         'Digterstien': 1,\n",
       "         'Fuglestien': 1,\n",
       "         'Jægerstien': 1,\n",
       "         'Vestermøllestien': 1,\n",
       "         'Bystien': 1,\n",
       "         'Skolestien': 1,\n",
       "         'Skejby Lisbjerg-Ruten': 1,\n",
       "         'Tilstruten': 1,\n",
       "         'Birk-ruten': 1,\n",
       "         'MCH-ruten': 1,\n",
       "         'Maraton Helle 567': 1,\n",
       "         'Bording-Engesvang': 1,\n",
       "         'Hjortestien': 1,\n",
       "         'Klode Mølle - Engesvang': 1,\n",
       "         'Ikast - Isenvad': 1,\n",
       "         'Ikast - Engesvang - Bording': 1,\n",
       "         'Grindsted - Sønder-Omme': 1,\n",
       "         'Brande - Sønder. Omme': 1,\n",
       "         'Brande-Filskov': 1,\n",
       "         'Brande-Lundfod': 1,\n",
       "         'Videbæk-Herborg-Barde': 1,\n",
       "         'Videbæk-Fjelstervang-Rimmerhus': 1,\n",
       "         'Haderup - Fårbæk - Feldborg': 1,\n",
       "         'Aulum - Haderup': 1,\n",
       "         'Ilskov - Sinding': 1,\n",
       "         'Herning - Ørre': 1,\n",
       "         'Vind Kirkeby - Gødstrup': 1,\n",
       "         'Arnborg-Aulum': 1,\n",
       "         'Supercykelstien': 1,\n",
       "         'Hadsten-Hammel-Hinnerup MTB': 1,\n",
       "         'Slotsruten Rute': 1,\n",
       "         'Jyllinge-Stenløseruten': 1,\n",
       "         'Bjergruten': 1,\n",
       "         'Visseruten': 1,\n",
       "         'Skovgårde, Hegedal, Fjellerup': 1,\n",
       "         'Hvidovreruten': 1,\n",
       "         'Carlsbergruten': 1,\n",
       "         'Amagerruten': 1,\n",
       "         'Søruten': 1,\n",
       "         'Dalby Møllebæk': 1,\n",
       "         'Cykelringen': 1,\n",
       "         'Parforce Cykelrute 105': 1,\n",
       "         'Parforce Cykelrute 110': 1,\n",
       "         'Vokslevruten': 1,\n",
       "         'Regionalrute 9': 1,\n",
       "         'Lufthavnsruten': 1,\n",
       "         'Svanemølleruten': 1,\n",
       "         'Ryvangsruten': 1,\n",
       "         'Tur 2': 1,\n",
       "         'Tur 3': 1,\n",
       "         'Tur 1': 1,\n",
       "         'Stoholm Rundt': 1,\n",
       "         'Viborg Rundt': 1,\n",
       "         'Ring 4-ruten': 1,\n",
       "         'Indre Ringrute': 1,\n",
       "         'Kulturringen': 1,\n",
       "         'Gendarmstien-cykelstykke': 1,\n",
       "         'Gravhøjsruten': 1,\n",
       "         'Regionalrute 20: Skiveegnen rundt': 1,\n",
       "         'Regionalrute 25: Grathe Hede Ruten': 1,\n",
       "         'Sophienborgruten': 1,\n",
       "         'Regionalrute 19 (Solruten): Mors Rundt': 1,\n",
       "         'Supercykelstien i Vejle': 1,\n",
       "         'Regionalrute 2: Esbjerg - Ølgod': 1,\n",
       "         'Kystruten': 1,\n",
       "         'Mols Bjerge-ruten': 1,\n",
       "         'Helgenæs-ruten': 1,\n",
       "         'Mols Hoved-ruten': 1,\n",
       "         'Skarresø Rundt': 1,\n",
       "         'Bike Island-ruten': 1,\n",
       "         'Ishøjruten': 1,\n",
       "         'Supercykelsti mellem Fredericia og Middelfart': 1,\n",
       "         'Nørreåruten': 1,\n",
       "         'Hjarbæk Fjord rundt': 1,\n",
       "         'Værløseruten': 1,\n",
       "         'Farum-Allerødruten': 1,\n",
       "         'Hede - Grube turen': 1,\n",
       "         'Energi turen': 1,\n",
       "         'Allerødruten': 1,\n",
       "         'Gjerrildbanestien': 1,\n",
       "         'panoramarute': 1,\n",
       "         'I fiskens tegn': 1,\n",
       "         'Højt over Havet': 1,\n",
       "         'Naturens Skattekammer': 1,\n",
       "         'Ringsted Oplevelsessti': 1,\n",
       "         'Havneringen': 1,\n",
       "         'Cykelrute 7': 1,\n",
       "         'Cykelrute 11': 1,\n",
       "         'Regionalrute 9 (nord): Grimstrup - Grindsted': 1,\n",
       "         'Cykelrute 8': 1,\n",
       "         'Cykelrute 10': 1,\n",
       "         'Vikinger og Vadehavet': 1,\n",
       "         'Den kongelige Marskrute': 1,\n",
       "         'Oplev naturens kræfter': 1,\n",
       "         'Fuglenes Fjord': 1,\n",
       "         'Naturpark Vesterhavet': 1,\n",
       "         'Villestrup Å Ruten': 1,\n",
       "         'Bølgeskum og brede strande': 1,\n",
       "         'Panoramarute 416': 1,\n",
       "         'Mølleådalen - Sort Kløversti': 1,\n",
       "         'Allerød Landsby - Kløversti': 1,\n",
       "         'Halvmarathon Ruten - Kløversti': 1,\n",
       "         'Blovstrød - Kløversti': 1,\n",
       "         'Panoramarute - En cykeltur på søen': 1,\n",
       "         'Regionalrute 17: Nissum Fjord Rundt': 1,\n",
       "         'Regionalrute 18: Ringkøbing - Skive': 1,\n",
       "         'Fjorden Rundt': 1,\n",
       "         'Panoramarute - Mellem hav og fjord': 1,\n",
       "         'Drivvejen': 1,\n",
       "         'Tisvilde-ruten': 1,\n",
       "         'Rute 47': 1,\n",
       "         'Kloster-ruten': 1,\n",
       "         'Torup-ruten': 1,\n",
       "         'Hundested - Lynæs': 1,\n",
       "         'Snekkersten - Fredensborg': 1,\n",
       "         'Frenensborg - Nivå': 1,\n",
       "         'Hornbæk - Helsingør': 1,\n",
       "         'Mårum-ruten': 1,\n",
       "         'Fredensborg - Hillerød': 1,\n",
       "         'Esrum Kloster - Hillerød': 1,\n",
       "         'Louisiana-ruten': 1,\n",
       "         'Tegner-ruten': 1,\n",
       "         'Søborg-ruten': 1,\n",
       "         'Liseleje-ruten': 1,\n",
       "         'Kulturhavns-ruten': 1,\n",
       "         'Humlebæk-ruten': 1,\n",
       "         'Helsingør-ruten': 1,\n",
       "         'Hammermølle-ruten': 1,\n",
       "         'Gurre-ruten': 1,\n",
       "         'Gilbjerg-ruten': 1,\n",
       "         'Esrum-ruten': 1,\n",
       "         'Regionalrute 6: Rømø - Hellevad': 1,\n",
       "         'Ostseeküsten-Radweg - Abschnitt Deutschland SH-Nordost': 1,\n",
       "         'Frederiksundsruten': 1,\n",
       "         'Sommerfugleruten i Danmark - Rød vinge': 1,\n",
       "         'Sommerfugleruten i Danmark - Grøn vinge': 1,\n",
       "         'Snekkersten-Højstrup': 1,\n",
       "         '103': 1,\n",
       "         '101': 1,\n",
       "         'Farumruten': 1,\n",
       "         'Svaleruten': 1,\n",
       "         '102': 1,\n",
       "         \"EuroVelo 3 - Pilgrim's Route - part Sweden\": 1,\n",
       "         \"EuroVelo 3 - Pilgrim's Route - part Germany\": 1,\n",
       "         'Vandet sø ruten': 1,\n",
       "         'Faddersbølruten': 1,\n",
       "         'Nordthyruten': 1,\n",
       "         'Risskovstien': 1,\n",
       "         'Vejlby-Lystrup-ruten': 1,\n",
       "         'Vangså-ruten': 1,\n",
       "         'Gellerupruten': 1,\n",
       "         'Albertslundruten': 1,\n",
       "         'Brande - Horsens': 1,\n",
       "         'Lokalcykelrute 55': 1,\n",
       "         'Lokalcykelrute 56': 1,\n",
       "         'Lokalcykelrute 61': 1,\n",
       "         'Lokalcykelrute 44': 1,\n",
       "         'Lokalcykelrute 42': 1,\n",
       "         'Lokalcykelrute 48': 1,\n",
       "         'Lokalcykelrute 47': 1,\n",
       "         'Lokalcykelrute 46': 1,\n",
       "         'VisitKalundborg 7: Historisk Vingesus': 1,\n",
       "         'Vensysselruten': 1,\n",
       "         \"EuroVelo 3 - Pilgrim's Route - part Denmark\": 1,\n",
       "         'Hagen Strand Camping: Varieret natur, Vejle Fjord og Vejle by': 1,\n",
       "         'Randbøldal Camping: Plantage, hede og Bindeballe Købmandsgård': 1,\n",
       "         'Randbøldal Camping: Bindeballestien og vikingeminder': 1,\n",
       "         'Randbøldal Camping: Afvekslende natur, Egtved og Engelsholm': 1,\n",
       "         'Danhostel Vejle: Varieret natur og Vejle by': 1,\n",
       "         'Hagen Strand Camping: Landsbyidyl og syd-om Rands Fjord': 1,\n",
       "         'Hagen Strand Camping: Den lille kysttur og Rands Fjord 21 km': 1,\n",
       "         'Danhostel Vejle: Vikingeminder og Bindeballestien': 1,\n",
       "         'Danhostel Vejle: Vejle, fuglereservat og Fårup Sø': 1,\n",
       "         'Randbøldal Camping: Frederikshaab Plantage, Syvårssøerne og Randbøl Hede': 1,\n",
       "         'Randbøldal Camping: Engelsholm Slot og sø, Nørup Kirke og Randbøl Kirke': 1,\n",
       "         'Danhostel: Tur til Fårup Sø': 1,\n",
       "         'Randbøldal - Randbøl - Frederikshåb Plantage- Bindeballe': 1,\n",
       "         'Danhostel Vejle: Ravningbroen - Bindeballe Købmandsgård - Runkenbjerg - Tørskind Grusgrav': 1,\n",
       "         'Hagen Strand Camping: Hvidbjerg ? Trelde Næs ? Rands Fjord': 1,\n",
       "         'Hagen Strand Camping: Langs fjorden til Vejle': 1,\n",
       "         'Hagen Strand Camping: Tur til fire vandmøller i Trekantområdet': 1,\n",
       "         'Borup - Roskilde - Hove': 1,\n",
       "         'Randbøldal Camping: Bindeballe købmandsgård - Egtvedpigens grav - Tørskind grusgrav - Runkenbjerg': 1,\n",
       "         'Danhostel Vejle: Cykeltur til Vejle': 1,\n",
       "         'Sejerøbugtstien': 1,\n",
       "         'EuroVelo 12 - North Sea Cycle Route - part Denmark': 1,\n",
       "         'Fra Hav til Fjord': 1,\n",
       "         'Universitetsruten': 1,\n",
       "         'EuroVelo 12 - North Sea Cycle Route - part Sweden': 1,\n",
       "         'Fodsporet - Næstved - Dalmose': 1,\n",
       "         'Fodsporet - Slagelse - Skælskør': 1,\n",
       "         'EuroVelo 10 - Baltic Sea Cycle Route - part Denmark': 1,\n",
       "         'Bike The Baltic - Bornholm 2': 1,\n",
       "         'Bike The Baltic - Bornholm 1': 1,\n",
       "         'Den Skæve Bane': 1,\n",
       "         'Parkruten - Gentofte': 1,\n",
       "         'Herning-Fasterholt': 1,\n",
       "         'Skærupdalen': 1,\n",
       "         'Skovruten - Gentofte': 1,\n",
       "         'Søruten - Gentofte': 1,\n",
       "         'Sort Kløversti, Glostrup,Liljeruten': 1,\n",
       "         'Vestvolden ved Islev - Smedebæk Bro': 1,\n",
       "         'Haervejen - Ochsenweg, Germany': 1,\n",
       "         'Harrestrup - Glostrup': 1,\n",
       "         'Sankt Jacobruten': 1,\n",
       "         'Kilderuten': 1,\n",
       "         'Bornholm rundt': 1,\n",
       "         'LCN 2': 1,\n",
       "         'Lokal Cykelrute 57': 1,\n",
       "         'Haderslev-Vojens Tunneldal': 1,\n",
       "         'Aarø': 1,\n",
       "         'En dag på Læsø': 1,\n",
       "         'På toppen af Sjælland': 1,\n",
       "         'Træerne ved Østersøen': 1,\n",
       "         'VM-ruten 2011': 1,\n",
       "         'Hald Sø Rundt': 1,\n",
       "         'Vestegnsruten': 1,\n",
       "         'Mariager Fjordruten': 1,\n",
       "         '32': 1,\n",
       "         'Turist Attractions Esbjerg': 1,\n",
       "         'Nationalmuseets Mølleå Rute': 1,\n",
       "         'Halen - Pælebjerg': 1,\n",
       "         'Sønderho - Pælebjerg - Sønderho': 1,\n",
       "         'Ribe - Varming - Obbekær - Bjerreskov': 1,\n",
       "         'Regional cykelrute 4, Ribe - Gram': 1,\n",
       "         'Nordby - Pælebjerg - Nordby': 1,\n",
       "         'Skodborg cykelrute nr. 7': 1,\n",
       "         'Nordby - Sønderho - Nordby': 1,\n",
       "         'Bælumruten': 1,\n",
       "         'Lokalcykelrute 58': 1,\n",
       "         'Lokalcykelrute 52': 1,\n",
       "         'Planetstien': 1,\n",
       "         'Skovruten': 1,\n",
       "         'Kongelunden - Tårnby': 1,\n",
       "         'RCN 32: Horsens - Harboøre': 1,\n",
       "         'EuroVelo 12 - North Sea Cycle Route - part Germany': 1,\n",
       "         'Nordseeküstenroute (Hamburg und Schleswig-Holstein)': 1,\n",
       "         'Ochsenweg, Deutschland, östliche Routenabschnitte': 1,\n",
       "         'EuroVelo 7 - Sun Route - part Denmark': 1,\n",
       "         'Amager Strandpark - Islands Brygge': 1,\n",
       "         'RCN 31: Bryrupbanestien': 1,\n",
       "         'RCN 22: Rønde - Stenvad': 1,\n",
       "         'RCN 20: Grenå - Hornslet': 1,\n",
       "         'RCN 27': 1,\n",
       "         '109 - Kongens Vængeruten': 1,\n",
       "         '102 - Herredsstien': 1,\n",
       "         'Engelsholmruten': 1,\n",
       "         'Bindeballestien': 1,\n",
       "         'Nørrebroruten': 1,\n",
       "         'Den Grønne Sti': 1,\n",
       "         '58': 1,\n",
       "         'Røgbølle Sø turen': 1,\n",
       "         'Søndersø ruten': 1,\n",
       "         '30': 1,\n",
       "         '45': 1,\n",
       "         'Sundruten': 1,\n",
       "         '49': 1,\n",
       "         '35': 1,\n",
       "         'Gillelejestien Hillerød-Gilleleje': 1,\n",
       "         '90': 1,\n",
       "         'Holstedruten': 1,\n",
       "         'Markruten': 1,\n",
       "         'Sjællands Odde - Rødby': 1,\n",
       "         'Digterruten': 1,\n",
       "         'Regional rute 10': 1,\n",
       "         'LCN 3': 1,\n",
       "         'RCN 29': 1,\n",
       "         'Gudenådalen': 1,\n",
       "         'Tønder ? Hærvejen ved Jels': 1,\n",
       "         'RCN 7': 1,\n",
       "         'RCN 30': 1,\n",
       "         'RCN 15': 1,\n",
       "         'RCN 8 Randers - Ry': 1,\n",
       "         'Falster Rundt': 1,\n",
       "         'RCN 18: Aarhus - Norup': 1,\n",
       "         'RCN 35: Sydlige Samsø': 1,\n",
       "         'RCN 34: Nordlige Samsø': 1,\n",
       "         'RCN 14: Hornslet - Rude strand': 1,\n",
       "         'RCN 3: Aarhus => Hadsund': 1,\n",
       "         'Søhøjlandet': 1,\n",
       "         'Nord-Ostsee-Radweg': 1,\n",
       "         'Elbodalen': 1,\n",
       "         'Kongeådalen': 1,\n",
       "         'Middelalderruten': 1,\n",
       "         'Tiufkær': 1,\n",
       "         'Harde - Dybvadbro': 1,\n",
       "         'Troldhedebanestien': 1,\n",
       "         'LCN 4': 1,\n",
       "         'Bjerrelide ruten': 1,\n",
       "         'Hærvejsruten': 1,\n",
       "         '101 - Banestien': 1,\n",
       "         'Nordkyststien Hundested-Helsingør': 1,\n",
       "         'Helsingør - Gedser': 1,\n",
       "         'Ring III - Sengeløse': 1,\n",
       "         'Hillerød - Tisvildeleje': 1,\n",
       "         'Hillerød - Farum': 1,\n",
       "         'Hjortespringskilen - Brøndby Strand': 1,\n",
       "         'Søndervig - København': 1,\n",
       "         'Radfernweg Berlin-Kopenhagen': 1,\n",
       "         'Kirke Værløse - Hareskovby': 1,\n",
       "         'Damhussøen - Taastrup Nord': 1,\n",
       "         'Emdrup - Vedbæk': 1,\n",
       "         'Valbyparken - Smørmosen': 1,\n",
       "         'Vallensbæk Strand - Egebjerg': 1,\n",
       "         'Klampenborg - Ishøj Strand': 1,\n",
       "         'Hanstholm - København': 1,\n",
       "         'Esbjerg - København': 1,\n",
       "         'Hans Knudsens Plads - Sandbjerg': 1})"
      ]
     },
     "execution_count": 31,
     "metadata": {},
     "output_type": "execute_result"
    }
   ],
   "source": [
    "Counter(gdf[\"navn\"])"
   ]
  },
  {
   "cell_type": "code",
   "execution_count": null,
   "metadata": {},
   "outputs": [],
   "source": []
  }
 ],
 "metadata": {
  "kernelspec": {
   "display_name": "knupu",
   "language": "python",
   "name": "python3"
  },
  "language_info": {
   "codemirror_mode": {
    "name": "ipython",
    "version": 3
   },
   "file_extension": ".py",
   "mimetype": "text/x-python",
   "name": "python",
   "nbconvert_exporter": "python",
   "pygments_lexer": "ipython3",
   "version": "3.9.16"
  },
  "orig_nbformat": 4
 },
 "nbformat": 4,
 "nbformat_minor": 2
}
