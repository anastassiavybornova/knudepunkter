{
 "cells": [
  {
   "cell_type": "code",
   "execution_count": 82,
   "metadata": {},
   "outputs": [],
   "source": [
    "import pandas as pd\n",
    "import geopandas as gpd\n",
    "from collections import Counter\n",
    "import os"
   ]
  },
  {
   "cell_type": "markdown",
   "metadata": {},
   "source": []
  },
  {
   "cell_type": "markdown",
   "metadata": {},
   "source": [
    "***\n",
    "\n",
    "### Step 1: import all WFS layers into separate gdfs\n",
    "\n",
    "**Importing faciliteter layers**"
   ]
  },
  {
   "cell_type": "code",
   "execution_count": 2,
   "metadata": {},
   "outputs": [],
   "source": [
    "indk = gpd.read_file(\"../data/raw/wfs/facilit_faciliteter/indkoeb.gpkg\").explode(index_parts=False)\n",
    "info = gpd.read_file(\"../data/raw/wfs/facilit_faciliteter/infoservice.gpkg\").explode(index_parts=False)\n",
    "infosup = gpd.read_file(\"../data/raw/wfs/facilit_faciliteter/infoservice_suppl.gpkg\").explode(index_parts=False)\n",
    "over = gpd.read_file(\"../data/raw/wfs/facilit_faciliteter/overnatning.gpkg\").explode(index_parts=False)\n",
    "rast = gpd.read_file(\"../data/raw/wfs/facilit_faciliteter/rasteplads.gpkg\").explode(index_parts=False)\n",
    "rastsup = gpd.read_file(\"../data/raw/wfs/facilit_faciliteter/rasteplads_suppl.gpkg\").explode(index_parts=False)"
   ]
  },
  {
   "cell_type": "markdown",
   "metadata": {},
   "source": [
    "**Importing land_anvendelse layers**"
   ]
  },
  {
   "cell_type": "code",
   "execution_count": 3,
   "metadata": {},
   "outputs": [],
   "source": [
    "byom = gpd.read_file(\"../data/raw/wfs/land_anvendelse/byomraade.gpkg\").explode(index_parts=False)\n",
    "dyrk = gpd.read_file(\"../data/raw/wfs/land_anvendelse/dyrket_areal.gpkg\").explode(index_parts=False)\n",
    "natu = gpd.read_file(\"../data/raw/wfs/land_anvendelse/naturareal.gpkg\").explode(index_parts=False)\n",
    "skov = gpd.read_file(\"../data/raw/wfs/land_anvendelse/skovinddeling.gpkg\").explode(index_parts=False)\n",
    "tekn = gpd.read_file(\"../data/raw/wfs/land_anvendelse/teknisk_areal.gpkg\").explode(index_parts=False)"
   ]
  },
  {
   "cell_type": "markdown",
   "metadata": {},
   "source": [
    "**Importing land_attraktioner layers**"
   ]
  },
  {
   "cell_type": "code",
   "execution_count": 4,
   "metadata": {},
   "outputs": [],
   "source": [
    "beso = gpd.read_file(\"../data/raw/wfs/land_attraktioner/besoeg.gpkg\").explode(index_parts=False)\n",
    "fort = gpd.read_file(\"../data/raw/wfs/land_attraktioner/fortidsminder.gpkg\").explode(index_parts=False)\n",
    "land = gpd.read_file(\"../data/raw/wfs/land_attraktioner/landemaerker.gpkg\").explode(index_parts=False)\n",
    "udfl = gpd.read_file(\"../data/raw/wfs/land_attraktioner/udflugt.gpkg\").explode(index_parts=False)"
   ]
  },
  {
   "cell_type": "code",
   "execution_count": 41,
   "metadata": {},
   "outputs": [
    {
     "data": {
      "text/plain": [
       "Counter({'Naturområde': 7,\n",
       "         'Udsigtspunkt': 6,\n",
       "         'Badestrand/-sted': 4,\n",
       "         'Fugletårn/Udsigtstårn': 1})"
      ]
     },
     "execution_count": 41,
     "metadata": {},
     "output_type": "execute_result"
    }
   ],
   "source": [
    "Counter(udfl[\"type\"])"
   ]
  },
  {
   "cell_type": "markdown",
   "metadata": {},
   "source": [
    "**Importing landskabnatur layers** \n",
    "\n",
    "ATTENTION SOME LAYERS ARE MISSING!"
   ]
  },
  {
   "cell_type": "code",
   "execution_count": 5,
   "metadata": {},
   "outputs": [],
   "source": [
    "besk = gpd.read_file(\"../data/raw/wfs/land_landskabnatur/beskyttet_natur.gpkg\").explode(index_parts=False)\n",
    "\n",
    "# missing:\n",
    "# Fredninger, nationalparker mm.; Værdifulde landskaber mm"
   ]
  },
  {
   "cell_type": "markdown",
   "metadata": {},
   "source": [
    "***\n",
    "\n",
    "### Step 2: Combine gdfs into evaluation layers\n",
    "\n",
    "we want to only keep geometries and types"
   ]
  },
  {
   "cell_type": "code",
   "execution_count": 71,
   "metadata": {},
   "outputs": [],
   "source": [
    "def merge_gdfs(gdf_list):\n",
    "\n",
    "    # make sure all gdfs are the same crs\n",
    "    assert len(set([gdf.crs for gdf in gdf_list]))==1\n",
    "    # make sure we have the same geometries everywhere\n",
    "    assert len(set([t for gdf in gdf_list for t in gdf.type]))==1\n",
    "    # concatenate with pandas\n",
    "    gdf_main = pd.concat([gdf[[\"geometry\", \"type\"]].copy() for gdf in gdf_list])    \n",
    "    \n",
    "    return gdf_main\n"
   ]
  },
  {
   "cell_type": "markdown",
   "metadata": {},
   "source": [
    "**Nature**"
   ]
  },
  {
   "cell_type": "code",
   "execution_count": 72,
   "metadata": {},
   "outputs": [
    {
     "data": {
      "text/html": [
       "<div>\n",
       "<style scoped>\n",
       "    .dataframe tbody tr th:only-of-type {\n",
       "        vertical-align: middle;\n",
       "    }\n",
       "\n",
       "    .dataframe tbody tr th {\n",
       "        vertical-align: top;\n",
       "    }\n",
       "\n",
       "    .dataframe thead th {\n",
       "        text-align: right;\n",
       "    }\n",
       "</style>\n",
       "<table border=\"1\" class=\"dataframe\">\n",
       "  <thead>\n",
       "    <tr style=\"text-align: right;\">\n",
       "      <th></th>\n",
       "      <th>geometry</th>\n",
       "      <th>type</th>\n",
       "    </tr>\n",
       "  </thead>\n",
       "  <tbody>\n",
       "    <tr>\n",
       "      <th>0</th>\n",
       "      <td>POLYGON ((674187.995 6132974.789, 674181.977 6...</td>\n",
       "      <td>Skov</td>\n",
       "    </tr>\n",
       "    <tr>\n",
       "      <th>1</th>\n",
       "      <td>POLYGON ((674564.760 6133499.960, 674564.510 6...</td>\n",
       "      <td>Kratbevoksning</td>\n",
       "    </tr>\n",
       "    <tr>\n",
       "      <th>2</th>\n",
       "      <td>POLYGON ((674543.590 6133496.290, 674543.490 6...</td>\n",
       "      <td>Kratbevoksning</td>\n",
       "    </tr>\n",
       "  </tbody>\n",
       "</table>\n",
       "</div>"
      ],
      "text/plain": [
       "                                            geometry            type\n",
       "0  POLYGON ((674187.995 6132974.789, 674181.977 6...            Skov\n",
       "1  POLYGON ((674564.760 6133499.960, 674564.510 6...  Kratbevoksning\n",
       "2  POLYGON ((674543.590 6133496.290, 674543.490 6...  Kratbevoksning"
      ]
     },
     "execution_count": 72,
     "metadata": {},
     "output_type": "execute_result"
    }
   ],
   "source": [
    "nature = merge_gdfs(\n",
    "    [\n",
    "        natu[-natu[\"type\"].isin([\"Råstofomrade\"])],\n",
    "        skov,\n",
    "        besk,\n",
    "        # fred, \n",
    "        # vaer,    \n",
    "    ]\n",
    "    )\n",
    "nature.head(3)"
   ]
  },
  {
   "cell_type": "markdown",
   "metadata": {},
   "source": [
    "**Culture**"
   ]
  },
  {
   "cell_type": "code",
   "execution_count": 73,
   "metadata": {},
   "outputs": [
    {
     "data": {
      "text/html": [
       "<div>\n",
       "<style scoped>\n",
       "    .dataframe tbody tr th:only-of-type {\n",
       "        vertical-align: middle;\n",
       "    }\n",
       "\n",
       "    .dataframe tbody tr th {\n",
       "        vertical-align: top;\n",
       "    }\n",
       "\n",
       "    .dataframe thead th {\n",
       "        text-align: right;\n",
       "    }\n",
       "</style>\n",
       "<table border=\"1\" class=\"dataframe\">\n",
       "  <thead>\n",
       "    <tr style=\"text-align: right;\">\n",
       "      <th></th>\n",
       "      <th>geometry</th>\n",
       "      <th>type</th>\n",
       "    </tr>\n",
       "  </thead>\n",
       "  <tbody>\n",
       "    <tr>\n",
       "      <th>0</th>\n",
       "      <td>POLYGON ((688000.060 6134930.550, 688005.050 6...</td>\n",
       "      <td>Bykerne</td>\n",
       "    </tr>\n",
       "  </tbody>\n",
       "</table>\n",
       "</div>"
      ],
      "text/plain": [
       "                                            geometry     type\n",
       "0  POLYGON ((688000.060 6134930.550, 688005.050 6...  Bykerne"
      ]
     },
     "execution_count": 73,
     "metadata": {},
     "output_type": "execute_result"
    }
   ],
   "source": [
    "# CULTURE\n",
    "culture = merge_gdfs(\n",
    "    [\n",
    "        byom[byom[\"type\"]==\"Bykerne\"],\n",
    "        # vaer filtered by \"kulturhistorisk...\" and \"kulturmiljø\"\n",
    "    ]\n",
    ")\n",
    "culture.head(3)"
   ]
  },
  {
   "cell_type": "markdown",
   "metadata": {},
   "source": [
    "**Sommerhus**"
   ]
  },
  {
   "cell_type": "code",
   "execution_count": 75,
   "metadata": {},
   "outputs": [
    {
     "data": {
      "text/html": [
       "<div>\n",
       "<style scoped>\n",
       "    .dataframe tbody tr th:only-of-type {\n",
       "        vertical-align: middle;\n",
       "    }\n",
       "\n",
       "    .dataframe tbody tr th {\n",
       "        vertical-align: top;\n",
       "    }\n",
       "\n",
       "    .dataframe thead th {\n",
       "        text-align: right;\n",
       "    }\n",
       "</style>\n",
       "<table border=\"1\" class=\"dataframe\">\n",
       "  <thead>\n",
       "    <tr style=\"text-align: right;\">\n",
       "      <th></th>\n",
       "      <th>geometry</th>\n",
       "      <th>type</th>\n",
       "    </tr>\n",
       "  </thead>\n",
       "  <tbody>\n",
       "    <tr>\n",
       "      <th>637</th>\n",
       "      <td>POLYGON ((699967.057 6121418.232, 699949.159 6...</td>\n",
       "      <td>Sommerhusområde</td>\n",
       "    </tr>\n",
       "    <tr>\n",
       "      <th>638</th>\n",
       "      <td>POLYGON ((695048.016 6118988.105, 695045.802 6...</td>\n",
       "      <td>Sommerhusområde</td>\n",
       "    </tr>\n",
       "    <tr>\n",
       "      <th>639</th>\n",
       "      <td>POLYGON ((701900.987 6123607.918, 701856.971 6...</td>\n",
       "      <td>Sommerhusområde</td>\n",
       "    </tr>\n",
       "  </tbody>\n",
       "</table>\n",
       "</div>"
      ],
      "text/plain": [
       "                                              geometry             type\n",
       "637  POLYGON ((699967.057 6121418.232, 699949.159 6...  Sommerhusområde\n",
       "638  POLYGON ((695048.016 6118988.105, 695045.802 6...  Sommerhusområde\n",
       "639  POLYGON ((701900.987 6123607.918, 701856.971 6...  Sommerhusområde"
      ]
     },
     "execution_count": 75,
     "metadata": {},
     "output_type": "execute_result"
    }
   ],
   "source": [
    "# SOMMERHUS\n",
    "sommerhus = merge_gdfs(\n",
    "    [\n",
    "        byom[byom[\"type\"].isin([\"Sommerhusområde\", \"Sommerhusområde skov\"])]\n",
    "    ]\n",
    ")\n",
    "sommerhus.head(3)"
   ]
  },
  {
   "cell_type": "markdown",
   "metadata": {},
   "source": [
    "**Agriculture**\n",
    "\n",
    "Q: add some more to this layer?"
   ]
  },
  {
   "cell_type": "code",
   "execution_count": 76,
   "metadata": {},
   "outputs": [
    {
     "data": {
      "text/html": [
       "<div>\n",
       "<style scoped>\n",
       "    .dataframe tbody tr th:only-of-type {\n",
       "        vertical-align: middle;\n",
       "    }\n",
       "\n",
       "    .dataframe tbody tr th {\n",
       "        vertical-align: top;\n",
       "    }\n",
       "\n",
       "    .dataframe thead th {\n",
       "        text-align: right;\n",
       "    }\n",
       "</style>\n",
       "<table border=\"1\" class=\"dataframe\">\n",
       "  <thead>\n",
       "    <tr style=\"text-align: right;\">\n",
       "      <th></th>\n",
       "      <th>tmp_id</th>\n",
       "      <th>gruppe</th>\n",
       "      <th>type</th>\n",
       "      <th>kilde</th>\n",
       "      <th>geometry</th>\n",
       "    </tr>\n",
       "  </thead>\n",
       "  <tbody>\n",
       "    <tr>\n",
       "      <th>0</th>\n",
       "      <td>9584</td>\n",
       "      <td>Dyrkede arealer</td>\n",
       "      <td>Dyrkede afgrøder på marker</td>\n",
       "      <td>LBST</td>\n",
       "      <td>POLYGON ((682785.132 6133401.399, 682784.586 6...</td>\n",
       "    </tr>\n",
       "    <tr>\n",
       "      <th>1</th>\n",
       "      <td>9585</td>\n",
       "      <td>Dyrkede arealer</td>\n",
       "      <td>Dyrkede afgrøder på marker</td>\n",
       "      <td>LBST</td>\n",
       "      <td>POLYGON ((682631.161 6133417.782, 682631.441 6...</td>\n",
       "    </tr>\n",
       "    <tr>\n",
       "      <th>2</th>\n",
       "      <td>9586</td>\n",
       "      <td>Dyrkede arealer</td>\n",
       "      <td>Dyrkede afgrøder på marker</td>\n",
       "      <td>LBST</td>\n",
       "      <td>POLYGON ((682629.405 6133418.333, 682629.373 6...</td>\n",
       "    </tr>\n",
       "  </tbody>\n",
       "</table>\n",
       "</div>"
      ],
      "text/plain": [
       "   tmp_id           gruppe                        type kilde  \\\n",
       "0    9584  Dyrkede arealer  Dyrkede afgrøder på marker  LBST   \n",
       "1    9585  Dyrkede arealer  Dyrkede afgrøder på marker  LBST   \n",
       "2    9586  Dyrkede arealer  Dyrkede afgrøder på marker  LBST   \n",
       "\n",
       "                                            geometry  \n",
       "0  POLYGON ((682785.132 6133401.399, 682784.586 6...  \n",
       "1  POLYGON ((682631.161 6133417.782, 682631.441 6...  \n",
       "2  POLYGON ((682629.405 6133418.333, 682629.373 6...  "
      ]
     },
     "execution_count": 76,
     "metadata": {},
     "output_type": "execute_result"
    }
   ],
   "source": [
    "agriculture = dyrk.copy() # agriculture!! (separate layer)\n",
    "agriculture.head(3)"
   ]
  },
  {
   "cell_type": "markdown",
   "metadata": {},
   "source": [
    "**Bad**"
   ]
  },
  {
   "cell_type": "code",
   "execution_count": 77,
   "metadata": {},
   "outputs": [
    {
     "data": {
      "text/html": [
       "<div>\n",
       "<style scoped>\n",
       "    .dataframe tbody tr th:only-of-type {\n",
       "        vertical-align: middle;\n",
       "    }\n",
       "\n",
       "    .dataframe tbody tr th {\n",
       "        vertical-align: top;\n",
       "    }\n",
       "\n",
       "    .dataframe thead th {\n",
       "        text-align: right;\n",
       "    }\n",
       "</style>\n",
       "<table border=\"1\" class=\"dataframe\">\n",
       "  <thead>\n",
       "    <tr style=\"text-align: right;\">\n",
       "      <th></th>\n",
       "      <th>geometry</th>\n",
       "      <th>type</th>\n",
       "    </tr>\n",
       "  </thead>\n",
       "  <tbody>\n",
       "    <tr>\n",
       "      <th>1</th>\n",
       "      <td>POLYGON ((687678.460 6135211.880, 687681.560 6...</td>\n",
       "      <td>Høj bebyggelse</td>\n",
       "    </tr>\n",
       "    <tr>\n",
       "      <th>2</th>\n",
       "      <td>POLYGON ((687478.210 6136000.000, 687482.040 6...</td>\n",
       "      <td>Høj bebyggelse</td>\n",
       "    </tr>\n",
       "    <tr>\n",
       "      <th>3</th>\n",
       "      <td>POLYGON ((688000.020 6135481.940, 688009.110 6...</td>\n",
       "      <td>Høj bebyggelse</td>\n",
       "    </tr>\n",
       "  </tbody>\n",
       "</table>\n",
       "</div>"
      ],
      "text/plain": [
       "                                            geometry            type\n",
       "1  POLYGON ((687678.460 6135211.880, 687681.560 6...  Høj bebyggelse\n",
       "2  POLYGON ((687478.210 6136000.000, 687482.040 6...  Høj bebyggelse\n",
       "3  POLYGON ((688000.020 6135481.940, 688009.110 6...  Høj bebyggelse"
      ]
     },
     "execution_count": 77,
     "metadata": {},
     "output_type": "execute_result"
    }
   ],
   "source": [
    "bad = merge_gdfs(\n",
    "    [\n",
    "        byom[byom[\"type\"].isin([\"Erhverv\", \"Høj bebyggelse\"])],\n",
    "        tekn[-tekn[\"type\"].isin([\"Sportsanlæg\"])]\n",
    "    ]\n",
    ")\n",
    "bad.head(3)\n"
   ]
  },
  {
   "cell_type": "markdown",
   "metadata": {},
   "source": [
    "**POIs**"
   ]
  },
  {
   "cell_type": "code",
   "execution_count": 79,
   "metadata": {},
   "outputs": [
    {
     "name": "stdout",
     "output_type": "stream",
     "text": [
      "Counter({'Kirke': 29, 'Herregård': 18, 'Vold eller voldsted': 11, 'Gravhøj': 8, 'Naturområde': 7, 'Udsigtspunkt': 6, 'Museum': 5, 'Dysse': 4, 'Badestrand/-sted': 4, 'Forlystelsespark': 3, 'Anden seværdighed': 3, 'Fortidsminde/ruin': 3, 'Vejrmølle': 3, 'Aboret, blomsterpark o.l.': 1, 'Langdysse': 1, 'Fugletårn/Udsigtstårn': 1})\n"
     ]
    },
    {
     "data": {
      "text/html": [
       "<div>\n",
       "<style scoped>\n",
       "    .dataframe tbody tr th:only-of-type {\n",
       "        vertical-align: middle;\n",
       "    }\n",
       "\n",
       "    .dataframe tbody tr th {\n",
       "        vertical-align: top;\n",
       "    }\n",
       "\n",
       "    .dataframe thead th {\n",
       "        text-align: right;\n",
       "    }\n",
       "</style>\n",
       "<table border=\"1\" class=\"dataframe\">\n",
       "  <thead>\n",
       "    <tr style=\"text-align: right;\">\n",
       "      <th></th>\n",
       "      <th>geometry</th>\n",
       "      <th>type</th>\n",
       "    </tr>\n",
       "  </thead>\n",
       "  <tbody>\n",
       "    <tr>\n",
       "      <th>0</th>\n",
       "      <td>POINT (678747.300 6130234.410)</td>\n",
       "      <td>Museum</td>\n",
       "    </tr>\n",
       "    <tr>\n",
       "      <th>1</th>\n",
       "      <td>POINT (698473.362 6127698.601)</td>\n",
       "      <td>Museum</td>\n",
       "    </tr>\n",
       "    <tr>\n",
       "      <th>2</th>\n",
       "      <td>POINT (688007.560 6135779.670)</td>\n",
       "      <td>Museum</td>\n",
       "    </tr>\n",
       "  </tbody>\n",
       "</table>\n",
       "</div>"
      ],
      "text/plain": [
       "                         geometry    type\n",
       "0  POINT (678747.300 6130234.410)  Museum\n",
       "1  POINT (698473.362 6127698.601)  Museum\n",
       "2  POINT (688007.560 6135779.670)  Museum"
      ]
     },
     "execution_count": 79,
     "metadata": {},
     "output_type": "execute_result"
    }
   ],
   "source": [
    "# merge beso, fort, udfl, land; just keep track of what type they are (variation is interesting!)\n",
    "# in max 1km distance \n",
    "pois = merge_gdfs(\n",
    "    [\n",
    "        beso,\n",
    "        fort,\n",
    "        udfl,\n",
    "        land\n",
    "    ]\n",
    ")\n",
    "print(Counter(pois[\"type\"]))\n",
    "pois.head(3)"
   ]
  },
  {
   "cell_type": "markdown",
   "metadata": {},
   "source": []
  },
  {
   "cell_type": "markdown",
   "metadata": {},
   "source": [
    "**Facilities**"
   ]
  },
  {
   "cell_type": "code",
   "execution_count": 80,
   "metadata": {},
   "outputs": [
    {
     "data": {
      "text/html": [
       "<div>\n",
       "<style scoped>\n",
       "    .dataframe tbody tr th:only-of-type {\n",
       "        vertical-align: middle;\n",
       "    }\n",
       "\n",
       "    .dataframe tbody tr th {\n",
       "        vertical-align: top;\n",
       "    }\n",
       "\n",
       "    .dataframe thead th {\n",
       "        text-align: right;\n",
       "    }\n",
       "</style>\n",
       "<table border=\"1\" class=\"dataframe\">\n",
       "  <thead>\n",
       "    <tr style=\"text-align: right;\">\n",
       "      <th></th>\n",
       "      <th>geometry</th>\n",
       "      <th>type</th>\n",
       "    </tr>\n",
       "  </thead>\n",
       "  <tbody>\n",
       "    <tr>\n",
       "      <th>0</th>\n",
       "      <td>POINT (688082.831 6135146.387)</td>\n",
       "      <td>Toilet</td>\n",
       "    </tr>\n",
       "    <tr>\n",
       "      <th>1</th>\n",
       "      <td>POINT (687894.311 6135489.899)</td>\n",
       "      <td>Toilet</td>\n",
       "    </tr>\n",
       "    <tr>\n",
       "      <th>2</th>\n",
       "      <td>POINT (697075.000 6118030.000)</td>\n",
       "      <td>Toilet</td>\n",
       "    </tr>\n",
       "    <tr>\n",
       "      <th>3</th>\n",
       "      <td>POINT (687971.710 6135409.924)</td>\n",
       "      <td>Cykelpumpestation/-servicepost</td>\n",
       "    </tr>\n",
       "    <tr>\n",
       "      <th>4</th>\n",
       "      <td>POINT (688043.233 6135050.839)</td>\n",
       "      <td>Vandpost</td>\n",
       "    </tr>\n",
       "  </tbody>\n",
       "</table>\n",
       "</div>"
      ],
      "text/plain": [
       "                         geometry                            type\n",
       "0  POINT (688082.831 6135146.387)                          Toilet\n",
       "1  POINT (687894.311 6135489.899)                          Toilet\n",
       "2  POINT (697075.000 6118030.000)                          Toilet\n",
       "3  POINT (687971.710 6135409.924)  Cykelpumpestation/-servicepost\n",
       "4  POINT (688043.233 6135050.839)                        Vandpost"
      ]
     },
     "execution_count": 80,
     "metadata": {},
     "output_type": "execute_result"
    }
   ],
   "source": [
    "# in max 100 m\n",
    "# all info except for turistkontor ()\n",
    "# all rasteplads\n",
    "facilities = merge_gdfs(\n",
    "    [\n",
    "        info[-info[\"type\"].isin([\"turistkontor\"])],\n",
    "        infosup,\n",
    "        rast,\n",
    "        rastsup\n",
    "    ]\n",
    ")\n",
    "facilities.head()"
   ]
  },
  {
   "cell_type": "markdown",
   "metadata": {},
   "source": [
    "**Service**"
   ]
  },
  {
   "cell_type": "code",
   "execution_count": 81,
   "metadata": {},
   "outputs": [
    {
     "data": {
      "text/html": [
       "<div>\n",
       "<style scoped>\n",
       "    .dataframe tbody tr th:only-of-type {\n",
       "        vertical-align: middle;\n",
       "    }\n",
       "\n",
       "    .dataframe tbody tr th {\n",
       "        vertical-align: top;\n",
       "    }\n",
       "\n",
       "    .dataframe thead th {\n",
       "        text-align: right;\n",
       "    }\n",
       "</style>\n",
       "<table border=\"1\" class=\"dataframe\">\n",
       "  <thead>\n",
       "    <tr style=\"text-align: right;\">\n",
       "      <th></th>\n",
       "      <th>geometry</th>\n",
       "      <th>type</th>\n",
       "    </tr>\n",
       "  </thead>\n",
       "  <tbody>\n",
       "    <tr>\n",
       "      <th>0</th>\n",
       "      <td>POINT (688212.710 6140487.520)</td>\n",
       "      <td>supermarked</td>\n",
       "    </tr>\n",
       "    <tr>\n",
       "      <th>1</th>\n",
       "      <td>POINT (688212.710 6140487.520)</td>\n",
       "      <td>supermarked</td>\n",
       "    </tr>\n",
       "    <tr>\n",
       "      <th>2</th>\n",
       "      <td>POINT (681137.720 6127194.910)</td>\n",
       "      <td>bager</td>\n",
       "    </tr>\n",
       "  </tbody>\n",
       "</table>\n",
       "</div>"
      ],
      "text/plain": [
       "                         geometry         type\n",
       "0  POINT (688212.710 6140487.520)  supermarked\n",
       "1  POINT (688212.710 6140487.520)  supermarked\n",
       "2  POINT (681137.720 6127194.910)        bager"
      ]
     },
     "execution_count": 81,
     "metadata": {},
     "output_type": "execute_result"
    }
   ],
   "source": [
    "# in max 500 m\n",
    "# all indk; over;\n",
    "# turistkontor (from info)\n",
    "service = merge_gdfs(\n",
    "    [\n",
    "        indk,\n",
    "        over,\n",
    "        info[info[\"type\"].isin([\"turistkontor\"])]\n",
    "    ]\n",
    ")\n",
    "service.head(3)"
   ]
  },
  {
   "cell_type": "markdown",
   "metadata": {},
   "source": [
    "***\n",
    "\n",
    "## Step 3: Save into files"
   ]
  },
  {
   "cell_type": "code",
   "execution_count": 83,
   "metadata": {},
   "outputs": [],
   "source": [
    "os.makedirs(\"../data/processed/eval/\", exist_ok=True)"
   ]
  },
  {
   "cell_type": "code",
   "execution_count": 85,
   "metadata": {},
   "outputs": [],
   "source": [
    "agriculture.to_file(\"../data/processed/eval/agriculture.gpkg\", index=False)\n",
    "bad.to_file(\"../data/processed/eval/bad.gpkg\", index=False)\n",
    "culture.to_file(\"../data/processed/eval/culture.gpkg\", index=False)\n",
    "facilities.to_file(\"../data/processed/eval/facilities.gpkg\", index=False)\n",
    "nature.to_file(\"../data/processed/eval/nature.gpkg\", index=False)\n",
    "pois.to_file(\"../data/processed/eval/pois.gpkg\", index=False)\n",
    "service.to_file(\"../data/processed/eval/service.gpkg\", index=False)\n",
    "sommerhus.to_file(\"../data/processed/eval/sommerhus.gpkg\", index=False)"
   ]
  }
 ],
 "metadata": {
  "kernelspec": {
   "display_name": "knupu",
   "language": "python",
   "name": "python3"
  },
  "language_info": {
   "codemirror_mode": {
    "name": "ipython",
    "version": 3
   },
   "file_extension": ".py",
   "mimetype": "text/x-python",
   "name": "python",
   "nbconvert_exporter": "python",
   "pygments_lexer": "ipython3",
   "version": "3.11.5"
  },
  "orig_nbformat": 4
 },
 "nbformat": 4,
 "nbformat_minor": 2
}
