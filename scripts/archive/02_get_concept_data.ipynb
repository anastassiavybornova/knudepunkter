{
 "cells": [
  {
   "attachments": {},
   "cell_type": "markdown",
   "metadata": {},
   "source": [
    "# Script to fetch concept data\n",
    "\n",
    "* Current data source: `../data/raw/folkersma_concept`\n",
    "* Future data source: **GeoFA** (rewrite code into .py script for QGIS)\n",
    "* The study area defined by the user (currently in the `01_define_area` notebook) is used to extract data of the study area from the sum of all concept networks"
   ]
  },
  {
   "cell_type": "code",
   "execution_count": 6,
   "metadata": {},
   "outputs": [],
   "source": [
    "import os\n",
    "os.environ['USE_PYGEOS'] = '0' # pygeos/shapely2.0/osmnx conflict solving\n",
    "import geopandas as gpd\n",
    "import matplotlib.pyplot as plt\n",
    "import contextily as cx"
   ]
  },
  {
   "attachments": {},
   "cell_type": "markdown",
   "metadata": {},
   "source": [
    "**Read in and preprocess raw Folkersma data of concept networks**"
   ]
  },
  {
   "cell_type": "code",
   "execution_count": 7,
   "metadata": {},
   "outputs": [],
   "source": [
    "# read in files\n",
    "nodes = gpd.read_file(\"../data/raw/folkersma_concept/node.shp\") \n",
    "edges = gpd.read_file(\"../data/raw/folkersma_concept/stretch.shp\")\n",
    "\n",
    "# add crs to edges\n",
    "edges.crs = nodes.crs\n",
    "\n",
    "# convert both to projected crs\n",
    "nodes = nodes.to_crs(\"EPSG:25832\")\n",
    "edges = edges.to_crs(\"EPSG:25832\")\n",
    "\n",
    "# remove empty geometries\n",
    "edges = edges[~edges.geometry.isna()].reset_index(drop=True)\n",
    "\n",
    "# assert there is one (and only one) LineString per geometry row\n",
    "edges = edges.explode(index_parts = False).reset_index(drop=True)\n",
    "assert all(edges.geometry.type==\"LineString\")\n",
    "assert all(edges.geometry.is_valid)\n",
    "\n",
    "# rectify attributes (ratings)\n",
    "edges[\"myattribute\"]= edges[\"rating\"].fillna(0)\n",
    "edges[\"myattribute\"] = edges.apply(lambda x: int(x.myattribute), axis = 1)\n",
    "\n",
    "# classify manually\n",
    "edges.loc[edges[\"myattribute\"]==0, \"myattribute\"] = 1"
   ]
  },
  {
   "attachments": {},
   "cell_type": "markdown",
   "metadata": {},
   "source": [
    "**Cut to study area extent**"
   ]
  },
  {
   "cell_type": "code",
   "execution_count": 8,
   "metadata": {},
   "outputs": [],
   "source": [
    "# Read in study area\n",
    "study_area = gpd.read_file(\"../data/raw/user_input/study_area.gpkg\")\n",
    "study_area_polygon = study_area.loc[0,\"geometry\"]"
   ]
  },
  {
   "cell_type": "code",
   "execution_count": 17,
   "metadata": {},
   "outputs": [],
   "source": [
    "# Find all edges that intersect the study area polygon\n",
    "edges_in_study_area = edges[\n",
    "    edges.intersects(study_area_polygon)].copy().reset_index(drop=True)"
   ]
  },
  {
   "attachments": {},
   "cell_type": "markdown",
   "metadata": {},
   "source": [
    "**Save as separate file as input for qgis processing**"
   ]
  },
  {
   "cell_type": "code",
   "execution_count": 18,
   "metadata": {},
   "outputs": [],
   "source": [
    "edges_in_study_area.to_file(\n",
    "    \"../data/processed/user_output/qgis_input_concept.gpkg\", index=False)"
   ]
  }
 ],
 "metadata": {
  "kernelspec": {
   "display_name": "OSMNX",
   "language": "python",
   "name": "python3"
  },
  "language_info": {
   "codemirror_mode": {
    "name": "ipython",
    "version": 3
   },
   "file_extension": ".py",
   "mimetype": "text/x-python",
   "name": "python",
   "nbconvert_exporter": "python",
   "pygments_lexer": "ipython3",
   "version": "3.9.16"
  },
  "orig_nbformat": 4,
  "vscode": {
   "interpreter": {
    "hash": "35f35e1f0bb92e7ac05765c87ada263d1a2173e12d4a4460e46e5d1567b982a5"
   }
  }
 },
 "nbformat": 4,
 "nbformat_minor": 2
}
