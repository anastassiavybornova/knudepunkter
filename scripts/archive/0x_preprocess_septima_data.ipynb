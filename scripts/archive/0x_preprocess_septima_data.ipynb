{
 "cells": [
  {
   "attachments": {},
   "cell_type": "markdown",
   "metadata": {},
   "source": [
    "### rewrite\n",
    "\n",
    "to import and CUT septima data, then save it separately by reached / not reached and import it back to plot\n",
    "\n",
    "* current: data is downloaded from septima website, saved locally and then read in through geopandas\n",
    "* future: data is imported and bbox-filtered directly as a WFS layer through pyqgis (see commented-out code)"
   ]
  },
  {
   "cell_type": "code",
   "execution_count": 2,
   "metadata": {},
   "outputs": [],
   "source": [
    "# import libraries\n",
    "import os\n",
    "os.environ[\"USE_PYGEOS\"] = '0'\n",
    "import geopandas as gpd"
   ]
  },
  {
   "cell_type": "code",
   "execution_count": 23,
   "metadata": {},
   "outputs": [],
   "source": [
    "# get septima data\n",
    "gdf = gpd.read_file(\"../data/raw/septima/land_landemaerke/land_landemaerke.shp\")\n",
    "\n",
    "# get buffered bounding box of study area polygon\n",
    "study_area = gpd.read_file(\"../data/raw/user_input/study_area.gpkg\")\n",
    "study_area_bbox = study_area.envelope.buffer(500)\n",
    "\n",
    "# cut data to study area polygon\n",
    "gdf = gdf[gdf.intersects(study_area_bbox[0])].copy().reset_index(drop=True)\n",
    "\n",
    "# save for further use\n",
    "gdf.to_file(\"../data/processed/septima/land_landemaerke/land_landemaerke.gpkg\", index = False)\n",
    "\n",
    "# import matplotlib.pyplot as plt\n",
    "# fig, ax = plt.subplots(1,1)\n",
    "# gdf.plot(ax=ax)\n",
    "# study_area_bbox.plot(ax=ax, alpha = 0.1)"
   ]
  },
  {
   "cell_type": "code",
   "execution_count": null,
   "metadata": {},
   "outputs": [],
   "source": []
  },
  {
   "cell_type": "code",
   "execution_count": null,
   "metadata": {},
   "outputs": [],
   "source": [
    "##### \"THE QGIS WAY\" (TO DO: how to set the bounding box?!)\n",
    "\n",
    "# from qgis.core import *\n",
    "# from PyQt5.QtCore import QVariant\n",
    "\n",
    "# # LOCAL QGIS APP FILEPATH\n",
    "# # (output of running `QgsApplication.prefixPath()` in the Python Console of QGIS)\n",
    "# myprefix = '/Applications/QGIS-LTR.app/Contents/MacOS'\n",
    "\n",
    "# # Supply path to qgis install location\n",
    "# QgsApplication.setPrefixPath(\n",
    "#     myprefix, \n",
    "#     False # use default paths\n",
    "#     )\n",
    "\n",
    "# # Create a reference to the QgsApplication. \n",
    "# qgs = QgsApplication(\n",
    "#     [], \n",
    "#     False # do *not* use GUI\n",
    "#     )\n",
    "\n",
    "# # Load providers\n",
    "# qgs.initQgis()\n",
    "\n",
    "# mysource = \"pagingEnabled='true' preferCoordinatesForWfsT11='false' restrictToRequestBBOX='1' srsname='EPSG:25832' typename='landemaerker' url='https://rida-services.test.septima.dk/ows?map=land_attraktioner' version='auto'\"\n",
    "# # bbox='674167.33536206,710371.08425349,6117158.24514454,6141239.37945889'\n",
    "# tempWFS = QgsVectorLayer(mysource, \"Landemaerker\", \"WFS\")\n",
    "# if not tempWFS.isValid():\n",
    "#     print(\"Layer failed to load!\")\n",
    "# else:\n",
    "#     QgsProject.instance().addMapLayer(tempWFS)\n",
    "\n"
   ]
  }
 ],
 "metadata": {
  "kernelspec": {
   "display_name": "knupu",
   "language": "python",
   "name": "python3"
  },
  "language_info": {
   "codemirror_mode": {
    "name": "ipython",
    "version": 3
   },
   "file_extension": ".py",
   "mimetype": "text/x-python",
   "name": "python",
   "nbconvert_exporter": "python",
   "pygments_lexer": "ipython3",
   "version": "3.9.16"
  },
  "orig_nbformat": 4
 },
 "nbformat": 4,
 "nbformat_minor": 2
}
