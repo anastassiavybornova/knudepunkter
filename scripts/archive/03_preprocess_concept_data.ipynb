{
 "cells": [
  {
   "attachments": {},
   "cell_type": "markdown",
   "metadata": {},
   "source": [
    "# Script to preprocess concept data (convert into network)"
   ]
  },
  {
   "cell_type": "code",
   "execution_count": 1,
   "metadata": {},
   "outputs": [],
   "source": [
    "from qgis.core import *\n",
    "from PyQt5.QtCore import QVariant"
   ]
  },
  {
   "attachments": {},
   "cell_type": "markdown",
   "metadata": {},
   "source": [
    "**Define settings**"
   ]
  },
  {
   "cell_type": "code",
   "execution_count": 2,
   "metadata": {},
   "outputs": [],
   "source": [
    "# INPUT/OUTPUT FILE PATHS\n",
    "myinputfile = \"../data/processed/user_output/qgis_input.gpkg\"\n",
    "myoutputfile = \"../data/processed/user_output/qgis_output.gpkg\"\n",
    "\n",
    "# SETTINGS FOR SNAPPING\n",
    "mytolerance = 5\n",
    "mybehaviour = 6\n",
    "\n",
    "# LOCAL QGIS APP FILEPATH\n",
    "# (output of running `QgsApplication.prefixPath()` in the Python Console of QGIS)\n",
    "myprefix = '/Applications/QGIS-LTR.app/Contents/MacOS'"
   ]
  },
  {
   "attachments": {},
   "cell_type": "markdown",
   "metadata": {},
   "source": [
    "**Run pyqgis processing steps**"
   ]
  },
  {
   "cell_type": "code",
   "execution_count": 3,
   "metadata": {},
   "outputs": [
    {
     "name": "stderr",
     "output_type": "stream",
     "text": [
      "qt.qpa.fonts: Populating font family aliases took 138 ms. Replace uses of missing font family \"Open Sans\" with one that exists to avoid this cost. \n"
     ]
    },
    {
     "name": "stdout",
     "output_type": "stream",
     "text": [
      "done: split with lines\n",
      "done: snapped with tolerance 5, behaviour 6\n",
      "done: validity check\n",
      "layer supports deletion\n",
      "done: delete linestrings with length 0\n",
      "done: save to ../data/processed/user_output/qgis_output.gpkg\n"
     ]
    }
   ],
   "source": [
    "# Supply path to qgis install location\n",
    "QgsApplication.setPrefixPath(\n",
    "    myprefix, \n",
    "    False # use default paths\n",
    "    )\n",
    "\n",
    "# Create a reference to the QgsApplication. \n",
    "qgs = QgsApplication(\n",
    "    [], \n",
    "    False # do *not* use GUI\n",
    "    )\n",
    "\n",
    "# Load providers\n",
    "qgs.initQgis()\n",
    "\n",
    "# import and initialize processing\n",
    "import processing\n",
    "from processing.core.Processing import Processing\n",
    "Processing.initialize()\n",
    "\n",
    "# Run processing algorithm \"split with lines\"\n",
    "temp_out_split = processing.run(\n",
    "   \"native:splitwithlines\",\n",
    "       {\n",
    "           'INPUT':myinputfile,\n",
    "           'LINES':myinputfile,\n",
    "           'OUTPUT':'TEMPORARY_OUTPUT'\n",
    "       }\n",
    "   )\n",
    "print(\"done: split with lines\")\n",
    "\n",
    "# snap\n",
    "temp_out_snap = processing.run(\n",
    "    \"native:snapgeometries\",\n",
    "        {\n",
    "            'INPUT':temp_out_split[\"OUTPUT\"],\n",
    "            'REFERENCE_LAYER':temp_out_split[\"OUTPUT\"],\n",
    "            'TOLERANCE':mytolerance,\n",
    "            'BEHAVIOR':mybehaviour,\n",
    "            'OUTPUT':'TEMPORARY_OUTPUT'\n",
    "         }\n",
    "    )\n",
    "print(f\"done: snapped with tolerance {mytolerance}, behaviour {mybehaviour}\")\n",
    "\n",
    "# Check validity\n",
    "temp_out_validity = processing.run(\n",
    "    \"qgis:checkvalidity\",\n",
    "        {\n",
    "            'INPUT_LAYER': temp_out_snap[\"OUTPUT\"],\n",
    "            'METHOD': 2,\n",
    "            'IGNORE_RING_SELF_INTERSECTION': False,\n",
    "            'VALID_OUTPUT': 'TEMPORARY_OUTPUT',\n",
    "            'INVALID_OUTPUT':None,\n",
    "            'ERROR_OUTPUT':None\n",
    "        }\n",
    "    )\n",
    "print(\"done: validity check\")\n",
    "\n",
    "# Delete linestrings of just 1 point\n",
    "vlayer = temp_out_validity[\"VALID_OUTPUT\"]\n",
    "layer_provider=vlayer.dataProvider()\n",
    "\n",
    "# add a \"mylength\" colum to the attribute table\n",
    "layer_provider.addAttributes([QgsField(\"mylength\",QVariant.Double)])\n",
    "vlayer.updateFields()\n",
    "\n",
    "# fill \"mylength\" column with length values\n",
    "vlayer.startEditing()\n",
    "for f in vlayer.getFeatures():\n",
    "    id=f.id()\n",
    "    length=f.geometry().length()\n",
    "    attr_value={2:length}\n",
    "    layer_provider.changeAttributeValues({id:attr_value})\n",
    "vlayer.commitChanges()\n",
    "\n",
    "# find strings with length 0\n",
    "expression = 'mylength = 0'\n",
    "request = QgsFeatureRequest().setFilterExpression(expression)\n",
    "matches = []\n",
    "for f in vlayer.getFeatures(request):\n",
    "   matches.append(f[\"fid\"])\n",
    "\n",
    "# erase length 0 strings\n",
    "if vlayer.dataProvider().capabilities() & QgsVectorDataProvider.DeleteFeatures:\n",
    "    print(\"layer supports deletion\")\n",
    "    res = vlayer.dataProvider().deleteFeatures(matches)\n",
    "\n",
    "# delete \"mylength\" field\n",
    "vlayer.dataProvider().deleteAttributes([0, 2])\n",
    "\n",
    "print(\"done: delete linestrings with length 0\")\n",
    "\n",
    "# export\n",
    "_ = processing.run(\n",
    "    \"native:package\",\n",
    "        {\n",
    "            'LAYERS': vlayer,\n",
    "            'OUTPUT': myoutputfile,\n",
    "            'OVERWRITE':True,\n",
    "            'SAVE_STYLES':False,\n",
    "            'SAVE_METADATA':True,\n",
    "            'SELECTED_FEATURES_ONLY':False,\n",
    "            'EXPORT_RELATED_LAYERS':False\n",
    "        }\n",
    "    )\n",
    "\n",
    "print(f\"done: save to {myoutputfile}\")"
   ]
  },
  {
   "attachments": {},
   "cell_type": "markdown",
   "metadata": {},
   "source": [
    "**Exit qgis application**"
   ]
  },
  {
   "cell_type": "code",
   "execution_count": 4,
   "metadata": {},
   "outputs": [],
   "source": [
    "qgs.exitQgis()"
   ]
  }
 ],
 "metadata": {
  "kernelspec": {
   "display_name": "OSMNX",
   "language": "python",
   "name": "python3"
  },
  "language_info": {
   "codemirror_mode": {
    "name": "ipython",
    "version": 3
   },
   "file_extension": ".py",
   "mimetype": "text/x-python",
   "name": "python",
   "nbconvert_exporter": "python",
   "pygments_lexer": "ipython3",
   "version": "3.9.16"
  },
  "orig_nbformat": 4,
  "vscode": {
   "interpreter": {
    "hash": "35f35e1f0bb92e7ac05765c87ada263d1a2173e12d4a4460e46e5d1567b982a5"
   }
  }
 },
 "nbformat": 4,
 "nbformat_minor": 2
}
