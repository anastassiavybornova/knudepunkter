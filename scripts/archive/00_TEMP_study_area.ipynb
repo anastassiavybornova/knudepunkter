{
 "cells": [
  {
   "cell_type": "code",
   "execution_count": 1,
   "metadata": {},
   "outputs": [],
   "source": [
    "import os\n",
    "import yaml\n",
    "import geopandas as gpd"
   ]
  },
  {
   "cell_type": "code",
   "execution_count": 30,
   "metadata": {},
   "outputs": [],
   "source": [
    "configs = yaml.load(open(\"../config.yml\"), Loader=yaml.FullLoader)"
   ]
  },
  {
   "cell_type": "code",
   "execution_count": 31,
   "metadata": {},
   "outputs": [],
   "source": [
    "muni = gpd.read_file(\"../data/raw/municipalities/muni_boundary.gpkg\")"
   ]
  },
  {
   "cell_type": "code",
   "execution_count": 36,
   "metadata": {},
   "outputs": [
    {
     "ename": "AssertionError",
     "evalue": "\n Could not find the municipality code 12345.\n Please correct the municipality code in the config.yml file and run this script again!",
     "output_type": "error",
     "traceback": [
      "\u001b[0;31m---------------------------------------------------------------------------\u001b[0m",
      "\u001b[0;31mAssertionError\u001b[0m                            Traceback (most recent call last)",
      "\u001b[1;32m/Users/anvy/Library/CloudStorage/OneDrive-ITU/projects/knudepunkter/scripts/00_TEMP_study_area.ipynb Cell 4\u001b[0m line \u001b[0;36m2\n\u001b[1;32m      <a href='vscode-notebook-cell:/Users/anvy/Library/CloudStorage/OneDrive-ITU/projects/knudepunkter/scripts/00_TEMP_study_area.ipynb#X12sZmlsZQ%3D%3D?line=0'>1</a>\u001b[0m \u001b[39mfor\u001b[39;00m m \u001b[39min\u001b[39;00m configs[\u001b[39m\"\u001b[39m\u001b[39mmunicipalities\u001b[39m\u001b[39m\"\u001b[39m]:\n\u001b[0;32m----> <a href='vscode-notebook-cell:/Users/anvy/Library/CloudStorage/OneDrive-ITU/projects/knudepunkter/scripts/00_TEMP_study_area.ipynb#X12sZmlsZQ%3D%3D?line=1'>2</a>\u001b[0m     \u001b[39massert\u001b[39;00m m \u001b[39min\u001b[39;00m \u001b[39mlist\u001b[39m(muni[\u001b[39m\"\u001b[39m\u001b[39mkommunekode\u001b[39m\u001b[39m\"\u001b[39m]), \u001b[39mf\u001b[39m\u001b[39m\"\u001b[39m\u001b[39m\\n\u001b[39;00m\u001b[39m Could not find the municipality code \u001b[39m\u001b[39m{\u001b[39;00mm\u001b[39m}\u001b[39;00m\u001b[39m.\u001b[39m\u001b[39m\\n\u001b[39;00m\u001b[39m Please correct the municipality code in the config.yml file and run this script again!\u001b[39m\u001b[39m\"\u001b[39m\n",
      "\u001b[0;31mAssertionError\u001b[0m: \n Could not find the municipality code 12345.\n Please correct the municipality code in the config.yml file and run this script again!"
     ]
    }
   ],
   "source": [
    "for m in configs[\"municipalities\"]:\n",
    "    assert m in list(muni[\"kommunekode\"]), f\"\\n Could not find the municipality code {m}.\\n Please correct the municipality code in the config.yml file and run this script again!\""
   ]
  },
  {
   "cell_type": "code",
   "execution_count": 9,
   "metadata": {},
   "outputs": [],
   "source": [
    "muni = muni[muni.kommunekode.isin(configs[\"municipalities\"])].copy()\n",
    "muni.to_file(\"../data/raw/user_input/study_area.gpkg\", index = False)"
   ]
  },
  {
   "cell_type": "code",
   "execution_count": null,
   "metadata": {},
   "outputs": [],
   "source": []
  }
 ],
 "metadata": {
  "kernelspec": {
   "display_name": "knupu",
   "language": "python",
   "name": "python3"
  },
  "language_info": {
   "codemirror_mode": {
    "name": "ipython",
    "version": 3
   },
   "file_extension": ".py",
   "mimetype": "text/x-python",
   "name": "python",
   "nbconvert_exporter": "python",
   "pygments_lexer": "ipython3",
   "version": "3.11.5"
  }
 },
 "nbformat": 4,
 "nbformat_minor": 2
}
