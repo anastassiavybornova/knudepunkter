{
 "cells": [
  {
   "cell_type": "code",
   "execution_count": 7,
   "metadata": {},
   "outputs": [
    {
     "name": "stderr",
     "output_type": "stream",
     "text": [
      "/opt/miniconda3/envs/knupu/lib/python3.9/site-packages/tqdm/auto.py:21: TqdmWarning: IProgress not found. Please update jupyter and ipywidgets. See https://ipywidgets.readthedocs.io/en/stable/user_install.html\n",
      "  from .autonotebook import tqdm as notebook_tqdm\n"
     ]
    }
   ],
   "source": [
    "import momepy"
   ]
  },
  {
   "cell_type": "code",
   "execution_count": 1,
   "metadata": {},
   "outputs": [],
   "source": [
    "import geopandas as gpd\n",
    "from collections import Counter"
   ]
  },
  {
   "cell_type": "code",
   "execution_count": 2,
   "metadata": {},
   "outputs": [],
   "source": [
    "nodepath = \"../data/raw/folkersma_digital/2023-08-01 Cycling network Denmark shapefiles/node.shp\"\n",
    "edgepath = \"../data/raw/folkersma_digital/2023-08-01 Cycling network Denmark shapefiles/stretch.shp\""
   ]
  },
  {
   "cell_type": "code",
   "execution_count": 14,
   "metadata": {},
   "outputs": [],
   "source": [
    "nodes = gpd.read_file(nodepath)\n",
    "edges = gpd.read_file(edgepath)"
   ]
  },
  {
   "cell_type": "code",
   "execution_count": 15,
   "metadata": {},
   "outputs": [
    {
     "data": {
      "text/html": [
       "<div>\n",
       "<style scoped>\n",
       "    .dataframe tbody tr th:only-of-type {\n",
       "        vertical-align: middle;\n",
       "    }\n",
       "\n",
       "    .dataframe tbody tr th {\n",
       "        vertical-align: top;\n",
       "    }\n",
       "\n",
       "    .dataframe thead th {\n",
       "        text-align: right;\n",
       "    }\n",
       "</style>\n",
       "<table border=\"1\" class=\"dataframe\">\n",
       "  <thead>\n",
       "    <tr style=\"text-align: right;\">\n",
       "      <th></th>\n",
       "      <th>id</th>\n",
       "      <th>nodenumber</th>\n",
       "      <th>comment</th>\n",
       "      <th>region</th>\n",
       "      <th>status</th>\n",
       "      <th>uuid</th>\n",
       "      <th>ismain</th>\n",
       "      <th>refmain</th>\n",
       "      <th>deadend</th>\n",
       "      <th>geometry</th>\n",
       "    </tr>\n",
       "  </thead>\n",
       "  <tbody>\n",
       "    <tr>\n",
       "      <th>0</th>\n",
       "      <td>1009</td>\n",
       "      <td>10.0</td>\n",
       "      <td>NaN</td>\n",
       "      <td>RingkÃ¸bing-Skjern</td>\n",
       "      <td>Concept</td>\n",
       "      <td>vk1009</td>\n",
       "      <td>1</td>\n",
       "      <td>NaN</td>\n",
       "      <td>0</td>\n",
       "      <td>POINT (8.17250 56.17202)</td>\n",
       "    </tr>\n",
       "    <tr>\n",
       "      <th>1</th>\n",
       "      <td>5078</td>\n",
       "      <td>90.0</td>\n",
       "      <td>NaN</td>\n",
       "      <td>Vordingborg</td>\n",
       "      <td>Concept</td>\n",
       "      <td>vk5078</td>\n",
       "      <td>0</td>\n",
       "      <td>5076.0</td>\n",
       "      <td>0</td>\n",
       "      <td>POINT (11.87677 55.03425)</td>\n",
       "    </tr>\n",
       "    <tr>\n",
       "      <th>2</th>\n",
       "      <td>5119</td>\n",
       "      <td>14.0</td>\n",
       "      <td>NaN</td>\n",
       "      <td>Varde</td>\n",
       "      <td>Concept</td>\n",
       "      <td>vk5119</td>\n",
       "      <td>0</td>\n",
       "      <td>5008.0</td>\n",
       "      <td>0</td>\n",
       "      <td>POINT (8.61188 55.72085)</td>\n",
       "    </tr>\n",
       "    <tr>\n",
       "      <th>3</th>\n",
       "      <td>5125</td>\n",
       "      <td>61.0</td>\n",
       "      <td>NaN</td>\n",
       "      <td>Aabenraa</td>\n",
       "      <td>Concept</td>\n",
       "      <td>vk5125</td>\n",
       "      <td>0</td>\n",
       "      <td>5150.0</td>\n",
       "      <td>0</td>\n",
       "      <td>POINT (9.43320 55.11575)</td>\n",
       "    </tr>\n",
       "    <tr>\n",
       "      <th>4</th>\n",
       "      <td>5129</td>\n",
       "      <td>59.0</td>\n",
       "      <td>NaN</td>\n",
       "      <td>SÃ¸nderborg</td>\n",
       "      <td>Concept</td>\n",
       "      <td>vk5129</td>\n",
       "      <td>0</td>\n",
       "      <td>1401.0</td>\n",
       "      <td>0</td>\n",
       "      <td>POINT (9.87048 54.98480)</td>\n",
       "    </tr>\n",
       "  </tbody>\n",
       "</table>\n",
       "</div>"
      ],
      "text/plain": [
       "     id  nodenumber  comment              region   status    uuid  ismain  \\\n",
       "0  1009        10.0      NaN  RingkÃ¸bing-Skjern  Concept  vk1009       1   \n",
       "1  5078        90.0      NaN         Vordingborg  Concept  vk5078       0   \n",
       "2  5119        14.0      NaN               Varde  Concept  vk5119       0   \n",
       "3  5125        61.0      NaN            Aabenraa  Concept  vk5125       0   \n",
       "4  5129        59.0      NaN         SÃ¸nderborg  Concept  vk5129       0   \n",
       "\n",
       "   refmain  deadend                   geometry  \n",
       "0      NaN        0   POINT (8.17250 56.17202)  \n",
       "1   5076.0        0  POINT (11.87677 55.03425)  \n",
       "2   5008.0        0   POINT (8.61188 55.72085)  \n",
       "3   5150.0        0   POINT (9.43320 55.11575)  \n",
       "4   1401.0        0   POINT (9.87048 54.98480)  "
      ]
     },
     "execution_count": 15,
     "metadata": {},
     "output_type": "execute_result"
    }
   ],
   "source": [
    "nodes.head()"
   ]
  },
  {
   "cell_type": "code",
   "execution_count": 16,
   "metadata": {},
   "outputs": [],
   "source": [
    "assert all([n[0:2]==\"vk\" for n in nodes.uuid])\n",
    "assert all(nodes.id == nodes.uuid.apply(lambda x: int(x[2:])))\n",
    "# id is unique; uuid is just \"vk\" + id;"
   ]
  },
  {
   "cell_type": "code",
   "execution_count": 17,
   "metadata": {},
   "outputs": [
    {
     "data": {
      "text/plain": [
       "Counter({1: 1362, 0: 700})"
      ]
     },
     "execution_count": 17,
     "metadata": {},
     "output_type": "execute_result"
    }
   ],
   "source": [
    "Counter(nodes.ismain) # 1362 parent and 700 child nodes"
   ]
  },
  {
   "cell_type": "code",
   "execution_count": 18,
   "metadata": {},
   "outputs": [],
   "source": [
    "assert all(nodes[nodes.ismain  == 1][\"refmain\"].isna()) # all main nodes have no \"main ref\""
   ]
  },
  {
   "cell_type": "code",
   "execution_count": 19,
   "metadata": {},
   "outputs": [
    {
     "data": {
      "text/plain": [
       "332"
      ]
     },
     "execution_count": 19,
     "metadata": {},
     "output_type": "execute_result"
    }
   ],
   "source": [
    "# a half of non-main nodes have no main ref\n",
    "sum(nodes[nodes.ismain == 0][\"refmain\"].isna())"
   ]
  },
  {
   "cell_type": "code",
   "execution_count": 20,
   "metadata": {},
   "outputs": [
    {
     "data": {
      "text/html": [
       "<div>\n",
       "<style scoped>\n",
       "    .dataframe tbody tr th:only-of-type {\n",
       "        vertical-align: middle;\n",
       "    }\n",
       "\n",
       "    .dataframe tbody tr th {\n",
       "        vertical-align: top;\n",
       "    }\n",
       "\n",
       "    .dataframe thead th {\n",
       "        text-align: right;\n",
       "    }\n",
       "</style>\n",
       "<table border=\"1\" class=\"dataframe\">\n",
       "  <thead>\n",
       "    <tr style=\"text-align: right;\">\n",
       "      <th></th>\n",
       "      <th>id</th>\n",
       "      <th>rating</th>\n",
       "      <th>comment</th>\n",
       "      <th>length</th>\n",
       "      <th>privatenot</th>\n",
       "      <th>surfacenot</th>\n",
       "      <th>oneway</th>\n",
       "      <th>region</th>\n",
       "      <th>uuid</th>\n",
       "      <th>status</th>\n",
       "      <th>geometry</th>\n",
       "    </tr>\n",
       "  </thead>\n",
       "  <tbody>\n",
       "    <tr>\n",
       "      <th>0</th>\n",
       "      <td>1387</td>\n",
       "      <td>1</td>\n",
       "      <td>NaN</td>\n",
       "      <td>0.495024</td>\n",
       "      <td>0</td>\n",
       "      <td>0</td>\n",
       "      <td>1</td>\n",
       "      <td>Varde</td>\n",
       "      <td>l1387</td>\n",
       "      <td>Concept</td>\n",
       "      <td>LINESTRING (8.45851 55.63194, 8.45847 55.63192...</td>\n",
       "    </tr>\n",
       "    <tr>\n",
       "      <th>1</th>\n",
       "      <td>1989</td>\n",
       "      <td>1</td>\n",
       "      <td>NaN</td>\n",
       "      <td>0.078030</td>\n",
       "      <td>0</td>\n",
       "      <td>0</td>\n",
       "      <td>1</td>\n",
       "      <td>SÃ¸nderborg</td>\n",
       "      <td>l1989</td>\n",
       "      <td>Concept</td>\n",
       "      <td>LINESTRING (9.99485 54.87964, 9.99485 54.87965...</td>\n",
       "    </tr>\n",
       "    <tr>\n",
       "      <th>2</th>\n",
       "      <td>7224</td>\n",
       "      <td>1</td>\n",
       "      <td>NaN</td>\n",
       "      <td>5.034481</td>\n",
       "      <td>0</td>\n",
       "      <td>0</td>\n",
       "      <td>1</td>\n",
       "      <td>Aabenraa</td>\n",
       "      <td>l7224</td>\n",
       "      <td>Concept</td>\n",
       "      <td>LINESTRING (9.29901 55.07036, 9.29900 55.07038...</td>\n",
       "    </tr>\n",
       "    <tr>\n",
       "      <th>3</th>\n",
       "      <td>5984</td>\n",
       "      <td>1</td>\n",
       "      <td>NaN</td>\n",
       "      <td>0.545476</td>\n",
       "      <td>0</td>\n",
       "      <td>0</td>\n",
       "      <td>0</td>\n",
       "      <td>SÃ¸nderborg</td>\n",
       "      <td>l5984</td>\n",
       "      <td>Concept</td>\n",
       "      <td>LINESTRING (9.78557 55.05005, 9.78574 55.04976...</td>\n",
       "    </tr>\n",
       "    <tr>\n",
       "      <th>4</th>\n",
       "      <td>6057</td>\n",
       "      <td>1</td>\n",
       "      <td>NaN</td>\n",
       "      <td>3.023506</td>\n",
       "      <td>0</td>\n",
       "      <td>1</td>\n",
       "      <td>0</td>\n",
       "      <td>SÃ¸nderborg</td>\n",
       "      <td>l6057</td>\n",
       "      <td>Concept</td>\n",
       "      <td>LINESTRING (9.66361 54.86392, 9.66363 54.86392...</td>\n",
       "    </tr>\n",
       "  </tbody>\n",
       "</table>\n",
       "</div>"
      ],
      "text/plain": [
       "     id  rating comment    length  privatenot  surfacenot  oneway  \\\n",
       "0  1387       1     NaN  0.495024           0           0       1   \n",
       "1  1989       1     NaN  0.078030           0           0       1   \n",
       "2  7224       1     NaN  5.034481           0           0       1   \n",
       "3  5984       1     NaN  0.545476           0           0       0   \n",
       "4  6057       1     NaN  3.023506           0           1       0   \n",
       "\n",
       "        region   uuid   status  \\\n",
       "0        Varde  l1387  Concept   \n",
       "1  SÃ¸nderborg  l1989  Concept   \n",
       "2     Aabenraa  l7224  Concept   \n",
       "3  SÃ¸nderborg  l5984  Concept   \n",
       "4  SÃ¸nderborg  l6057  Concept   \n",
       "\n",
       "                                            geometry  \n",
       "0  LINESTRING (8.45851 55.63194, 8.45847 55.63192...  \n",
       "1  LINESTRING (9.99485 54.87964, 9.99485 54.87965...  \n",
       "2  LINESTRING (9.29901 55.07036, 9.29900 55.07038...  \n",
       "3  LINESTRING (9.78557 55.05005, 9.78574 55.04976...  \n",
       "4  LINESTRING (9.66361 54.86392, 9.66363 54.86392...  "
      ]
     },
     "execution_count": 20,
     "metadata": {},
     "output_type": "execute_result"
    }
   ],
   "source": [
    "edges.head()"
   ]
  },
  {
   "cell_type": "code",
   "execution_count": 9,
   "metadata": {},
   "outputs": [],
   "source": [
    "edges.to_crs(\"EPSG:25832\",inplace=True)"
   ]
  },
  {
   "cell_type": "code",
   "execution_count": 10,
   "metadata": {},
   "outputs": [],
   "source": [
    "G_primal = momepy.gdf_to_nx(edges, approach=\"primal\")"
   ]
  },
  {
   "cell_type": "code",
   "execution_count": 11,
   "metadata": {},
   "outputs": [
    {
     "data": {
      "text/plain": [
       "<networkx.classes.multigraph.MultiGraph at 0x183436640>"
      ]
     },
     "execution_count": 11,
     "metadata": {},
     "output_type": "execute_result"
    }
   ],
   "source": [
    "G_primal"
   ]
  },
  {
   "cell_type": "code",
   "execution_count": 21,
   "metadata": {},
   "outputs": [],
   "source": [
    "mome_nodes, mome_edges = momepy.nx_to_gdf(G_primal)"
   ]
  },
  {
   "cell_type": "code",
   "execution_count": 22,
   "metadata": {},
   "outputs": [
    {
     "data": {
      "text/plain": [
       "2578"
      ]
     },
     "execution_count": 22,
     "metadata": {},
     "output_type": "execute_result"
    }
   ],
   "source": [
    "len(mome_nodes)"
   ]
  },
  {
   "cell_type": "code",
   "execution_count": 23,
   "metadata": {},
   "outputs": [
    {
     "data": {
      "text/plain": [
       "2062"
      ]
     },
     "execution_count": 23,
     "metadata": {},
     "output_type": "execute_result"
    }
   ],
   "source": [
    "len(nodes)"
   ]
  },
  {
   "cell_type": "code",
   "execution_count": 24,
   "metadata": {},
   "outputs": [],
   "source": [
    "mome_nodes.to_file(\"../data/processed/mome_test_nodes.gpkg\")"
   ]
  },
  {
   "cell_type": "code",
   "execution_count": null,
   "metadata": {},
   "outputs": [],
   "source": [
    "# Conclusion - topo issues - momepy creates additional nodes, not properly snapped\n",
    "\n",
    "# Still necessary with snapping etc. Also some nodes missing at intersections (maybe small overshoot edges that should not be there?)\n",
    "\n",
    "# Get parent - child info: Snap/join our nodes to Folkersma\n",
    "\n",
    "# Transfer info"
   ]
  }
 ],
 "metadata": {
  "kernelspec": {
   "display_name": "Python 3",
   "language": "python",
   "name": "python3"
  },
  "language_info": {
   "codemirror_mode": {
    "name": "ipython",
    "version": 3
   },
   "file_extension": ".py",
   "mimetype": "text/x-python",
   "name": "python",
   "nbconvert_exporter": "python",
   "pygments_lexer": "ipython3",
   "version": "3.9.16"
  },
  "orig_nbformat": 4
 },
 "nbformat": 4,
 "nbformat_minor": 2
}
