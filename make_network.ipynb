{
 "cells": [
  {
   "cell_type": "markdown",
   "metadata": {},
   "source": [
    "# Creating Folkersma joint network layer\n",
    "\n",
    "Assuming that the network data we received from Niras and Folkersma are in the folders `data/NIRAS` and `data/FOLKERSMA`, respectively (from Dropbox [here for Niras](https://www.dropbox.com/scl/fo/76ome1g3nqpr71akrifba/h?rlkey=3vijuusrgwil3wprd0gmfajhj&dl=0) and [here for Folkersma]())\n",
    "\n",
    "This script imports nodes and edges from both sources and merges them (one file for all nodes; one file for all edges)\n",
    "\n",
    "Run from main repo folder!"
   ]
  },
  {
   "cell_type": "code",
   "execution_count": 1,
   "metadata": {},
   "outputs": [],
   "source": [
    "import geopandas as gpd\n",
    "import matplotlib.pyplot as plt\n",
    "import pandas as pd"
   ]
  },
  {
   "cell_type": "code",
   "execution_count": 2,
   "metadata": {},
   "outputs": [],
   "source": [
    "# read in Niras data\n",
    "edges1 = gpd.read_file(\"data/NIRAS/straekninger.gpkg\")\n",
    "nodes1 = gpd.read_file(\"data/NIRAS/knudepunkter.gpkg\")\n",
    "\n",
    "# read in Folkersma data\n",
    "edges2 = gpd.read_file(\"data/FOLKERSMA/stretch.shp\")\n",
    "nodes2 = gpd.read_file(\"data/FOLKERSMA/node.shp\")"
   ]
  },
  {
   "cell_type": "code",
   "execution_count": 3,
   "metadata": {},
   "outputs": [],
   "source": [
    "# check that crs is the same for all data sets\n",
    "assert all([edges1.crs, edges2.crs, nodes1.crs, nodes2.crs])\n",
    "assert edges1.crs == edges2.crs\n",
    "assert nodes1.crs == nodes2.crs\n",
    "assert edges1.crs == nodes1.crs\n"
   ]
  },
  {
   "cell_type": "code",
   "execution_count": 4,
   "metadata": {},
   "outputs": [],
   "source": [
    "# make sure we have the same columns present in both data sets\n",
    "assert sorted(list(edges1.columns)) == sorted(list(edges2.columns))\n",
    "assert sorted(list(nodes1.columns)) == sorted(list(nodes2.columns))"
   ]
  },
  {
   "cell_type": "code",
   "execution_count": 5,
   "metadata": {},
   "outputs": [],
   "source": [
    "# make sure data sets don't intersect\n",
    "assert edges1.unary_union.intersection(edges2.unary_union).is_empty\n",
    "assert nodes1.unary_union.intersection(nodes2.unary_union).is_empty"
   ]
  },
  {
   "cell_type": "code",
   "execution_count": 6,
   "metadata": {},
   "outputs": [],
   "source": [
    "# merge the two data frames\n",
    "nodes = pd.concat([nodes1, nodes2], join = \"outer\", ignore_index=True)\n",
    "edges = pd.concat([edges1, edges2], join = \"outer\", ignore_index=True)\n",
    "assert len(nodes.columns) == len(nodes1.columns)\n",
    "assert len(edges.columns) == len(edges1.columns)"
   ]
  },
  {
   "cell_type": "code",
   "execution_count": 8,
   "metadata": {},
   "outputs": [],
   "source": [
    "# explode geometries\n",
    "nodes = nodes.explode(ignore_index=True)\n",
    "edges = edges.explode(ignore_index=True)"
   ]
  },
  {
   "cell_type": "code",
   "execution_count": 13,
   "metadata": {},
   "outputs": [],
   "source": [
    "# save as gpkgs\n",
    "nodes.to_file(\"data/raw/network/nodes.gpkg\")\n",
    "edges.to_file(\"data/raw/network/edges.gpkg\")"
   ]
  },
  {
   "cell_type": "code",
   "execution_count": null,
   "metadata": {},
   "outputs": [],
   "source": []
  }
 ],
 "metadata": {
  "kernelspec": {
   "display_name": "knupu",
   "language": "python",
   "name": "python3"
  },
  "language_info": {
   "codemirror_mode": {
    "name": "ipython",
    "version": 3
   },
   "file_extension": ".py",
   "mimetype": "text/x-python",
   "name": "python",
   "nbconvert_exporter": "python",
   "pygments_lexer": "ipython3",
   "version": "3.11.5"
  }
 },
 "nbformat": 4,
 "nbformat_minor": 2
}
